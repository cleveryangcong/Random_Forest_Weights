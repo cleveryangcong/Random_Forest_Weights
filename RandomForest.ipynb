{
 "cells": [
  {
   "cell_type": "code",
   "execution_count": 1,
   "id": "d0725663-55be-4f3c-a705-339fd7c1a511",
   "metadata": {},
   "outputs": [],
   "source": [
    "%load_ext lab_black"
   ]
  },
  {
   "cell_type": "code",
   "execution_count": 2,
   "id": "57784f5e-ede6-4f6d-9e44-a299e2f7b177",
   "metadata": {},
   "outputs": [],
   "source": [
    "import pandas as pd\n",
    "import numpy as np\n",
    "import matplotlib.pyplot as plt\n",
    "\n",
    "from sklearn.tree import DecisionTreeRegressor\n",
    "from sklearn.ensemble import RandomForestRegressor\n",
    "from sklearn import tree\n",
    "from sklearn.datasets import load_diabetes\n",
    "from sklearn.model_selection import train_test_split\n",
    "\n",
    "from DecisionTreeFunctions import *"
   ]
  },
  {
   "cell_type": "code",
   "execution_count": 3,
   "id": "bfa69521-316d-4dbd-a0ce-3135bb0e57fb",
   "metadata": {},
   "outputs": [],
   "source": [
    "diabetes = load_diabetes()\n",
    "df = pd.DataFrame(\n",
    "    data=np.c_[diabetes[\"data\"], diabetes[\"target\"]],\n",
    "    columns=diabetes[\"feature_names\"] + [\"target\"],\n",
    ")"
   ]
  },
  {
   "cell_type": "code",
   "execution_count": 4,
   "id": "ce3f5931-bcdb-4f3f-bbdf-71fef74e7288",
   "metadata": {},
   "outputs": [],
   "source": [
    "X = df.iloc[:, :-1].to_numpy(dtype=\"float32\")\n",
    "y = df.iloc[:, -1:].to_numpy().flatten()"
   ]
  },
  {
   "cell_type": "code",
   "execution_count": 5,
   "id": "f11b0c76-5eab-4a45-b9f5-8ca36749edda",
   "metadata": {},
   "outputs": [],
   "source": [
    "X_train, X_test, y_train, y_test = train_test_split(X, y, test_size=0.2)"
   ]
  },
  {
   "cell_type": "markdown",
   "id": "1b7ed648-7b95-4f18-810d-1c8cc2eddd84",
   "metadata": {},
   "source": [
    "### Model Training: Random Forest"
   ]
  },
  {
   "cell_type": "code",
   "execution_count": 6,
   "id": "930cbf39-023d-4cd4-ab3a-2df88c11568f",
   "metadata": {},
   "outputs": [],
   "source": [
    "rf = RandomForestRegressor(n_estimators=3, bootstrap=False)"
   ]
  },
  {
   "cell_type": "code",
   "execution_count": 7,
   "id": "e96194e0-0464-45ff-b6fe-be56480d4027",
   "metadata": {},
   "outputs": [
    {
     "data": {
      "text/html": [
       "<style>#sk-container-id-1 {color: black;background-color: white;}#sk-container-id-1 pre{padding: 0;}#sk-container-id-1 div.sk-toggleable {background-color: white;}#sk-container-id-1 label.sk-toggleable__label {cursor: pointer;display: block;width: 100%;margin-bottom: 0;padding: 0.3em;box-sizing: border-box;text-align: center;}#sk-container-id-1 label.sk-toggleable__label-arrow:before {content: \"▸\";float: left;margin-right: 0.25em;color: #696969;}#sk-container-id-1 label.sk-toggleable__label-arrow:hover:before {color: black;}#sk-container-id-1 div.sk-estimator:hover label.sk-toggleable__label-arrow:before {color: black;}#sk-container-id-1 div.sk-toggleable__content {max-height: 0;max-width: 0;overflow: hidden;text-align: left;background-color: #f0f8ff;}#sk-container-id-1 div.sk-toggleable__content pre {margin: 0.2em;color: black;border-radius: 0.25em;background-color: #f0f8ff;}#sk-container-id-1 input.sk-toggleable__control:checked~div.sk-toggleable__content {max-height: 200px;max-width: 100%;overflow: auto;}#sk-container-id-1 input.sk-toggleable__control:checked~label.sk-toggleable__label-arrow:before {content: \"▾\";}#sk-container-id-1 div.sk-estimator input.sk-toggleable__control:checked~label.sk-toggleable__label {background-color: #d4ebff;}#sk-container-id-1 div.sk-label input.sk-toggleable__control:checked~label.sk-toggleable__label {background-color: #d4ebff;}#sk-container-id-1 input.sk-hidden--visually {border: 0;clip: rect(1px 1px 1px 1px);clip: rect(1px, 1px, 1px, 1px);height: 1px;margin: -1px;overflow: hidden;padding: 0;position: absolute;width: 1px;}#sk-container-id-1 div.sk-estimator {font-family: monospace;background-color: #f0f8ff;border: 1px dotted black;border-radius: 0.25em;box-sizing: border-box;margin-bottom: 0.5em;}#sk-container-id-1 div.sk-estimator:hover {background-color: #d4ebff;}#sk-container-id-1 div.sk-parallel-item::after {content: \"\";width: 100%;border-bottom: 1px solid gray;flex-grow: 1;}#sk-container-id-1 div.sk-label:hover label.sk-toggleable__label {background-color: #d4ebff;}#sk-container-id-1 div.sk-serial::before {content: \"\";position: absolute;border-left: 1px solid gray;box-sizing: border-box;top: 0;bottom: 0;left: 50%;z-index: 0;}#sk-container-id-1 div.sk-serial {display: flex;flex-direction: column;align-items: center;background-color: white;padding-right: 0.2em;padding-left: 0.2em;position: relative;}#sk-container-id-1 div.sk-item {position: relative;z-index: 1;}#sk-container-id-1 div.sk-parallel {display: flex;align-items: stretch;justify-content: center;background-color: white;position: relative;}#sk-container-id-1 div.sk-item::before, #sk-container-id-1 div.sk-parallel-item::before {content: \"\";position: absolute;border-left: 1px solid gray;box-sizing: border-box;top: 0;bottom: 0;left: 50%;z-index: -1;}#sk-container-id-1 div.sk-parallel-item {display: flex;flex-direction: column;z-index: 1;position: relative;background-color: white;}#sk-container-id-1 div.sk-parallel-item:first-child::after {align-self: flex-end;width: 50%;}#sk-container-id-1 div.sk-parallel-item:last-child::after {align-self: flex-start;width: 50%;}#sk-container-id-1 div.sk-parallel-item:only-child::after {width: 0;}#sk-container-id-1 div.sk-dashed-wrapped {border: 1px dashed gray;margin: 0 0.4em 0.5em 0.4em;box-sizing: border-box;padding-bottom: 0.4em;background-color: white;}#sk-container-id-1 div.sk-label label {font-family: monospace;font-weight: bold;display: inline-block;line-height: 1.2em;}#sk-container-id-1 div.sk-label-container {text-align: center;}#sk-container-id-1 div.sk-container {/* jupyter's `normalize.less` sets `[hidden] { display: none; }` but bootstrap.min.css set `[hidden] { display: none !important; }` so we also need the `!important` here to be able to override the default hidden behavior on the sphinx rendered scikit-learn.org. See: https://github.com/scikit-learn/scikit-learn/issues/21755 */display: inline-block !important;position: relative;}#sk-container-id-1 div.sk-text-repr-fallback {display: none;}</style><div id=\"sk-container-id-1\" class=\"sk-top-container\"><div class=\"sk-text-repr-fallback\"><pre>RandomForestRegressor(bootstrap=False, n_estimators=3)</pre><b>In a Jupyter environment, please rerun this cell to show the HTML representation or trust the notebook. <br />On GitHub, the HTML representation is unable to render, please try loading this page with nbviewer.org.</b></div><div class=\"sk-container\" hidden><div class=\"sk-item\"><div class=\"sk-estimator sk-toggleable\"><input class=\"sk-toggleable__control sk-hidden--visually\" id=\"sk-estimator-id-1\" type=\"checkbox\" checked><label for=\"sk-estimator-id-1\" class=\"sk-toggleable__label sk-toggleable__label-arrow\">RandomForestRegressor</label><div class=\"sk-toggleable__content\"><pre>RandomForestRegressor(bootstrap=False, n_estimators=3)</pre></div></div></div></div></div>"
      ],
      "text/plain": [
       "RandomForestRegressor(bootstrap=False, n_estimators=3)"
      ]
     },
     "execution_count": 7,
     "metadata": {},
     "output_type": "execute_result"
    }
   ],
   "source": [
    "rf.fit(X_train, y_train)"
   ]
  },
  {
   "cell_type": "code",
   "execution_count": 11,
   "id": "98438cec-d4c1-422f-9e93-fd014660b5d7",
   "metadata": {},
   "outputs": [],
   "source": [
    "rf_estimators = rf.estimators_"
   ]
  },
  {
   "cell_type": "code",
   "execution_count": 12,
   "id": "6d1dafea-eb7d-40c5-9d22-53e7c60bde7d",
   "metadata": {},
   "outputs": [],
   "source": [
    "leaf_nodes_trees = []\n",
    "y_values_leaves_trees = []\n",
    "X_values_leaves_trees = []\n",
    "X_ids_leaves_trees = []\n",
    "weights_leaves_trees = (\n",
    "    []\n",
    ")  # 3-Dimensional with 1. Number of tree, 2. Number of leafs per tree, 3. Length of y_train\n",
    "for tree in rf_estimators:\n",
    "    a, b, c, d, e = calc_obs_distribution(tree, X_train, y_train)\n",
    "    leaf_nodes_trees.append(a)\n",
    "    y_values_leaves_trees.append(b)\n",
    "    X_values_leaves_trees.append(c)\n",
    "    X_ids_leaves_trees.append(d)\n",
    "    weights_leaves_trees.append(e)"
   ]
  },
  {
   "cell_type": "code",
   "execution_count": 13,
   "id": "22277dd8-74f5-490a-bbf7-ede842070bd8",
   "metadata": {},
   "outputs": [],
   "source": [
    "weights, mean_preds = calc_weights_rf(\n",
    "    rf, X_test, y_train, leaf_nodes_trees, weights_leaves_trees\n",
    ")"
   ]
  },
  {
   "cell_type": "code",
   "execution_count": 14,
   "id": "c37da705-8c27-4a5a-978e-d6f09bdbc70a",
   "metadata": {},
   "outputs": [],
   "source": [
    "true_preds = rf.predict(X_test)"
   ]
  },
  {
   "cell_type": "code",
   "execution_count": 15,
   "id": "d94014cc-5046-4908-a843-6e4022bcad37",
   "metadata": {},
   "outputs": [
    {
     "data": {
      "text/plain": [
       "array([ True,  True,  True,  True,  True,  True,  True,  True,  True,\n",
       "        True,  True,  True,  True,  True,  True,  True,  True,  True,\n",
       "        True,  True,  True,  True,  True,  True,  True,  True,  True,\n",
       "        True,  True,  True,  True,  True,  True,  True,  True,  True,\n",
       "        True,  True,  True,  True,  True,  True,  True,  True,  True,\n",
       "        True,  True,  True,  True,  True,  True,  True,  True,  True,\n",
       "        True,  True,  True,  True,  True,  True,  True,  True,  True,\n",
       "        True,  True,  True,  True,  True,  True,  True,  True,  True,\n",
       "        True,  True,  True,  True,  True,  True,  True,  True,  True,\n",
       "        True,  True,  True,  True,  True,  True,  True,  True])"
      ]
     },
     "execution_count": 15,
     "metadata": {},
     "output_type": "execute_result"
    }
   ],
   "source": [
    "np.round(mean_preds, 7) == np.round(true_preds, 7)"
   ]
  },
  {
   "cell_type": "code",
   "execution_count": null,
   "id": "00081518-60e5-4f9b-9ead-78f6efed7996",
   "metadata": {},
   "outputs": [],
   "source": [
    "def calc_weights_rf(rf, X_test, y_train, leaf_nodes_trees, weights_leaves_trees):\n",
    "    '''\n",
    "    Method to calculate the mean prediction and weights of a random forest\n",
    "    \n",
    "    Input: \n",
    "        param rf: Fully fitted random Forest\n",
    "        param X_test: OOS test data\n",
    "        param y_train: Data used to train the RF\n",
    "        param leaf_nodes_trees: 3-Dimensional: 1. number_trees, 2. number_leaf_nodes, \n",
    "                                3. array with leaf node indexes\n",
    "        param weights_leaves_trees: 3-Dimensional: 1. number_trees, 2. number_leaf_nodes\n",
    "                                    3. array with weights of individual leaf_nodes\n",
    "    \n",
    "    Output: \n",
    "        weights_all: list of length X_test with weights used to calculate mean prediction\n",
    "        mean_preds: List of mean predictions\n",
    "    '''\n",
    "    # Calculate index of the leaf that each sample is predicted as in all trees\n",
    "    X_test_id_leaves = []  # dim: num_trees x len_X_test\n",
    "    for tree in rf.estimators_:  # iterate number of tree times\n",
    "        X_test_id_leaves.append(tree.apply(X_test))\n",
    "\n",
    "    weights_all = []\n",
    "    mean_preds = []\n",
    "    for i in range(len(X_test)):  # iterate number of X_test times\n",
    "        weight_k = np.zeros(y_train.shape)\n",
    "        for j in range(len(X_test_id_leaves)):  # iterate number of trees times\n",
    "            X_id = X_test_id_leaves[j][i]\n",
    "            index = np.where(leaf_nodes_trees[j] == X_id)[0][\n",
    "                0\n",
    "            ]  # Calculate index of test\n",
    "            weight_k = weight_k + weights_leaves_trees[j][index]\n",
    "        weight = weight_k / len(X_test_id_leaves)\n",
    "        weights_all.append(weight)\n",
    "        mean_preds.append(np.dot(weight, y_train))\n",
    "\n",
    "    return weights_all, mean_preds"
   ]
  },
  {
   "cell_type": "code",
   "execution_count": null,
   "id": "0974b828-7768-450b-b13b-cb80008a85d5",
   "metadata": {},
   "outputs": [],
   "source": []
  },
  {
   "cell_type": "code",
   "execution_count": null,
   "id": "394535a9-6197-4ef0-b295-6fbb00e5529b",
   "metadata": {},
   "outputs": [],
   "source": []
  },
  {
   "cell_type": "code",
   "execution_count": 140,
   "id": "d56bfc24-1948-4294-9a01-3b3105e37ba8",
   "metadata": {},
   "outputs": [],
   "source": [
    "import sklearn.ensemble._forest as forest_utils"
   ]
  },
  {
   "cell_type": "code",
   "execution_count": 141,
   "id": "4a99be45-2866-4cd7-9d4a-e30cced971cb",
   "metadata": {},
   "outputs": [],
   "source": [
    "n_samples = len(y_train)  # number of training samples\n",
    "\n",
    "n_samples_bootstrap = forest_utils._get_n_samples_bootstrap(n_samples, rf.max_samples)\n",
    "\n",
    "unsampled_indices_trees = []\n",
    "sampled_indices_trees = []\n",
    "\n",
    "for estimator in rf.estimators_:\n",
    "    unsampled_indices = forest_utils._generate_unsampled_indices(\n",
    "        estimator.random_state, n_samples, n_samples_bootstrap\n",
    "    )\n",
    "    unsampled_indices_trees.append(unsampled_indices)\n",
    "\n",
    "    sampled_indices = forest_utils._generate_sample_indices(\n",
    "        estimator.random_state, n_samples, n_samples_bootstrap\n",
    "    )\n",
    "    sampled_indices_trees.append(sampled_indices)"
   ]
  },
  {
   "cell_type": "code",
   "execution_count": null,
   "id": "00311084-21f9-4698-8335-0aeab6ed761f",
   "metadata": {},
   "outputs": [],
   "source": [
    "def calc_obs_distribution(tree, X_train, y_train, bootstrap = True, max_samples = None):\n",
    "    \"\"\"\n",
    "    Function to calculate the distribution of observations in the leaf nodes of a tree-model\n",
    "    Input:\n",
    "        param tree: Fitted DecisionTreeRegressor\n",
    "        param X_train: Training samples used for fitting\n",
    "        param y_train: Training observations\n",
    "    Output:\n",
    "        leaf_nodes: Ordered numerical array with index of leaf nodes\n",
    "        y_values_leaves: List of arrays with y_values that fall into each leaf node (same order as leaf_nodes)\n",
    "        X_values_leaves: List of arrays with X_values that fall into each leaf node (same order as leaf_nodes)\n",
    "        X_ids_leaves: List of arrays that determine whether a training input is in a leaf or not.\n",
    "                      Length of number of leaves\n",
    "        weights_leaves: List of arrays with the weights of the training obs dependent on leaf\n",
    "\n",
    "    \"\"\"\n",
    "    # Calculate index of the leaf that each sample is predicted as\n",
    "    leaf_id_train = tree.apply(X_train)\n",
    "\n",
    "    # Get ids of leaf sorted\n",
    "    leaf_nodes = np.unique(leaf_id_train)\n",
    "\n",
    "    # Get list of boolean arrays with information on what observation is in which leaf\n",
    "    X_ids_leaves = []\n",
    "    for i in leaf_nodes:\n",
    "        X_ids_leaves.append(leaf_id_train == i)\n",
    "\n",
    "    # Get list of what observation values are in which leaf\n",
    "    y_values_leaves = []\n",
    "    for i in range(len(X_ids_leaves)):\n",
    "        y_values_leaves.append(y_train[X_ids_leaves[i]].flatten())\n",
    "\n",
    "    # Get list of what input values are in which leaf\n",
    "    X_values_leaves = []\n",
    "    for i in range(len(X_ids_leaves)):\n",
    "        X_values_leaves.append(X_train[X_ids_leaves[i]])\n",
    "\n",
    "    # Get list of weights of train obs of each leaf\n",
    "    weights_leaves = []\n",
    "    for i in range(len(X_ids_leaves)):\n",
    "        weights_true = 1 / np.sum(X_ids_leaves[i])\n",
    "        help_matrix = X_ids_leaves[i].astype(int)\n",
    "        help_matrix = help_matrix.astype(float)\n",
    "        help_matrix[help_matrix == 1] = weights_true\n",
    "        weights_leaves.append(help_matrix)\n",
    "\n",
    "    return leaf_nodes, y_values_leaves, X_values_leaves, X_ids_leaves, weights_leaves\n"
   ]
  }
 ],
 "metadata": {
  "kernelspec": {
   "display_name": "Python 3 (ipykernel)",
   "language": "python",
   "name": "python3"
  },
  "language_info": {
   "codemirror_mode": {
    "name": "ipython",
    "version": 3
   },
   "file_extension": ".py",
   "mimetype": "text/x-python",
   "name": "python",
   "nbconvert_exporter": "python",
   "pygments_lexer": "ipython3",
   "version": "3.11.3"
  }
 },
 "nbformat": 4,
 "nbformat_minor": 5
}
