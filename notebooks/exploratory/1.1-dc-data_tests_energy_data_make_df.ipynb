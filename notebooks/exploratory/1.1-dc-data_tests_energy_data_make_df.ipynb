{
 "cells": [
  {
   "cell_type": "code",
   "execution_count": 1,
   "id": "11e72e0d-9a64-41d2-83bd-622c187ae9a7",
   "metadata": {},
   "outputs": [],
   "source": [
    "%load_ext lab_black\n",
    "%load_ext autoreload"
   ]
  },
  {
   "cell_type": "code",
   "execution_count": 16,
   "id": "02894f43-dd29-4afe-9fe6-0285bc54df78",
   "metadata": {
    "tags": []
   },
   "outputs": [],
   "source": [
    "%autoreload 2\n",
    "# Dataset\n",
    "from sklearn.datasets import load_diabetes\n",
    "\n",
    "# Basics\n",
    "import pandas as pd\n",
    "import numpy as np\n",
    "\n",
    "# Plotting\n",
    "import matplotlib.pyplot as plt\n",
    "\n",
    "# Model\n",
    "from sklearn.ensemble import RandomForestRegressor\n",
    "\n",
    "# Helpful:\n",
    "from sklearn.model_selection import train_test_split\n",
    "\n",
    "# Path setup\n",
    "import sys\n",
    "import os\n",
    "\n",
    "sys.path.append(r\"C:\\Users\\delon\\OneDrive\\Python3_new\\HIWI\\RandomForest_Implementation\")\n",
    "# my functions:\n",
    "from src.methods.calc_mean import *\n",
    "from src.methods.calc_weights import *\n",
    "from src.methods.calc_dist import *"
   ]
  },
  {
   "cell_type": "code",
   "execution_count": 42,
   "id": "48d2be46-3e29-4829-b16e-091dc4fbebd4",
   "metadata": {},
   "outputs": [],
   "source": [
    "df_energy = pd.read_csv(r\"datasets\\energy_data.csv\")"
   ]
  },
  {
   "cell_type": "code",
   "execution_count": 43,
   "id": "7c14cde1-cd16-4383-83e2-2d8f614256b4",
   "metadata": {},
   "outputs": [],
   "source": [
    "df_energy = df_energy.rename(\n",
    "    columns={\n",
    "        \"Datum\": \"Date\",\n",
    "        \"Uhrzeit\": \"Time\",\n",
    "        \"Gesamt (Netzlast)[MWh]\": \"total_energy_usage\",\n",
    "        \"Residuallast[MWh]\": \"residual_energy_usage\",\n",
    "        \"Pumpspeicher[MWh]\": \"pump_storage\",\n",
    "    }\n",
    ")"
   ]
  },
  {
   "cell_type": "code",
   "execution_count": 44,
   "id": "284c0b3e-456a-4b3b-b9c2-d22cd8b7ff6c",
   "metadata": {},
   "outputs": [],
   "source": [
    "df_energy[\"datetime\"] = pd.to_datetime(df_energy[\"Date\"] + \" \" + df_energy[\"Time\"])"
   ]
  },
  {
   "cell_type": "code",
   "execution_count": 45,
   "id": "a164bac9-8c20-4e2d-a94a-9e06f71862eb",
   "metadata": {},
   "outputs": [],
   "source": [
    "df_energy = df_energy.set_index(\"datetime\")\n",
    "df_energy_hourly = df_energy.resample(\"H\").sum(numeric_only=True)"
   ]
  },
  {
   "cell_type": "code",
   "execution_count": 52,
   "id": "4327924e-7a3c-41dd-8880-e1917cd31c3a",
   "metadata": {},
   "outputs": [],
   "source": [
    "df_energy_hourly.to_csv(r\"datasets\\energy_data_hourly.csv\")"
   ]
  }
 ],
 "metadata": {
  "kernelspec": {
   "display_name": "Python 3 (ipykernel)",
   "language": "python",
   "name": "python3"
  },
  "language_info": {
   "codemirror_mode": {
    "name": "ipython",
    "version": 3
   },
   "file_extension": ".py",
   "mimetype": "text/x-python",
   "name": "python",
   "nbconvert_exporter": "python",
   "pygments_lexer": "ipython3",
   "version": "3.11.3"
  }
 },
 "nbformat": 4,
 "nbformat_minor": 5
}
