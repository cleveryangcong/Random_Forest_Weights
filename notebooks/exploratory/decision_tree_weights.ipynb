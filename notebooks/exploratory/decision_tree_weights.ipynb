{
 "cells": [
  {
   "cell_type": "code",
   "execution_count": 27,
   "id": "30ab8d13-62e9-457f-b5df-60f97062827c",
   "metadata": {},
   "outputs": [
    {
     "name": "stdout",
     "output_type": "stream",
     "text": [
      "The lab_black extension is already loaded. To reload it, use:\n",
      "  %reload_ext lab_black\n"
     ]
    }
   ],
   "source": [
    "%load_ext lab_black"
   ]
  },
  {
   "cell_type": "code",
   "execution_count": 16,
   "id": "693ff44c-d028-4938-a3f0-7a74826c5ae3",
   "metadata": {},
   "outputs": [],
   "source": [
    "import pandas as pd\n",
    "import numpy as np\n",
    "import matplotlib.pyplot as plt\n",
    "from sklearn.tree import DecisionTreeRegressor\n",
    "from sklearn.ensemble import RandomForestRegressor\n",
    "from sklearn import tree\n",
    "from sklearn.datasets import load_diabetes\n",
    "from sklearn.model_selection import train_test_split\n",
    "\n",
    "\n",
    "from collections import Counter\n",
    "\n",
    "from DecisionTreeFunctions import *"
   ]
  },
  {
   "cell_type": "code",
   "execution_count": 3,
   "id": "f98c621a-2bc2-4381-a84a-9c81f4825ecd",
   "metadata": {},
   "outputs": [],
   "source": [
    "diabetes = load_diabetes()\n",
    "df = pd.DataFrame(\n",
    "    data=np.c_[diabetes[\"data\"], diabetes[\"target\"]],\n",
    "    columns=diabetes[\"feature_names\"] + [\"target\"],\n",
    ")"
   ]
  },
  {
   "cell_type": "code",
   "execution_count": 18,
   "id": "5d256610-f741-41af-8e2c-618da5c50c5d",
   "metadata": {},
   "outputs": [],
   "source": [
    "X = df.iloc[:, :-1].to_numpy(dtype=\"float32\")\n",
    "y = df.iloc[:, -1:].to_numpy().flatten()"
   ]
  },
  {
   "cell_type": "code",
   "execution_count": 19,
   "id": "0343805b-4e0f-418d-9534-396fb57a68c9",
   "metadata": {},
   "outputs": [],
   "source": [
    "X_train, X_test, y_train, y_test = train_test_split(X, y, test_size=0.2)"
   ]
  },
  {
   "cell_type": "markdown",
   "id": "fdd77512-563f-4617-81c1-80ae947b1890",
   "metadata": {},
   "source": [
    "### 1. Build a RandomForest (but basically only use one tree)"
   ]
  },
  {
   "cell_type": "code",
   "execution_count": 268,
   "id": "e0e6b5e5-ed2c-4b77-9bcf-f83f259f5c36",
   "metadata": {},
   "outputs": [],
   "source": [
    "max_samples = 0.8\n",
    "bootstrap = True"
   ]
  },
  {
   "cell_type": "code",
   "execution_count": 269,
   "id": "892845bc-b0b8-45dd-a877-87233fdb70f9",
   "metadata": {},
   "outputs": [
    {
     "data": {
      "text/html": [
       "<style>#sk-container-id-12 {color: black;background-color: white;}#sk-container-id-12 pre{padding: 0;}#sk-container-id-12 div.sk-toggleable {background-color: white;}#sk-container-id-12 label.sk-toggleable__label {cursor: pointer;display: block;width: 100%;margin-bottom: 0;padding: 0.3em;box-sizing: border-box;text-align: center;}#sk-container-id-12 label.sk-toggleable__label-arrow:before {content: \"▸\";float: left;margin-right: 0.25em;color: #696969;}#sk-container-id-12 label.sk-toggleable__label-arrow:hover:before {color: black;}#sk-container-id-12 div.sk-estimator:hover label.sk-toggleable__label-arrow:before {color: black;}#sk-container-id-12 div.sk-toggleable__content {max-height: 0;max-width: 0;overflow: hidden;text-align: left;background-color: #f0f8ff;}#sk-container-id-12 div.sk-toggleable__content pre {margin: 0.2em;color: black;border-radius: 0.25em;background-color: #f0f8ff;}#sk-container-id-12 input.sk-toggleable__control:checked~div.sk-toggleable__content {max-height: 200px;max-width: 100%;overflow: auto;}#sk-container-id-12 input.sk-toggleable__control:checked~label.sk-toggleable__label-arrow:before {content: \"▾\";}#sk-container-id-12 div.sk-estimator input.sk-toggleable__control:checked~label.sk-toggleable__label {background-color: #d4ebff;}#sk-container-id-12 div.sk-label input.sk-toggleable__control:checked~label.sk-toggleable__label {background-color: #d4ebff;}#sk-container-id-12 input.sk-hidden--visually {border: 0;clip: rect(1px 1px 1px 1px);clip: rect(1px, 1px, 1px, 1px);height: 1px;margin: -1px;overflow: hidden;padding: 0;position: absolute;width: 1px;}#sk-container-id-12 div.sk-estimator {font-family: monospace;background-color: #f0f8ff;border: 1px dotted black;border-radius: 0.25em;box-sizing: border-box;margin-bottom: 0.5em;}#sk-container-id-12 div.sk-estimator:hover {background-color: #d4ebff;}#sk-container-id-12 div.sk-parallel-item::after {content: \"\";width: 100%;border-bottom: 1px solid gray;flex-grow: 1;}#sk-container-id-12 div.sk-label:hover label.sk-toggleable__label {background-color: #d4ebff;}#sk-container-id-12 div.sk-serial::before {content: \"\";position: absolute;border-left: 1px solid gray;box-sizing: border-box;top: 0;bottom: 0;left: 50%;z-index: 0;}#sk-container-id-12 div.sk-serial {display: flex;flex-direction: column;align-items: center;background-color: white;padding-right: 0.2em;padding-left: 0.2em;position: relative;}#sk-container-id-12 div.sk-item {position: relative;z-index: 1;}#sk-container-id-12 div.sk-parallel {display: flex;align-items: stretch;justify-content: center;background-color: white;position: relative;}#sk-container-id-12 div.sk-item::before, #sk-container-id-12 div.sk-parallel-item::before {content: \"\";position: absolute;border-left: 1px solid gray;box-sizing: border-box;top: 0;bottom: 0;left: 50%;z-index: -1;}#sk-container-id-12 div.sk-parallel-item {display: flex;flex-direction: column;z-index: 1;position: relative;background-color: white;}#sk-container-id-12 div.sk-parallel-item:first-child::after {align-self: flex-end;width: 50%;}#sk-container-id-12 div.sk-parallel-item:last-child::after {align-self: flex-start;width: 50%;}#sk-container-id-12 div.sk-parallel-item:only-child::after {width: 0;}#sk-container-id-12 div.sk-dashed-wrapped {border: 1px dashed gray;margin: 0 0.4em 0.5em 0.4em;box-sizing: border-box;padding-bottom: 0.4em;background-color: white;}#sk-container-id-12 div.sk-label label {font-family: monospace;font-weight: bold;display: inline-block;line-height: 1.2em;}#sk-container-id-12 div.sk-label-container {text-align: center;}#sk-container-id-12 div.sk-container {/* jupyter's `normalize.less` sets `[hidden] { display: none; }` but bootstrap.min.css set `[hidden] { display: none !important; }` so we also need the `!important` here to be able to override the default hidden behavior on the sphinx rendered scikit-learn.org. See: https://github.com/scikit-learn/scikit-learn/issues/21755 */display: inline-block !important;position: relative;}#sk-container-id-12 div.sk-text-repr-fallback {display: none;}</style><div id=\"sk-container-id-12\" class=\"sk-top-container\"><div class=\"sk-text-repr-fallback\"><pre>RandomForestRegressor(max_samples=0.8)</pre><b>In a Jupyter environment, please rerun this cell to show the HTML representation or trust the notebook. <br />On GitHub, the HTML representation is unable to render, please try loading this page with nbviewer.org.</b></div><div class=\"sk-container\" hidden><div class=\"sk-item\"><div class=\"sk-estimator sk-toggleable\"><input class=\"sk-toggleable__control sk-hidden--visually\" id=\"sk-estimator-id-12\" type=\"checkbox\" checked><label for=\"sk-estimator-id-12\" class=\"sk-toggleable__label sk-toggleable__label-arrow\">RandomForestRegressor</label><div class=\"sk-toggleable__content\"><pre>RandomForestRegressor(max_samples=0.8)</pre></div></div></div></div></div>"
      ],
      "text/plain": [
       "RandomForestRegressor(max_samples=0.8)"
      ]
     },
     "execution_count": 269,
     "metadata": {},
     "output_type": "execute_result"
    }
   ],
   "source": [
    "rf = RandomForestRegressor(bootstrap=bootstrap, max_samples=max_samples)\n",
    "rf.fit(X_train, y_train)"
   ]
  },
  {
   "cell_type": "markdown",
   "id": "6261b021-1a99-413d-944e-eb3181618f90",
   "metadata": {},
   "source": [
    "### 2. Method to get weights"
   ]
  },
  {
   "cell_type": "markdown",
   "id": "f08027d5-13ca-453d-a976-2779e4753f02",
   "metadata": {},
   "source": [
    "1. Goal: Get a method that returns the weights for the training sample X_train_base, while taking bootstrapping into consideration\n",
    "2. Parameters: tree, X_train_base, X_test, bootstrap, max_samples\n",
    "3. Implementation<br >\n",
    "    3.1 Get number of times a value from base X_train_base is sampled in the bootstrap sample X_train_boot <br >\n",
    "    3.2 Find all leaves of a tree & Get X_train_boot samples that fall into each tree <br >\n",
    "    3.3 Calculate weight dependent on leave for bootstrap sample <br >\n",
    "    3.4 Turn it into weights for base sample by multiplying cardinality with bootstrap weight <br >"
   ]
  },
  {
   "cell_type": "code",
   "execution_count": 184,
   "id": "12366235-9e5d-4048-8c44-361e7d25485f",
   "metadata": {},
   "outputs": [],
   "source": [
    "X_train_base = X_train\n",
    "tree = rf.estimators_[0]"
   ]
  },
  {
   "cell_type": "code",
   "execution_count": 315,
   "id": "739c0af6-8bfa-4080-a69a-a02cf6be2ee7",
   "metadata": {},
   "outputs": [],
   "source": [
    "import sklearn.ensemble._forest as forest_utils\n",
    "from collections import Counter\n",
    "\n",
    "\n",
    "def calc_weights_tree(tree, X_train_base, X_test, bootstrap, max_samples):\n",
    "    \"\"\"\n",
    "        Calculates weights of not bootstrapped training sample of a fitted (bootstrapped) tree\n",
    "        Only works for random forest trees (random values)\n",
    "    Args:\n",
    "        tree(decisiontree): fitted DecisionTreeRegressor on X_train_boot\n",
    "        X_train_base(Array): base training sample\n",
    "        X_test(array): test sample\n",
    "        bootstrap(boolean): whether tree was trained with bootstraping\n",
    "        max_samples(float or int): if bootstrap == True, number of samples to draw from X to train\n",
    "    Returns:\n",
    "        array: length(X_train_base) with weights of the base training sample\n",
    "    \"\"\"\n",
    "    # 1. Get number of times a value from base X_train_base is sampled in the bootstrap sample X_train_boot\n",
    "    n_samples = X_train_base.shape[0]\n",
    "\n",
    "    n_samples_bootstrap = forest_utils._get_n_samples_bootstrap(n_samples, max_samples)\n",
    "\n",
    "    unsampled_indices = forest_utils._generate_unsampled_indices(\n",
    "        tree.random_state, n_samples, n_samples_bootstrap\n",
    "    )\n",
    "    sampled_indices = forest_utils._generate_sample_indices(\n",
    "        tree.random_state, n_samples, n_samples_bootstrap\n",
    "    )\n",
    "    # Get X_train_bootstrap\n",
    "    X_train_bootstrap = X_train_base[sampled_indices]\n",
    "\n",
    "    # count the number of occurrences of each index in the bootstrap sample\n",
    "    sampled_counts = Counter(sampled_indices)\n",
    "\n",
    "    # create a dictionary where keys are the indices of the original samples and values are the number of times each sample was included in the bootstrap sample\n",
    "    sample_counts_dict = {i: sampled_counts.get(i, 0) for i in range(n_samples)}\n",
    "\n",
    "    # Decide based on bootstrap which dataset tree is trained on:\n",
    "    if bootstrap:\n",
    "        X_train = X_train_bootstrap\n",
    "    else:\n",
    "        X_train = X_train_base\n",
    "\n",
    "    # 2. Find all leaves of a tree\n",
    "    # Calculate index of the leaf that each sample is predicted as\n",
    "    leaf_id_train = tree.apply(X_train)\n",
    "\n",
    "    # Get ids of leaf sorted\n",
    "    leaf_nodes = np.unique(leaf_id_train)\n",
    "\n",
    "    # Get list of boolean arrays with information on what observation is in which leaf\n",
    "    X_ids_leaves = []\n",
    "    for i in leaf_nodes:\n",
    "        X_ids_leaves.append(leaf_id_train == i)\n",
    "\n",
    "    # Get list of weights of train obs of each leaf\n",
    "    weights_leaves = []\n",
    "    for i in range(len(X_ids_leaves)):\n",
    "        weights_true = 1 / np.sum(X_ids_leaves[i])\n",
    "        help_matrix = X_ids_leaves[i].astype(int)\n",
    "        help_matrix = help_matrix.astype(float)\n",
    "        help_matrix[help_matrix == 1] = weights_true\n",
    "        weights_leaves.append(help_matrix)\n",
    "\n",
    "    # 3. Calculate weight dependent on leave for bootstrap sample\n",
    "    X_test_id_leaves = tree.apply(X_test)\n",
    "\n",
    "    weights = []\n",
    "    for i in range(len(X_test_id_leaves)):\n",
    "        X_id = X_test_id_leaves[i]\n",
    "        index = np.where(leaf_nodes == X_id)[0][0]  # Calculate index of test\n",
    "\n",
    "        # Calculate mean through sum(weights * y_train)\n",
    "        weights.append(weights_leaves[index])\n",
    "\n",
    "    # Check if bootstrap true, otherwise continue\n",
    "    if not bootstrap:\n",
    "        final_weights = weights\n",
    "    else:\n",
    "        final_weights = []\n",
    "        for i in range(len(X_test_id_leaves)):  # Itereate through X_test\n",
    "            # Array with unique index values of X_train_base\n",
    "            total_length = sampled_indices[weights[i] > 0].shape[0]\n",
    "            base_indexes = np.unique(sampled_indices[weights[i] > 0])\n",
    "            final_weight = np.zeros(X_train_base.shape[0])\n",
    "            for index in range(len(base_indexes)):\n",
    "                bootstrapped_times = sample_counts_dict[base_indexes[index]]\n",
    "                final_weight[base_indexes[index]] = bootstrapped_times * (\n",
    "                    1 / total_length\n",
    "                )\n",
    "\n",
    "            final_weights.append(final_weight)\n",
    "\n",
    "    return np.array(final_weights)"
   ]
  },
  {
   "cell_type": "code",
   "execution_count": 316,
   "id": "9b4ed19c-e6c2-4a4d-a39d-0f8cf62cf5b9",
   "metadata": {},
   "outputs": [],
   "source": [
    "def calc_mean_tree(weights_tree, y_train):\n",
    "    \"\"\"\n",
    "        Function that calculates the mean prediction of tree based on the weights of a given X_test input and the y_train sample\n",
    "    Args:\n",
    "        weights(multi-dim-array): multi dim array with the weigths for the training sample\n",
    "        y_train(array): Array with y values used for training of the specific tree\n",
    "    Returns:\n",
    "        array: array of mean values\n",
    "    \"\"\"\n",
    "    X_test_length = len(weights_tree)\n",
    "    means = []\n",
    "    for i in range(X_test_length):\n",
    "        mean = np.dot(weights_tree[i], y_train)\n",
    "        means.append(mean)\n",
    "    return np.array(means)"
   ]
  },
  {
   "cell_type": "code",
   "execution_count": 317,
   "id": "6572a4a7-4494-4e64-8a47-2d9ff13a7a59",
   "metadata": {},
   "outputs": [],
   "source": [
    "def calc_weights_rf(rf, X_train_base, X_test, bootstrap, max_samples):\n",
    "    \"\"\"\n",
    "        Calculates weights of a random forest\n",
    "    Args:\n",
    "        rf(RandomForestRegressor): Trained random forest\n",
    "        X_train_base(array): Training sample used to train random forest\n",
    "        X_test(array): Test sample to evaluate on\n",
    "        bootstrap(boolean): whether bootstrapping is used or not\n",
    "        max_samples(float or int): if bootstrap == True, number of samples to draw from X to train\n",
    "    Returns:\n",
    "        array: 3-dim-array with weights of rf\n",
    "    \"\"\"\n",
    "    weights_rf = []\n",
    "    for tree in rf.estimators_:\n",
    "        weights_rf.append(\n",
    "            calc_weights_tree(tree, X_train_base, X_test, bootstrap, max_samples)\n",
    "        )\n",
    "    return np.array(weights_rf)"
   ]
  },
  {
   "cell_type": "code",
   "execution_count": 318,
   "id": "6e4b0ff1-d9aa-4d12-8588-4497f397cfdd",
   "metadata": {},
   "outputs": [],
   "source": [
    "def calc_mean_rf(weights_rf, y_train):\n",
    "    \"\"\"\n",
    "        Function that calculates the mean prediction of rf based on the weights of a given X_test input and the y_train sample\n",
    "    Args:\n",
    "        weights_rf(3-dim-array): three dimensional array with the weigths for the training sample\n",
    "        y_train(array): Array with y values used for training of the specific tree\n",
    "    Returns:\n",
    "        array: array of mean values\n",
    "\n",
    "    \"\"\"\n",
    "    number_of_trees = len(weights_rf)\n",
    "    X_test_length = len(weights_rf[0])\n",
    "    tree_means = []\n",
    "    for i in range(number_of_trees):\n",
    "        tree_mean = calc_mean_tree(weights_rf[i], y_train)\n",
    "        tree_means.append(tree_mean)\n",
    "    means = [np.mean(sublist) for sublist in zip(*tree_means)]\n",
    "    return np.array(means)"
   ]
  },
  {
   "cell_type": "code",
   "execution_count": null,
   "id": "54eb9f36-45e0-4f89-b263-6ef142c4edf7",
   "metadata": {},
   "outputs": [],
   "source": []
  }
 ],
 "metadata": {
  "kernelspec": {
   "display_name": "Python 3 (ipykernel)",
   "language": "python",
   "name": "python3"
  },
  "language_info": {
   "codemirror_mode": {
    "name": "ipython",
    "version": 3
   },
   "file_extension": ".py",
   "mimetype": "text/x-python",
   "name": "python",
   "nbconvert_exporter": "python",
   "pygments_lexer": "ipython3",
   "version": "3.11.3"
  }
 },
 "nbformat": 4,
 "nbformat_minor": 5
}
