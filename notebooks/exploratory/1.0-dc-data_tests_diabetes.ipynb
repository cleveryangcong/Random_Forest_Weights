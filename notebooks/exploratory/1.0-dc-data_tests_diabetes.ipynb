{
 "cells": [
  {
   "cell_type": "code",
   "execution_count": 1,
   "id": "a4c027ba-c4e7-4ef5-aeab-da08dc946997",
   "metadata": {},
   "outputs": [],
   "source": [
    "%load_ext lab_black\n",
    "%load_ext autoreload"
   ]
  },
  {
   "cell_type": "code",
   "execution_count": 2,
   "id": "d623be33-5c29-4ac6-b1e2-cc1e13abd137",
   "metadata": {},
   "outputs": [],
   "source": [
    "%autoreload 2\n",
    "# Dataset\n",
    "from sklearn.datasets import load_diabetes\n",
    "\n",
    "# Basics\n",
    "import pandas as pd\n",
    "import numpy as np\n",
    "\n",
    "# Plotting\n",
    "import matplotlib.pyplot as plt\n",
    "\n",
    "# Model\n",
    "from sklearn.ensemble import RandomForestRegressor\n",
    "\n",
    "# Helpful:\n",
    "from sklearn.model_selection import train_test_split\n",
    "\n",
    "# Path setup\n",
    "import sys\n",
    "\n",
    "sys.path.append(r\"C:\\Users\\delon\\OneDrive\\Python3_new\\HIWI\\RandomForest_Implementation\")\n",
    "# my functions:\n",
    "from src.methods.calc_mean import *\n",
    "from src.methods.calc_weights import *\n",
    "from src.methods.calc_dist import *"
   ]
  },
  {
   "cell_type": "markdown",
   "id": "8f27a3f5-fb73-4441-afd0-d574cec2a5a9",
   "metadata": {},
   "source": [
    "### 1. Loading Data & Train_test_split"
   ]
  },
  {
   "cell_type": "code",
   "execution_count": 3,
   "id": "165efb67-e184-4632-ad13-2f5aa8c9432f",
   "metadata": {},
   "outputs": [],
   "source": [
    "diabetes = load_diabetes()\n",
    "df_diabetes = pd.DataFrame(\n",
    "    data=np.c_[diabetes[\"data\"], diabetes[\"target\"]],\n",
    "    columns=diabetes[\"feature_names\"] + [\"target\"],\n",
    ")"
   ]
  },
  {
   "cell_type": "code",
   "execution_count": 4,
   "id": "c82c7548-a510-457f-91af-2c0a3e33a122",
   "metadata": {},
   "outputs": [],
   "source": [
    "X = df_diabetes.iloc[:, :-1].to_numpy(dtype=\"float32\")\n",
    "y = df_diabetes.iloc[:, -1:].to_numpy().flatten()"
   ]
  },
  {
   "cell_type": "code",
   "execution_count": 5,
   "id": "f7688b8a-a433-4ad0-b703-0e2c58fc29de",
   "metadata": {},
   "outputs": [],
   "source": [
    "X_train, X_test, y_train, y_test = train_test_split(X, y, test_size=0.2)"
   ]
  },
  {
   "cell_type": "markdown",
   "id": "60e2a2c7-3f36-4897-a2ee-662cb88598a7",
   "metadata": {},
   "source": [
    "### 2. Random Forest"
   ]
  },
  {
   "cell_type": "code",
   "execution_count": 6,
   "id": "8e140f2d-452b-4332-b421-a10ddd809198",
   "metadata": {},
   "outputs": [],
   "source": [
    "bootstrap = True\n",
    "max_sample = 0.7"
   ]
  },
  {
   "cell_type": "code",
   "execution_count": 7,
   "id": "65fe958e-6f1e-4bc1-87fd-ff4cadf25286",
   "metadata": {},
   "outputs": [],
   "source": [
    "rf = RandomForestRegressor(bootstrap=bootstrap, max_samples=max_sample)"
   ]
  },
  {
   "cell_type": "code",
   "execution_count": 8,
   "id": "f49e4d9b-90a5-4164-8c3e-2fa9cb3f5953",
   "metadata": {},
   "outputs": [
    {
     "data": {
      "text/html": [
       "<style>#sk-container-id-1 {color: black;background-color: white;}#sk-container-id-1 pre{padding: 0;}#sk-container-id-1 div.sk-toggleable {background-color: white;}#sk-container-id-1 label.sk-toggleable__label {cursor: pointer;display: block;width: 100%;margin-bottom: 0;padding: 0.3em;box-sizing: border-box;text-align: center;}#sk-container-id-1 label.sk-toggleable__label-arrow:before {content: \"▸\";float: left;margin-right: 0.25em;color: #696969;}#sk-container-id-1 label.sk-toggleable__label-arrow:hover:before {color: black;}#sk-container-id-1 div.sk-estimator:hover label.sk-toggleable__label-arrow:before {color: black;}#sk-container-id-1 div.sk-toggleable__content {max-height: 0;max-width: 0;overflow: hidden;text-align: left;background-color: #f0f8ff;}#sk-container-id-1 div.sk-toggleable__content pre {margin: 0.2em;color: black;border-radius: 0.25em;background-color: #f0f8ff;}#sk-container-id-1 input.sk-toggleable__control:checked~div.sk-toggleable__content {max-height: 200px;max-width: 100%;overflow: auto;}#sk-container-id-1 input.sk-toggleable__control:checked~label.sk-toggleable__label-arrow:before {content: \"▾\";}#sk-container-id-1 div.sk-estimator input.sk-toggleable__control:checked~label.sk-toggleable__label {background-color: #d4ebff;}#sk-container-id-1 div.sk-label input.sk-toggleable__control:checked~label.sk-toggleable__label {background-color: #d4ebff;}#sk-container-id-1 input.sk-hidden--visually {border: 0;clip: rect(1px 1px 1px 1px);clip: rect(1px, 1px, 1px, 1px);height: 1px;margin: -1px;overflow: hidden;padding: 0;position: absolute;width: 1px;}#sk-container-id-1 div.sk-estimator {font-family: monospace;background-color: #f0f8ff;border: 1px dotted black;border-radius: 0.25em;box-sizing: border-box;margin-bottom: 0.5em;}#sk-container-id-1 div.sk-estimator:hover {background-color: #d4ebff;}#sk-container-id-1 div.sk-parallel-item::after {content: \"\";width: 100%;border-bottom: 1px solid gray;flex-grow: 1;}#sk-container-id-1 div.sk-label:hover label.sk-toggleable__label {background-color: #d4ebff;}#sk-container-id-1 div.sk-serial::before {content: \"\";position: absolute;border-left: 1px solid gray;box-sizing: border-box;top: 0;bottom: 0;left: 50%;z-index: 0;}#sk-container-id-1 div.sk-serial {display: flex;flex-direction: column;align-items: center;background-color: white;padding-right: 0.2em;padding-left: 0.2em;position: relative;}#sk-container-id-1 div.sk-item {position: relative;z-index: 1;}#sk-container-id-1 div.sk-parallel {display: flex;align-items: stretch;justify-content: center;background-color: white;position: relative;}#sk-container-id-1 div.sk-item::before, #sk-container-id-1 div.sk-parallel-item::before {content: \"\";position: absolute;border-left: 1px solid gray;box-sizing: border-box;top: 0;bottom: 0;left: 50%;z-index: -1;}#sk-container-id-1 div.sk-parallel-item {display: flex;flex-direction: column;z-index: 1;position: relative;background-color: white;}#sk-container-id-1 div.sk-parallel-item:first-child::after {align-self: flex-end;width: 50%;}#sk-container-id-1 div.sk-parallel-item:last-child::after {align-self: flex-start;width: 50%;}#sk-container-id-1 div.sk-parallel-item:only-child::after {width: 0;}#sk-container-id-1 div.sk-dashed-wrapped {border: 1px dashed gray;margin: 0 0.4em 0.5em 0.4em;box-sizing: border-box;padding-bottom: 0.4em;background-color: white;}#sk-container-id-1 div.sk-label label {font-family: monospace;font-weight: bold;display: inline-block;line-height: 1.2em;}#sk-container-id-1 div.sk-label-container {text-align: center;}#sk-container-id-1 div.sk-container {/* jupyter's `normalize.less` sets `[hidden] { display: none; }` but bootstrap.min.css set `[hidden] { display: none !important; }` so we also need the `!important` here to be able to override the default hidden behavior on the sphinx rendered scikit-learn.org. See: https://github.com/scikit-learn/scikit-learn/issues/21755 */display: inline-block !important;position: relative;}#sk-container-id-1 div.sk-text-repr-fallback {display: none;}</style><div id=\"sk-container-id-1\" class=\"sk-top-container\"><div class=\"sk-text-repr-fallback\"><pre>RandomForestRegressor(max_samples=0.7)</pre><b>In a Jupyter environment, please rerun this cell to show the HTML representation or trust the notebook. <br />On GitHub, the HTML representation is unable to render, please try loading this page with nbviewer.org.</b></div><div class=\"sk-container\" hidden><div class=\"sk-item\"><div class=\"sk-estimator sk-toggleable\"><input class=\"sk-toggleable__control sk-hidden--visually\" id=\"sk-estimator-id-1\" type=\"checkbox\" checked><label for=\"sk-estimator-id-1\" class=\"sk-toggleable__label sk-toggleable__label-arrow\">RandomForestRegressor</label><div class=\"sk-toggleable__content\"><pre>RandomForestRegressor(max_samples=0.7)</pre></div></div></div></div></div>"
      ],
      "text/plain": [
       "RandomForestRegressor(max_samples=0.7)"
      ]
     },
     "execution_count": 8,
     "metadata": {},
     "output_type": "execute_result"
    }
   ],
   "source": [
    "rf.fit(X_train, y_train)"
   ]
  },
  {
   "cell_type": "markdown",
   "id": "8df49029-f8c6-47bd-bad4-5f9c6c049adc",
   "metadata": {},
   "source": [
    "### 3. Calculate Weights Random Forest"
   ]
  },
  {
   "cell_type": "code",
   "execution_count": 9,
   "id": "1518b4c0-5b7d-40ba-85fd-30e31a06d3a8",
   "metadata": {},
   "outputs": [],
   "source": [
    "rf_weights = calc_weights_rf(rf, X_train, X_test, bootstrap, max_sample)"
   ]
  },
  {
   "cell_type": "markdown",
   "id": "6b979f89-3fc2-4e1e-bdf9-fdd0aa95692d",
   "metadata": {},
   "source": [
    "### 4. Calc Mean with weights and normal:"
   ]
  },
  {
   "cell_type": "code",
   "execution_count": 10,
   "id": "93482f15-a48a-4574-80bd-b90850d6bcc5",
   "metadata": {},
   "outputs": [],
   "source": [
    "rf_mean_weights = calc_mean_rf(rf_weights, y_train)\n",
    "rf_mean_normal = rf.predict(X_test)"
   ]
  },
  {
   "cell_type": "code",
   "execution_count": 11,
   "id": "ac0c7cd1-c13f-464a-8e2f-d80292cb1650",
   "metadata": {
    "tags": []
   },
   "outputs": [
    {
     "data": {
      "text/plain": [
       "89"
      ]
     },
     "execution_count": 11,
     "metadata": {},
     "output_type": "execute_result"
    }
   ],
   "source": [
    "# Are the two the same?\n",
    "sum(np.round(rf_mean_weights, 5) == np.round(rf_mean_normal, 5))"
   ]
  },
  {
   "cell_type": "markdown",
   "id": "d1e1b4e9-835f-4db7-93f7-8ed856865519",
   "metadata": {
    "tags": []
   },
   "source": [
    "### 5. Calc Quantile Random Forest"
   ]
  },
  {
   "cell_type": "code",
   "execution_count": 12,
   "id": "8c764e1a-93d9-4d79-8486-b472f508c104",
   "metadata": {},
   "outputs": [],
   "source": [
    "rf_cdfs = calc_dist_rf(rf_weights, y_train)"
   ]
  },
  {
   "cell_type": "code",
   "execution_count": 13,
   "id": "48833934-8f53-48aa-8537-8291578eb971",
   "metadata": {},
   "outputs": [],
   "source": [
    "rf_median = calc_quantile_rf(rf_cdfs, 0.5, y_train)"
   ]
  },
  {
   "cell_type": "code",
   "execution_count": 15,
   "id": "499619cf-69f2-47ea-9128-529744b785e0",
   "metadata": {},
   "outputs": [
    {
     "data": {
      "text/plain": [
       "[138.390625,\n",
       " 87.00000000000098,\n",
       " 197.99999999999918,\n",
       " 270.0000000000013,\n",
       " 107.9999999999989,\n",
       " 87.99999999999984,\n",
       " 92.5234375,\n",
       " 185.00000000000085,\n",
       " 87.99999999999984,\n",
       " 151.00000000000023,\n",
       " 78.99999999999916,\n",
       " 258.490234375,\n",
       " 189.99999999999952,\n",
       " 94.9375,\n",
       " 93.99999999999956,\n",
       " 68.00000000000075,\n",
       " 94.9375,\n",
       " 133.5625,\n",
       " 112.99999999999979,\n",
       " 97.00000000000053,\n",
       " 72.00000000000058,\n",
       " 257.0000000000008,\n",
       " 178.00000000000009,\n",
       " 103.9999999999991,\n",
       " 95.99999999999947,\n",
       " 181.99999999999991,\n",
       " 73.2109375,\n",
       " 88.90234375,\n",
       " 164.00000000000074,\n",
       " 87.99999999999984,\n",
       " 224.9999999999979,\n",
       " 108.99999999999996,\n",
       " 220.00000000000034,\n",
       " 263.99999999999943,\n",
       " 77.435546875,\n",
       " 220.9999999999981,\n",
       " 72.00000000000058,\n",
       " 151.00000000000023,\n",
       " 148.046875,\n",
       " 200.552734375,\n",
       " 91.0000000000008,\n",
       " 95.541015625,\n",
       " 201.99999999999898,\n",
       " 234.953125,\n",
       " 88.90234375,\n",
       " 164.00000000000074,\n",
       " 93.73046875,\n",
       " 181.00000000000102,\n",
       " 111.8359375,\n",
       " 103.9999999999991,\n",
       " 103.38671875,\n",
       " 84.07421875,\n",
       " 94.9375,\n",
       " 163.73828125,\n",
       " 191.5,\n",
       " 178.00000000000009,\n",
       " 262.99999999999835,\n",
       " 212.0000000000007,\n",
       " 99.765625,\n",
       " 181.00000000000102,\n",
       " 173.39453125,\n",
       " 133.5625,\n",
       " 156.00000000000108,\n",
       " 71.400390625,\n",
       " 95.99999999999947,\n",
       " 197.00000000000028,\n",
       " 73.2109375,\n",
       " 87.99999999999984,\n",
       " 89.0000000000009,\n",
       " 85.00000000000107,\n",
       " 85.28125,\n",
       " 201.15625,\n",
       " 135.00000000000097,\n",
       " 114.25,\n",
       " 245.00000000000136,\n",
       " 143.21875,\n",
       " 72.00000000000058,\n",
       " 91.0000000000008,\n",
       " 128.99999999999903,\n",
       " 118.00000000000064,\n",
       " 263.99999999999943,\n",
       " 151.00000000000023,\n",
       " 248.00000000000014,\n",
       " 91.0000000000008,\n",
       " 79.24609375,\n",
       " 164.00000000000074,\n",
       " 82.99999999999896,\n",
       " 101.00000000000033,\n",
       " 133.5625]"
      ]
     },
     "execution_count": 15,
     "metadata": {},
     "output_type": "execute_result"
    }
   ],
   "source": [
    "rf_median"
   ]
  },
  {
   "cell_type": "code",
   "execution_count": null,
   "id": "352f8f70-fac3-458e-a5be-3235e9d4276b",
   "metadata": {},
   "outputs": [],
   "source": []
  }
 ],
 "metadata": {
  "kernelspec": {
   "display_name": "Python 3 (ipykernel)",
   "language": "python",
   "name": "python3"
  },
  "language_info": {
   "codemirror_mode": {
    "name": "ipython",
    "version": 3
   },
   "file_extension": ".py",
   "mimetype": "text/x-python",
   "name": "python",
   "nbconvert_exporter": "python",
   "pygments_lexer": "ipython3",
   "version": "3.11.3"
  }
 },
 "nbformat": 4,
 "nbformat_minor": 5
}
