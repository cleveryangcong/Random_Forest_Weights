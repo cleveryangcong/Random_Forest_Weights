{
 "cells": [
  {
   "cell_type": "code",
   "execution_count": 5,
   "id": "a4c027ba-c4e7-4ef5-aeab-da08dc946997",
   "metadata": {},
   "outputs": [
    {
     "name": "stdout",
     "output_type": "stream",
     "text": [
      "The lab_black extension is already loaded. To reload it, use:\n",
      "  %reload_ext lab_black\n",
      "The autoreload extension is already loaded. To reload it, use:\n",
      "  %reload_ext autoreload\n"
     ]
    }
   ],
   "source": [
    "%load_ext lab_black\n",
    "%load_ext autoreload"
   ]
  },
  {
   "cell_type": "code",
   "execution_count": 6,
   "id": "d623be33-5c29-4ac6-b1e2-cc1e13abd137",
   "metadata": {},
   "outputs": [],
   "source": [
    "%autoreload 2\n",
    "# Dataset\n",
    "from sklearn.datasets import load_diabetes\n",
    "\n",
    "# Basics\n",
    "import pandas as pd\n",
    "import numpy as np\n",
    "\n",
    "# Plotting\n",
    "import matplotlib.pyplot as plt\n",
    "\n",
    "# Model\n",
    "from sklearn.ensemble import RandomForestRegressor\n",
    "\n",
    "# Helpful:\n",
    "from sklearn.model_selection import train_test_split\n",
    "\n",
    "# Path setup\n",
    "import sys\n",
    "\n",
    "sys.path.append(r\"C:\\Users\\delon\\OneDrive\\Python3_new\\HIWI\\RandomForest_Implementation\")\n",
    "# my functions:\n",
    "from src.methods.calc_means import *\n",
    "from src.methods.calc_weights import *"
   ]
  },
  {
   "cell_type": "markdown",
   "id": "8f27a3f5-fb73-4441-afd0-d574cec2a5a9",
   "metadata": {},
   "source": [
    "### 1. Loading Data & Train_test_split"
   ]
  },
  {
   "cell_type": "code",
   "execution_count": 7,
   "id": "165efb67-e184-4632-ad13-2f5aa8c9432f",
   "metadata": {},
   "outputs": [],
   "source": [
    "diabetes = load_diabetes()\n",
    "df_diabetes = pd.DataFrame(\n",
    "    data=np.c_[diabetes[\"data\"], diabetes[\"target\"]],\n",
    "    columns=diabetes[\"feature_names\"] + [\"target\"],\n",
    ")"
   ]
  },
  {
   "cell_type": "code",
   "execution_count": 9,
   "id": "c82c7548-a510-457f-91af-2c0a3e33a122",
   "metadata": {},
   "outputs": [],
   "source": [
    "X = df_diabetes.iloc[:, :-1].to_numpy(dtype=\"float32\")\n",
    "y = df_diabetes.iloc[:, -1:].to_numpy().flatten()"
   ]
  },
  {
   "cell_type": "code",
   "execution_count": 10,
   "id": "f7688b8a-a433-4ad0-b703-0e2c58fc29de",
   "metadata": {},
   "outputs": [],
   "source": [
    "X_train, X_test, y_train, y_test = train_test_split(X, y, test_size=0.2)"
   ]
  },
  {
   "cell_type": "markdown",
   "id": "60e2a2c7-3f36-4897-a2ee-662cb88598a7",
   "metadata": {},
   "source": [
    "### 2. Random Forest"
   ]
  },
  {
   "cell_type": "code",
   "execution_count": 11,
   "id": "8e140f2d-452b-4332-b421-a10ddd809198",
   "metadata": {},
   "outputs": [],
   "source": [
    "bootstrap = True\n",
    "max_sample = 0.7"
   ]
  },
  {
   "cell_type": "code",
   "execution_count": 12,
   "id": "65fe958e-6f1e-4bc1-87fd-ff4cadf25286",
   "metadata": {},
   "outputs": [],
   "source": [
    "rf = RandomForestRegressor(bootstrap=bootstrap, max_samples=max_sample)"
   ]
  },
  {
   "cell_type": "code",
   "execution_count": 13,
   "id": "f49e4d9b-90a5-4164-8c3e-2fa9cb3f5953",
   "metadata": {},
   "outputs": [
    {
     "data": {
      "text/html": [
       "<style>#sk-container-id-1 {color: black;background-color: white;}#sk-container-id-1 pre{padding: 0;}#sk-container-id-1 div.sk-toggleable {background-color: white;}#sk-container-id-1 label.sk-toggleable__label {cursor: pointer;display: block;width: 100%;margin-bottom: 0;padding: 0.3em;box-sizing: border-box;text-align: center;}#sk-container-id-1 label.sk-toggleable__label-arrow:before {content: \"▸\";float: left;margin-right: 0.25em;color: #696969;}#sk-container-id-1 label.sk-toggleable__label-arrow:hover:before {color: black;}#sk-container-id-1 div.sk-estimator:hover label.sk-toggleable__label-arrow:before {color: black;}#sk-container-id-1 div.sk-toggleable__content {max-height: 0;max-width: 0;overflow: hidden;text-align: left;background-color: #f0f8ff;}#sk-container-id-1 div.sk-toggleable__content pre {margin: 0.2em;color: black;border-radius: 0.25em;background-color: #f0f8ff;}#sk-container-id-1 input.sk-toggleable__control:checked~div.sk-toggleable__content {max-height: 200px;max-width: 100%;overflow: auto;}#sk-container-id-1 input.sk-toggleable__control:checked~label.sk-toggleable__label-arrow:before {content: \"▾\";}#sk-container-id-1 div.sk-estimator input.sk-toggleable__control:checked~label.sk-toggleable__label {background-color: #d4ebff;}#sk-container-id-1 div.sk-label input.sk-toggleable__control:checked~label.sk-toggleable__label {background-color: #d4ebff;}#sk-container-id-1 input.sk-hidden--visually {border: 0;clip: rect(1px 1px 1px 1px);clip: rect(1px, 1px, 1px, 1px);height: 1px;margin: -1px;overflow: hidden;padding: 0;position: absolute;width: 1px;}#sk-container-id-1 div.sk-estimator {font-family: monospace;background-color: #f0f8ff;border: 1px dotted black;border-radius: 0.25em;box-sizing: border-box;margin-bottom: 0.5em;}#sk-container-id-1 div.sk-estimator:hover {background-color: #d4ebff;}#sk-container-id-1 div.sk-parallel-item::after {content: \"\";width: 100%;border-bottom: 1px solid gray;flex-grow: 1;}#sk-container-id-1 div.sk-label:hover label.sk-toggleable__label {background-color: #d4ebff;}#sk-container-id-1 div.sk-serial::before {content: \"\";position: absolute;border-left: 1px solid gray;box-sizing: border-box;top: 0;bottom: 0;left: 50%;z-index: 0;}#sk-container-id-1 div.sk-serial {display: flex;flex-direction: column;align-items: center;background-color: white;padding-right: 0.2em;padding-left: 0.2em;position: relative;}#sk-container-id-1 div.sk-item {position: relative;z-index: 1;}#sk-container-id-1 div.sk-parallel {display: flex;align-items: stretch;justify-content: center;background-color: white;position: relative;}#sk-container-id-1 div.sk-item::before, #sk-container-id-1 div.sk-parallel-item::before {content: \"\";position: absolute;border-left: 1px solid gray;box-sizing: border-box;top: 0;bottom: 0;left: 50%;z-index: -1;}#sk-container-id-1 div.sk-parallel-item {display: flex;flex-direction: column;z-index: 1;position: relative;background-color: white;}#sk-container-id-1 div.sk-parallel-item:first-child::after {align-self: flex-end;width: 50%;}#sk-container-id-1 div.sk-parallel-item:last-child::after {align-self: flex-start;width: 50%;}#sk-container-id-1 div.sk-parallel-item:only-child::after {width: 0;}#sk-container-id-1 div.sk-dashed-wrapped {border: 1px dashed gray;margin: 0 0.4em 0.5em 0.4em;box-sizing: border-box;padding-bottom: 0.4em;background-color: white;}#sk-container-id-1 div.sk-label label {font-family: monospace;font-weight: bold;display: inline-block;line-height: 1.2em;}#sk-container-id-1 div.sk-label-container {text-align: center;}#sk-container-id-1 div.sk-container {/* jupyter's `normalize.less` sets `[hidden] { display: none; }` but bootstrap.min.css set `[hidden] { display: none !important; }` so we also need the `!important` here to be able to override the default hidden behavior on the sphinx rendered scikit-learn.org. See: https://github.com/scikit-learn/scikit-learn/issues/21755 */display: inline-block !important;position: relative;}#sk-container-id-1 div.sk-text-repr-fallback {display: none;}</style><div id=\"sk-container-id-1\" class=\"sk-top-container\"><div class=\"sk-text-repr-fallback\"><pre>RandomForestRegressor(max_samples=0.7)</pre><b>In a Jupyter environment, please rerun this cell to show the HTML representation or trust the notebook. <br />On GitHub, the HTML representation is unable to render, please try loading this page with nbviewer.org.</b></div><div class=\"sk-container\" hidden><div class=\"sk-item\"><div class=\"sk-estimator sk-toggleable\"><input class=\"sk-toggleable__control sk-hidden--visually\" id=\"sk-estimator-id-1\" type=\"checkbox\" checked><label for=\"sk-estimator-id-1\" class=\"sk-toggleable__label sk-toggleable__label-arrow\">RandomForestRegressor</label><div class=\"sk-toggleable__content\"><pre>RandomForestRegressor(max_samples=0.7)</pre></div></div></div></div></div>"
      ],
      "text/plain": [
       "RandomForestRegressor(max_samples=0.7)"
      ]
     },
     "execution_count": 13,
     "metadata": {},
     "output_type": "execute_result"
    }
   ],
   "source": [
    "rf.fit(X_train, y_train)"
   ]
  },
  {
   "cell_type": "markdown",
   "id": "8df49029-f8c6-47bd-bad4-5f9c6c049adc",
   "metadata": {},
   "source": [
    "### 3. Calculate Weights Random Forest"
   ]
  },
  {
   "cell_type": "code",
   "execution_count": 14,
   "id": "1518b4c0-5b7d-40ba-85fd-30e31a06d3a8",
   "metadata": {},
   "outputs": [],
   "source": [
    "rf_weights = calc_weights_rf(rf, X_train, X_test, bootstrap, max_sample)"
   ]
  },
  {
   "cell_type": "markdown",
   "id": "6b979f89-3fc2-4e1e-bdf9-fdd0aa95692d",
   "metadata": {},
   "source": [
    "### 4. Calc Mean with weights and normal:"
   ]
  },
  {
   "cell_type": "code",
   "execution_count": 15,
   "id": "93482f15-a48a-4574-80bd-b90850d6bcc5",
   "metadata": {},
   "outputs": [],
   "source": [
    "rf_mean_weights = calc_mean_rf(rf_weights, y_train)\n",
    "rf_mean_normal = rf.predict(X_test)"
   ]
  },
  {
   "cell_type": "code",
   "execution_count": 16,
   "id": "ac0c7cd1-c13f-464a-8e2f-d80292cb1650",
   "metadata": {
    "tags": []
   },
   "outputs": [
    {
     "data": {
      "text/plain": [
       "89"
      ]
     },
     "execution_count": 16,
     "metadata": {},
     "output_type": "execute_result"
    }
   ],
   "source": [
    "# Are the two the same?\n",
    "sum(rf_mean_weights == rf_mean_normal)"
   ]
  },
  {
   "cell_type": "markdown",
   "id": "d1e1b4e9-835f-4db7-93f7-8ed856865519",
   "metadata": {
    "tags": []
   },
   "source": [
    "### 5. Calc Quantile Random Forest"
   ]
  },
  {
   "cell_type": "code",
   "execution_count": 19,
   "id": "8f05d8ca-da2c-4c67-8555-45e46018cd95",
   "metadata": {},
   "outputs": [
    {
     "data": {
      "text/plain": [
       "(100, 89, 353)"
      ]
     },
     "execution_count": 19,
     "metadata": {},
     "output_type": "execute_result"
    }
   ],
   "source": [
    "rf_weights.shape"
   ]
  },
  {
   "cell_type": "code",
   "execution_count": 22,
   "id": "82de0eca-99df-4f93-b774-c021eff6ef91",
   "metadata": {},
   "outputs": [
    {
     "data": {
      "text/plain": [
       "array([[0., 0., 0., ..., 0., 0., 0.],\n",
       "       [0., 0., 0., ..., 0., 0., 0.],\n",
       "       [0., 0., 0., ..., 0., 0., 0.],\n",
       "       ...,\n",
       "       [0., 0., 0., ..., 0., 0., 0.],\n",
       "       [0., 0., 0., ..., 0., 0., 0.],\n",
       "       [0., 0., 0., ..., 0., 0., 0.]])"
      ]
     },
     "execution_count": 22,
     "metadata": {},
     "output_type": "execute_result"
    }
   ],
   "source": [
    "rf_weights[0]"
   ]
  },
  {
   "cell_type": "code",
   "execution_count": 23,
   "id": "d7b514a2-7ae9-4a7a-a12b-066b07c0853b",
   "metadata": {},
   "outputs": [
    {
     "name": "stdout",
     "output_type": "stream",
     "text": [
      "Help on function calc_weights_rf in module src.methods.calc_weights:\n",
      "\n",
      "calc_weights_rf(rf, X_train_base, X_test, bootstrap, max_samples)\n",
      "        Calculates weights of a random forest\n",
      "    Args:\n",
      "        rf(RandomForestRegressor): Trained random forest\n",
      "        X_train_base(array): Training sample used to train random forest\n",
      "        X_test(array): Test sample to evaluate on\n",
      "        bootstrap(boolean): whether bootstrapping is used or not\n",
      "        max_samples(float or int): if bootstrap == True, number of samples to draw from X to train\n",
      "    Returns:\n",
      "        array: 3-dim-array with weights of rf shape (num_trees, num_X_test, num_leaves)\n",
      "\n"
     ]
    }
   ],
   "source": [
    "help(calc_weights_rf)"
   ]
  },
  {
   "cell_type": "code",
   "execution_count": null,
   "id": "7a37522a-75b7-4f42-931e-5734d517ca79",
   "metadata": {},
   "outputs": [],
   "source": []
  }
 ],
 "metadata": {
  "kernelspec": {
   "display_name": "Python 3 (ipykernel)",
   "language": "python",
   "name": "python3"
  },
  "language_info": {
   "codemirror_mode": {
    "name": "ipython",
    "version": 3
   },
   "file_extension": ".py",
   "mimetype": "text/x-python",
   "name": "python",
   "nbconvert_exporter": "python",
   "pygments_lexer": "ipython3",
   "version": "3.11.3"
  }
 },
 "nbformat": 4,
 "nbformat_minor": 5
}
