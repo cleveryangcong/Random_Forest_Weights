{
 "cells": [
  {
   "cell_type": "code",
   "execution_count": 1,
   "id": "d623be33-5c29-4ac6-b1e2-cc1e13abd137",
   "metadata": {
    "scrolled": true
   },
   "outputs": [],
   "source": [
    "# Dataset\n",
    "from sklearn.datasets import load_diabetes\n",
    "\n",
    "# Basics\n",
    "import pandas as pd\n",
    "import numpy as np\n",
    "\n",
    "# Plotting\n",
    "import matplotlib.pyplot as plt\n",
    "\n",
    "# Model\n",
    "from sklearn.ensemble import RandomForestRegressor\n",
    "\n",
    "# Helpful:\n",
    "from sklearn.model_selection import train_test_split\n",
    "\n",
    "import sys\n",
    "sys.path.append(\"/home/dchen/Random_Forest_Weights/\")\n",
    "# Now, you can import your modules\n",
    "from src_rf.methods.calc_mean import *\n",
    "from src_rf.methods.calc_weights import *\n",
    "from src_rf.methods.calc_dist import *"
   ]
  },
  {
   "cell_type": "markdown",
   "id": "8f27a3f5-fb73-4441-afd0-d574cec2a5a9",
   "metadata": {},
   "source": [
    "### 1. Loading Data & Train_test_split"
   ]
  },
  {
   "cell_type": "code",
   "execution_count": 2,
   "id": "165efb67-e184-4632-ad13-2f5aa8c9432f",
   "metadata": {},
   "outputs": [],
   "source": [
    "diabetes = load_diabetes()\n",
    "df_diabetes = pd.DataFrame(\n",
    "    data=np.c_[diabetes[\"data\"], diabetes[\"target\"]],\n",
    "    columns=diabetes[\"feature_names\"] + [\"target\"],\n",
    ")"
   ]
  },
  {
   "cell_type": "code",
   "execution_count": 3,
   "id": "c82c7548-a510-457f-91af-2c0a3e33a122",
   "metadata": {},
   "outputs": [],
   "source": [
    "X = df_diabetes.iloc[:, :-1].to_numpy(dtype=\"float32\")\n",
    "y = df_diabetes.iloc[:, -1:].to_numpy().flatten()"
   ]
  },
  {
   "cell_type": "code",
   "execution_count": 4,
   "id": "f7688b8a-a433-4ad0-b703-0e2c58fc29de",
   "metadata": {},
   "outputs": [],
   "source": [
    "X_train, X_test, y_train, y_test = train_test_split(X, y, test_size=0.2)"
   ]
  },
  {
   "cell_type": "markdown",
   "id": "60e2a2c7-3f36-4897-a2ee-662cb88598a7",
   "metadata": {},
   "source": [
    "### 2. Random Forest"
   ]
  },
  {
   "cell_type": "code",
   "execution_count": 5,
   "id": "8e140f2d-452b-4332-b421-a10ddd809198",
   "metadata": {},
   "outputs": [],
   "source": [
    "bootstrap = True\n",
    "max_sample = 0.7"
   ]
  },
  {
   "cell_type": "code",
   "execution_count": 6,
   "id": "65fe958e-6f1e-4bc1-87fd-ff4cadf25286",
   "metadata": {},
   "outputs": [],
   "source": [
    "rf = RandomForestRegressor(bootstrap=bootstrap, max_samples=max_sample, random_state=42)"
   ]
  },
  {
   "cell_type": "code",
   "execution_count": 7,
   "id": "4c724033",
   "metadata": {},
   "outputs": [],
   "source": [
    "rf_no = RandomForestRegressor(random_state=42, bootstrap= False)"
   ]
  },
  {
   "cell_type": "code",
   "execution_count": 8,
   "id": "f49e4d9b-90a5-4164-8c3e-2fa9cb3f5953",
   "metadata": {},
   "outputs": [
    {
     "data": {
      "text/plain": [
       "RandomForestRegressor(bootstrap=False, random_state=42)"
      ]
     },
     "execution_count": 8,
     "metadata": {},
     "output_type": "execute_result"
    }
   ],
   "source": [
    "rf.fit(X_train, y_train)\n",
    "rf_no.fit(X_train, y_train)"
   ]
  },
  {
   "cell_type": "markdown",
   "id": "8df49029-f8c6-47bd-bad4-5f9c6c049adc",
   "metadata": {},
   "source": [
    "### 3. Calculate Weights Random Forest"
   ]
  },
  {
   "cell_type": "code",
   "execution_count": 9,
   "id": "1518b4c0-5b7d-40ba-85fd-30e31a06d3a8",
   "metadata": {
    "scrolled": true
   },
   "outputs": [
    {
     "name": "stderr",
     "output_type": "stream",
     "text": [
      "100it [00:00, 309.41it/s]\n",
      "100it [00:00, 251.75it/s]\n"
     ]
    }
   ],
   "source": [
    "rf_weights = calc_weights_rf(rf, X_train, X_test, bootstrap, max_sample)\n",
    "rf_no_weights = calc_weights_rf(rf_no, X_train, X_test, False, None)"
   ]
  },
  {
   "cell_type": "markdown",
   "id": "6b979f89-3fc2-4e1e-bdf9-fdd0aa95692d",
   "metadata": {},
   "source": [
    "### 4. Calc Mean with weights and normal:"
   ]
  },
  {
   "cell_type": "code",
   "execution_count": 10,
   "id": "93482f15-a48a-4574-80bd-b90850d6bcc5",
   "metadata": {},
   "outputs": [],
   "source": [
    "rf_mean_weights = calc_mean_rf(rf_weights, y_train)\n",
    "rf_mean_normal = rf.predict(X_test)\n",
    "\n",
    "rf_no_mean_weights = calc_mean_rf(rf_no_weights, y_train)\n",
    "rf_no_mean_normal = rf_no.predict(X_test)"
   ]
  },
  {
   "cell_type": "code",
   "execution_count": 11,
   "id": "ac0c7cd1-c13f-464a-8e2f-d80292cb1650",
   "metadata": {
    "tags": []
   },
   "outputs": [
    {
     "data": {
      "text/plain": [
       "89"
      ]
     },
     "execution_count": 11,
     "metadata": {},
     "output_type": "execute_result"
    }
   ],
   "source": [
    "# Are the two the same?\n",
    "sum(np.round(rf_mean_weights, 10) == np.round(rf_mean_normal, 10))"
   ]
  },
  {
   "cell_type": "code",
   "execution_count": 12,
   "id": "717ef683",
   "metadata": {},
   "outputs": [
    {
     "data": {
      "text/plain": [
       "89"
      ]
     },
     "execution_count": 12,
     "metadata": {},
     "output_type": "execute_result"
    }
   ],
   "source": [
    "# Are the two the same?\n",
    "sum(np.round(rf_no_mean_weights, 10) == np.round(rf_no_mean_normal, 10))"
   ]
  },
  {
   "cell_type": "code",
   "execution_count": 13,
   "id": "451a7059",
   "metadata": {},
   "outputs": [
    {
     "data": {
      "text/plain": [
       "array([230.35,  73.23, 288.  , 148.34,  96.39, 163.25, 105.17,  72.07,\n",
       "       225.64,  80.09, 179.2 , 189.63,  83.64, 112.14, 124.04,  62.6 ,\n",
       "       169.43,  95.92, 183.67, 166.97,  90.5 , 143.19, 118.07,  74.16,\n",
       "       246.9 , 257.04, 274.88, 211.64, 212.77, 162.06, 138.09, 275.  ,\n",
       "       257.62, 288.  ,  75.  ,  69.26, 292.92,  93.95, 149.48,  77.3 ,\n",
       "       217.14,  76.74, 215.4 , 132.  , 171.46, 138.44, 181.41,  58.14,\n",
       "        54.02,  71.96, 288.  ,  97.08,  98.94, 108.35,  74.8 , 103.03,\n",
       "        59.9 ,  52.4 , 233.  , 200.05, 146.28, 187.14, 141.86, 115.54,\n",
       "        54.44,  57.27,  71.32, 107.15, 170.6 , 105.16, 145.93, 266.02,\n",
       "        72.34, 302.  , 169.38, 142.41, 147.92, 100.82, 107.2 ,  91.  ,\n",
       "       102.03, 137.61,  79.87,  95.56, 124.76,  79.62,  77.58, 152.32,\n",
       "        92.74])"
      ]
     },
     "execution_count": 13,
     "metadata": {},
     "output_type": "execute_result"
    }
   ],
   "source": [
    "rf_no_mean_normal"
   ]
  },
  {
   "cell_type": "code",
   "execution_count": 14,
   "id": "4310561c",
   "metadata": {},
   "outputs": [
    {
     "data": {
      "text/plain": [
       "array([230.35,  73.23, 288.  , 148.34,  96.39, 163.25, 105.17,  72.07,\n",
       "       225.64,  80.09, 179.2 , 189.63,  83.64, 112.14, 124.04,  62.6 ,\n",
       "       169.43,  95.92, 183.67, 166.97,  90.5 , 143.19, 118.07,  74.16,\n",
       "       246.9 , 257.04, 274.88, 211.64, 212.77, 162.06, 138.09, 275.  ,\n",
       "       257.62, 288.  ,  75.  ,  69.26, 292.92,  93.95, 149.48,  77.3 ,\n",
       "       217.14,  76.74, 215.4 , 132.  , 171.46, 138.44, 181.41,  58.14,\n",
       "        54.02,  71.96, 288.  ,  97.08,  98.94, 108.35,  74.8 , 103.03,\n",
       "        59.9 ,  52.4 , 233.  , 200.05, 146.28, 187.14, 141.86, 115.54,\n",
       "        54.44,  57.27,  71.32, 107.15, 170.6 , 105.16, 145.93, 266.02,\n",
       "        72.34, 302.  , 169.38, 142.41, 147.92, 100.82, 107.2 ,  91.  ,\n",
       "       102.03, 137.61,  79.87,  95.56, 124.76,  79.62,  77.58, 152.32,\n",
       "        92.74])"
      ]
     },
     "execution_count": 14,
     "metadata": {},
     "output_type": "execute_result"
    }
   ],
   "source": [
    "rf_no_mean_weights"
   ]
  },
  {
   "cell_type": "markdown",
   "id": "d1e1b4e9-835f-4db7-93f7-8ed856865519",
   "metadata": {
    "tags": []
   },
   "source": [
    "### 5. Calc Quantile Random Forest"
   ]
  },
  {
   "cell_type": "code",
   "execution_count": 15,
   "id": "8c764e1a-93d9-4d79-8486-b472f508c104",
   "metadata": {},
   "outputs": [],
   "source": [
    "rf_cdfs = calc_dist_rf(rf_weights, y_train)"
   ]
  },
  {
   "cell_type": "code",
   "execution_count": 16,
   "id": "9a6631a2",
   "metadata": {},
   "outputs": [
    {
     "data": {
      "text/plain": [
       "89"
      ]
     },
     "execution_count": 16,
     "metadata": {},
     "output_type": "execute_result"
    }
   ],
   "source": [
    "len(rf_cdfs)"
   ]
  },
  {
   "cell_type": "code",
   "execution_count": 17,
   "id": "48833934-8f53-48aa-8537-8291578eb971",
   "metadata": {},
   "outputs": [],
   "source": [
    "rf_median = calc_quantile_rf(rf_cdfs, 0.5, y_train)"
   ]
  },
  {
   "cell_type": "code",
   "execution_count": 18,
   "id": "499619cf-69f2-47ea-9128-529744b785e0",
   "metadata": {
    "scrolled": false
   },
   "outputs": [
    {
     "data": {
      "text/plain": [
       "[201.9999999999994,\n",
       " 103.99609375,\n",
       " 175.00000000000037,\n",
       " 150.99999999999892,\n",
       " 76.99999999999929,\n",
       " 128.447265625,\n",
       " 112.7734375,\n",
       " 103.99609375,\n",
       " 139.99999999999932,\n",
       " 116.00000000000018]"
      ]
     },
     "execution_count": 18,
     "metadata": {},
     "output_type": "execute_result"
    }
   ],
   "source": [
    "rf_median[:10]"
   ]
  }
 ],
 "metadata": {
  "kernelspec": {
   "display_name": "Python 3 (ipykernel)",
   "language": "python",
   "name": "python3"
  },
  "language_info": {
   "codemirror_mode": {
    "name": "ipython",
    "version": 3
   },
   "file_extension": ".py",
   "mimetype": "text/x-python",
   "name": "python",
   "nbconvert_exporter": "python",
   "pygments_lexer": "ipython3",
   "version": "3.9.7"
  }
 },
 "nbformat": 4,
 "nbformat_minor": 5
}
