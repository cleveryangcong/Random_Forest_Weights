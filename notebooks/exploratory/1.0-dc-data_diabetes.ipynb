{
 "cells": [
  {
   "cell_type": "code",
   "execution_count": 1,
   "id": "d623be33-5c29-4ac6-b1e2-cc1e13abd137",
   "metadata": {
    "scrolled": true
   },
   "outputs": [],
   "source": [
    "# Dataset\n",
    "from sklearn.datasets import load_diabetes\n",
    "\n",
    "# Basics\n",
    "import pandas as pd\n",
    "import numpy as np\n",
    "\n",
    "# Plotting\n",
    "import matplotlib.pyplot as plt\n",
    "\n",
    "# Model\n",
    "from sklearn.ensemble import RandomForestRegressor\n",
    "\n",
    "# Helpful:\n",
    "from sklearn.model_selection import train_test_split\n",
    "\n",
    "import sys\n",
    "sys.path.append(\"/home/dchen/Random_Forest_Weights/\")\n",
    "# Now, you can import your modules\n",
    "from src_rf.methods.calc_mean import *\n",
    "from src_rf.methods.calc_weights import *\n",
    "from src_rf.methods.calc_dist import *"
   ]
  },
  {
   "cell_type": "markdown",
   "id": "8f27a3f5-fb73-4441-afd0-d574cec2a5a9",
   "metadata": {},
   "source": [
    "### 1. Loading Data & Train_test_split"
   ]
  },
  {
   "cell_type": "code",
   "execution_count": 2,
   "id": "165efb67-e184-4632-ad13-2f5aa8c9432f",
   "metadata": {},
   "outputs": [],
   "source": [
    "diabetes = load_diabetes()\n",
    "df_diabetes = pd.DataFrame(\n",
    "    data=np.c_[diabetes[\"data\"], diabetes[\"target\"]],\n",
    "    columns=diabetes[\"feature_names\"] + [\"target\"],\n",
    ")"
   ]
  },
  {
   "cell_type": "code",
   "execution_count": 3,
   "id": "c82c7548-a510-457f-91af-2c0a3e33a122",
   "metadata": {},
   "outputs": [],
   "source": [
    "X = df_diabetes.iloc[:, :-1].to_numpy(dtype=\"float32\")\n",
    "y = df_diabetes.iloc[:, -1:].to_numpy().flatten()"
   ]
  },
  {
   "cell_type": "code",
   "execution_count": 4,
   "id": "f7688b8a-a433-4ad0-b703-0e2c58fc29de",
   "metadata": {},
   "outputs": [],
   "source": [
    "X_train, X_test, y_train, y_test = train_test_split(X, y, test_size=0.2)"
   ]
  },
  {
   "cell_type": "markdown",
   "id": "60e2a2c7-3f36-4897-a2ee-662cb88598a7",
   "metadata": {},
   "source": [
    "### 2. Random Forest"
   ]
  },
  {
   "cell_type": "code",
   "execution_count": 5,
   "id": "8e140f2d-452b-4332-b421-a10ddd809198",
   "metadata": {},
   "outputs": [],
   "source": [
    "bootstrap = True\n",
    "max_sample = 0.7"
   ]
  },
  {
   "cell_type": "code",
   "execution_count": 6,
   "id": "65fe958e-6f1e-4bc1-87fd-ff4cadf25286",
   "metadata": {},
   "outputs": [],
   "source": [
    "rf = RandomForestRegressor(bootstrap=bootstrap, max_samples=max_sample, random_state=42)"
   ]
  },
  {
   "cell_type": "code",
   "execution_count": 7,
   "id": "4c724033",
   "metadata": {},
   "outputs": [],
   "source": [
    "rf_no = RandomForestRegressor(random_state=42, bootstrap= False)"
   ]
  },
  {
   "cell_type": "code",
   "execution_count": 8,
   "id": "f49e4d9b-90a5-4164-8c3e-2fa9cb3f5953",
   "metadata": {},
   "outputs": [
    {
     "data": {
      "text/plain": [
       "RandomForestRegressor(bootstrap=False, random_state=42)"
      ]
     },
     "execution_count": 8,
     "metadata": {},
     "output_type": "execute_result"
    }
   ],
   "source": [
    "rf.fit(X_train, y_train)\n",
    "rf_no.fit(X_train, y_train)"
   ]
  },
  {
   "cell_type": "markdown",
   "id": "8df49029-f8c6-47bd-bad4-5f9c6c049adc",
   "metadata": {},
   "source": [
    "### 3. Calculate Weights Random Forest"
   ]
  },
  {
   "cell_type": "code",
   "execution_count": 9,
   "id": "1518b4c0-5b7d-40ba-85fd-30e31a06d3a8",
   "metadata": {
    "scrolled": false
   },
   "outputs": [
    {
     "name": "stderr",
     "output_type": "stream",
     "text": [
      "100%|███████████████████████████████████████████████████████████████████████████████████████| 100/100 [00:01<00:00, 53.43it/s]\n"
     ]
    }
   ],
   "source": [
    "rf_weights = calc_weights_rf(rf, X_train, X_test, bootstrap, max_sample)\n"
   ]
  },
  {
   "cell_type": "code",
   "execution_count": 10,
   "id": "b8a9f6c8",
   "metadata": {
    "scrolled": true
   },
   "outputs": [
    {
     "name": "stderr",
     "output_type": "stream",
     "text": [
      "100%|███████████████████████████████████████████████████████████████████████████████████████| 100/100 [00:03<00:00, 33.30it/s]\n"
     ]
    }
   ],
   "source": [
    "rf_no_weights = calc_weights_rf(rf_no, X_train, X_test, False, None)"
   ]
  },
  {
   "cell_type": "markdown",
   "id": "6b979f89-3fc2-4e1e-bdf9-fdd0aa95692d",
   "metadata": {},
   "source": [
    "### 4. Calc Mean with weights and normal:"
   ]
  },
  {
   "cell_type": "code",
   "execution_count": 11,
   "id": "93482f15-a48a-4574-80bd-b90850d6bcc5",
   "metadata": {
    "scrolled": true
   },
   "outputs": [],
   "source": [
    "rf_mean_weights = calc_mean_rf(rf_weights, y_train)\n",
    "rf_mean_normal = rf.predict(X_test)"
   ]
  },
  {
   "cell_type": "code",
   "execution_count": 12,
   "id": "1ada103a",
   "metadata": {},
   "outputs": [],
   "source": [
    "rf_no_mean_weights = calc_mean_rf(rf_no_weights, y_train)\n",
    "rf_no_mean_normal = rf_no.predict(X_test)"
   ]
  },
  {
   "cell_type": "code",
   "execution_count": 13,
   "id": "ac0c7cd1-c13f-464a-8e2f-d80292cb1650",
   "metadata": {
    "tags": []
   },
   "outputs": [
    {
     "data": {
      "text/plain": [
       "89"
      ]
     },
     "execution_count": 13,
     "metadata": {},
     "output_type": "execute_result"
    }
   ],
   "source": [
    "# Are the two the same?\n",
    "sum(np.round(rf_mean_weights, 10) == np.round(rf_mean_normal, 10))"
   ]
  },
  {
   "cell_type": "code",
   "execution_count": 14,
   "id": "717ef683",
   "metadata": {},
   "outputs": [
    {
     "data": {
      "text/plain": [
       "89"
      ]
     },
     "execution_count": 14,
     "metadata": {},
     "output_type": "execute_result"
    }
   ],
   "source": [
    "# Are the two the same?\n",
    "sum(np.round(rf_no_mean_weights, 10) == np.round(rf_no_mean_normal, 10))"
   ]
  },
  {
   "cell_type": "code",
   "execution_count": 15,
   "id": "451a7059",
   "metadata": {},
   "outputs": [
    {
     "data": {
      "text/plain": [
       "array([243.94,  85.34,  99.  , 202.16,  31.  , 239.38,  79.86, 202.16,\n",
       "       219.25, 134.52,  86.79,  94.13, 135.05, 302.  ,  99.  ,  85.68,\n",
       "       127.91,  52.28, 199.64, 152.65, 201.32, 192.94, 208.04, 136.24,\n",
       "       119.19, 145.28,  69.52,  99.52, 289.84, 112.53,  65.  ,  52.  ,\n",
       "       168.12, 135.44, 135.32,  54.96,  68.74, 124.46, 232.52, 282.8 ,\n",
       "        69.24, 147.5 , 138.33,  72.29, 121.18,  51.68, 286.32, 222.24,\n",
       "       197.96, 135.08,  92.67, 182.42,  94.41, 125.5 , 118.  , 184.75,\n",
       "        92.15,  99.76, 213.24,  97.26,  78.5 , 152.  , 277.54, 239.45,\n",
       "        93.97,  97.98,  68.14,  46.22, 235.6 ,  89.84, 151.  , 195.2 ,\n",
       "       174.47,  52.  , 220.25, 241.76,  76.29, 287.  ,  91.  , 200.  ,\n",
       "       102.  , 142.9 , 207.29, 324.72, 149.7 ,  84.95, 276.14, 134.84,\n",
       "       201.6 ])"
      ]
     },
     "execution_count": 15,
     "metadata": {},
     "output_type": "execute_result"
    }
   ],
   "source": [
    "rf_no_mean_normal"
   ]
  },
  {
   "cell_type": "code",
   "execution_count": 16,
   "id": "4310561c",
   "metadata": {},
   "outputs": [
    {
     "data": {
      "text/plain": [
       "array([243.94,  85.34,  99.  , 202.16,  31.  , 239.38,  79.86, 202.16,\n",
       "       219.25, 134.52,  86.79,  94.13, 135.05, 302.  ,  99.  ,  85.68,\n",
       "       127.91,  52.28, 199.64, 152.65, 201.32, 192.94, 208.04, 136.24,\n",
       "       119.19, 145.28,  69.52,  99.52, 289.84, 112.53,  65.  ,  52.  ,\n",
       "       168.12, 135.44, 135.32,  54.96,  68.74, 124.46, 232.52, 282.8 ,\n",
       "        69.24, 147.5 , 138.33,  72.29, 121.18,  51.68, 286.32, 222.24,\n",
       "       197.96, 135.08,  92.67, 182.42,  94.41, 125.5 , 118.  , 184.75,\n",
       "        92.15,  99.76, 213.24,  97.26,  78.5 , 152.  , 277.54, 239.45,\n",
       "        93.97,  97.98,  68.14,  46.22, 235.6 ,  89.84, 151.  , 195.2 ,\n",
       "       174.47,  52.  , 220.25, 241.76,  76.29, 287.  ,  91.  , 200.  ,\n",
       "       102.  , 142.9 , 207.29, 324.72, 149.7 ,  84.95, 276.14, 134.84,\n",
       "       201.6 ])"
      ]
     },
     "execution_count": 16,
     "metadata": {},
     "output_type": "execute_result"
    }
   ],
   "source": [
    "rf_no_mean_weights"
   ]
  },
  {
   "cell_type": "markdown",
   "id": "d1e1b4e9-835f-4db7-93f7-8ed856865519",
   "metadata": {
    "tags": []
   },
   "source": [
    "### 5. Calc Quantile Random Forest"
   ]
  },
  {
   "cell_type": "code",
   "execution_count": 17,
   "id": "8c764e1a-93d9-4d79-8486-b472f508c104",
   "metadata": {},
   "outputs": [],
   "source": [
    "rf_cdfs = calc_dist_rf(rf_weights, y_train)"
   ]
  },
  {
   "cell_type": "code",
   "execution_count": 18,
   "id": "9a6631a2",
   "metadata": {},
   "outputs": [
    {
     "data": {
      "text/plain": [
       "89"
      ]
     },
     "execution_count": 18,
     "metadata": {},
     "output_type": "execute_result"
    }
   ],
   "source": [
    "len(rf_cdfs)"
   ]
  },
  {
   "cell_type": "code",
   "execution_count": 19,
   "id": "48833934-8f53-48aa-8537-8291578eb971",
   "metadata": {},
   "outputs": [],
   "source": [
    "rf_median = calc_quantile_rf(rf_cdfs, 0.5, y_train)"
   ]
  },
  {
   "cell_type": "code",
   "execution_count": 20,
   "id": "499619cf-69f2-47ea-9128-529744b785e0",
   "metadata": {
    "scrolled": false
   },
   "outputs": [
    {
     "data": {
      "text/plain": [
       "[263.109375,\n",
       " 83.3125,\n",
       " 208.0000000000002,\n",
       " 177.9999999999998,\n",
       " 88.00000000000082,\n",
       " 190.21875,\n",
       " 90.99999999999976,\n",
       " 264.0000000000013,\n",
       " 242.45703125,\n",
       " 161.0625]"
      ]
     },
     "execution_count": 20,
     "metadata": {},
     "output_type": "execute_result"
    }
   ],
   "source": [
    "rf_median[:10]"
   ]
  }
 ],
 "metadata": {
  "kernelspec": {
   "display_name": "Python 3 (ipykernel)",
   "language": "python",
   "name": "python3"
  },
  "language_info": {
   "codemirror_mode": {
    "name": "ipython",
    "version": 3
   },
   "file_extension": ".py",
   "mimetype": "text/x-python",
   "name": "python",
   "nbconvert_exporter": "python",
   "pygments_lexer": "ipython3",
   "version": "3.9.7"
  }
 },
 "nbformat": 4,
 "nbformat_minor": 5
}
