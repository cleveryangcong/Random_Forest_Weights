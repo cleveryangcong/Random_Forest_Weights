{
 "cells": [
  {
   "cell_type": "code",
   "execution_count": 4,
   "id": "d623be33-5c29-4ac6-b1e2-cc1e13abd137",
   "metadata": {
    "scrolled": true
   },
   "outputs": [],
   "source": [
    "# Dataset\n",
    "from sklearn.datasets import load_diabetes\n",
    "\n",
    "# Basics\n",
    "import pandas as pd\n",
    "import numpy as np\n",
    "\n",
    "# Plotting\n",
    "import matplotlib.pyplot as plt\n",
    "\n",
    "# Model\n",
    "from sklearn.ensemble import RandomForestRegressor\n",
    "\n",
    "# Helpful:\n",
    "from sklearn.model_selection import train_test_split\n",
    "\n",
    "import sys\n",
    "sys.path.append(\"/home/dchen/Random_Forest_Weights/\")\n",
    "# Now, you can import your modules\n",
    "from src_rf.methods.calc_mean import *\n",
    "from src_rf.methods.calc_weights import *\n",
    "from src_rf.methods.calc_dist import *"
   ]
  },
  {
   "cell_type": "markdown",
   "id": "8f27a3f5-fb73-4441-afd0-d574cec2a5a9",
   "metadata": {},
   "source": [
    "### 1. Loading Data & Train_test_split"
   ]
  },
  {
   "cell_type": "code",
   "execution_count": 16,
   "id": "165efb67-e184-4632-ad13-2f5aa8c9432f",
   "metadata": {},
   "outputs": [],
   "source": [
    "diabetes = load_diabetes()\n",
    "df_diabetes = pd.DataFrame(\n",
    "    data=np.c_[diabetes[\"data\"], diabetes[\"target\"]],\n",
    "    columns=diabetes[\"feature_names\"] + [\"target\"],\n",
    ")"
   ]
  },
  {
   "cell_type": "code",
   "execution_count": 17,
   "id": "c82c7548-a510-457f-91af-2c0a3e33a122",
   "metadata": {},
   "outputs": [],
   "source": [
    "X = df_diabetes.iloc[:, :-1].to_numpy(dtype=\"float32\")\n",
    "y = df_diabetes.iloc[:, -1:].to_numpy().flatten()"
   ]
  },
  {
   "cell_type": "code",
   "execution_count": 18,
   "id": "f7688b8a-a433-4ad0-b703-0e2c58fc29de",
   "metadata": {},
   "outputs": [],
   "source": [
    "X_train, X_test, y_train, y_test = train_test_split(X, y, test_size=0.2)"
   ]
  },
  {
   "cell_type": "markdown",
   "id": "60e2a2c7-3f36-4897-a2ee-662cb88598a7",
   "metadata": {},
   "source": [
    "### 2. Random Forest"
   ]
  },
  {
   "cell_type": "code",
   "execution_count": 20,
   "id": "8e140f2d-452b-4332-b421-a10ddd809198",
   "metadata": {},
   "outputs": [],
   "source": [
    "bootstrap = True\n",
    "max_sample = 0.7"
   ]
  },
  {
   "cell_type": "code",
   "execution_count": 21,
   "id": "65fe958e-6f1e-4bc1-87fd-ff4cadf25286",
   "metadata": {},
   "outputs": [],
   "source": [
    "rf = RandomForestRegressor(bootstrap=bootstrap, max_samples=max_sample)"
   ]
  },
  {
   "cell_type": "code",
   "execution_count": 22,
   "id": "f49e4d9b-90a5-4164-8c3e-2fa9cb3f5953",
   "metadata": {},
   "outputs": [
    {
     "data": {
      "text/plain": [
       "RandomForestRegressor(max_samples=0.7)"
      ]
     },
     "execution_count": 22,
     "metadata": {},
     "output_type": "execute_result"
    }
   ],
   "source": [
    "rf.fit(X_train, y_train)"
   ]
  },
  {
   "cell_type": "markdown",
   "id": "8df49029-f8c6-47bd-bad4-5f9c6c049adc",
   "metadata": {},
   "source": [
    "### 3. Calculate Weights Random Forest"
   ]
  },
  {
   "cell_type": "code",
   "execution_count": 23,
   "id": "1518b4c0-5b7d-40ba-85fd-30e31a06d3a8",
   "metadata": {
    "scrolled": true
   },
   "outputs": [
    {
     "name": "stderr",
     "output_type": "stream",
     "text": [
      "100%|██████████████████████████████████████████████████████████████████████████| 100/100 [00:00<00:00, 260.63it/s]\n"
     ]
    }
   ],
   "source": [
    "rf_weights = calc_weights_rf(rf, X_train, X_test, bootstrap, max_sample)"
   ]
  },
  {
   "cell_type": "code",
   "execution_count": 26,
   "id": "7b28c875",
   "metadata": {
    "scrolled": true
   },
   "outputs": [
    {
     "data": {
      "text/plain": [
       "(100, 89, 353)"
      ]
     },
     "execution_count": 26,
     "metadata": {},
     "output_type": "execute_result"
    }
   ],
   "source": [
    "rf_weights.shape"
   ]
  },
  {
   "cell_type": "code",
   "execution_count": 27,
   "id": "1051cd16",
   "metadata": {},
   "outputs": [
    {
     "data": {
      "text/plain": [
       "(89, 10)"
      ]
     },
     "execution_count": 27,
     "metadata": {},
     "output_type": "execute_result"
    }
   ],
   "source": [
    "X_test.shape"
   ]
  },
  {
   "cell_type": "code",
   "execution_count": 29,
   "id": "c94aa087",
   "metadata": {},
   "outputs": [
    {
     "data": {
      "text/plain": [
       "(353, 10)"
      ]
     },
     "execution_count": 29,
     "metadata": {},
     "output_type": "execute_result"
    }
   ],
   "source": [
    "X_train.shape"
   ]
  },
  {
   "cell_type": "markdown",
   "id": "6b979f89-3fc2-4e1e-bdf9-fdd0aa95692d",
   "metadata": {},
   "source": [
    "### 4. Calc Mean with weights and normal:"
   ]
  },
  {
   "cell_type": "code",
   "execution_count": 30,
   "id": "93482f15-a48a-4574-80bd-b90850d6bcc5",
   "metadata": {},
   "outputs": [],
   "source": [
    "rf_mean_weights = calc_mean_rf(rf_weights, y_train)\n",
    "rf_mean_normal = rf.predict(X_test)"
   ]
  },
  {
   "cell_type": "code",
   "execution_count": 32,
   "id": "ac0c7cd1-c13f-464a-8e2f-d80292cb1650",
   "metadata": {
    "tags": []
   },
   "outputs": [
    {
     "data": {
      "text/plain": [
       "89"
      ]
     },
     "execution_count": 32,
     "metadata": {},
     "output_type": "execute_result"
    }
   ],
   "source": [
    "# Are the two the same?\n",
    "sum(np.round(rf_mean_weights, 10) == np.round(rf_mean_normal, 10))"
   ]
  },
  {
   "cell_type": "markdown",
   "id": "d1e1b4e9-835f-4db7-93f7-8ed856865519",
   "metadata": {
    "tags": []
   },
   "source": [
    "### 5. Calc Quantile Random Forest"
   ]
  },
  {
   "cell_type": "code",
   "execution_count": 33,
   "id": "8c764e1a-93d9-4d79-8486-b472f508c104",
   "metadata": {},
   "outputs": [],
   "source": [
    "rf_cdfs = calc_dist_rf(rf_weights, y_train)"
   ]
  },
  {
   "cell_type": "code",
   "execution_count": 35,
   "id": "9a6631a2",
   "metadata": {},
   "outputs": [
    {
     "data": {
      "text/plain": [
       "89"
      ]
     },
     "execution_count": 35,
     "metadata": {},
     "output_type": "execute_result"
    }
   ],
   "source": [
    "len(rf_cdfs)"
   ]
  },
  {
   "cell_type": "code",
   "execution_count": 36,
   "id": "48833934-8f53-48aa-8537-8291578eb971",
   "metadata": {},
   "outputs": [],
   "source": [
    "rf_median = calc_quantile_rf(rf_cdfs, 0.5, y_train)"
   ]
  },
  {
   "cell_type": "code",
   "execution_count": 37,
   "id": "499619cf-69f2-47ea-9128-529744b785e0",
   "metadata": {
    "scrolled": false
   },
   "outputs": [
    {
     "data": {
      "text/plain": [
       "[236.0000000000008,\n",
       " 244.125,\n",
       " 92.99999999999977,\n",
       " 219.90625,\n",
       " 92.99999999999977,\n",
       " 280.9999999999995,\n",
       " 85.4921875,\n",
       " 76.99999999999892,\n",
       " 65.00000000000102,\n",
       " 239.28125]"
      ]
     },
     "execution_count": 37,
     "metadata": {},
     "output_type": "execute_result"
    }
   ],
   "source": [
    "rf_median[:10]"
   ]
  }
 ],
 "metadata": {
  "kernelspec": {
   "display_name": "Python 3 (ipykernel)",
   "language": "python",
   "name": "python3"
  },
  "language_info": {
   "codemirror_mode": {
    "name": "ipython",
    "version": 3
   },
   "file_extension": ".py",
   "mimetype": "text/x-python",
   "name": "python",
   "nbconvert_exporter": "python",
   "pygments_lexer": "ipython3",
   "version": "3.9.7"
  }
 },
 "nbformat": 4,
 "nbformat_minor": 5
}
