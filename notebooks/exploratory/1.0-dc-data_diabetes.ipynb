{
 "cells": [
  {
   "cell_type": "code",
   "execution_count": 1,
   "id": "d623be33-5c29-4ac6-b1e2-cc1e13abd137",
   "metadata": {
    "scrolled": true
   },
   "outputs": [],
   "source": [
    "# Dataset\n",
    "from sklearn.datasets import load_diabetes\n",
    "\n",
    "# Basics\n",
    "import pandas as pd\n",
    "import numpy as np\n",
    "\n",
    "# Plotting\n",
    "import matplotlib.pyplot as plt\n",
    "\n",
    "# Model\n",
    "from sklearn.ensemble import RandomForestRegressor\n",
    "\n",
    "# Helpful:\n",
    "from sklearn.model_selection import train_test_split\n",
    "\n",
    "import sys\n",
    "sys.path.append(\"/home/dchen/Random_Forest_Weights/\")\n",
    "# Now, you can import your modules\n",
    "from src_rf.methods.calc_mean import *\n",
    "from src_rf.methods.calc_weights import *\n",
    "from src_rf.methods.calc_dist import *"
   ]
  },
  {
   "cell_type": "markdown",
   "id": "8f27a3f5-fb73-4441-afd0-d574cec2a5a9",
   "metadata": {},
   "source": [
    "### 1. Loading Data & Train_test_split"
   ]
  },
  {
   "cell_type": "code",
   "execution_count": 2,
   "id": "165efb67-e184-4632-ad13-2f5aa8c9432f",
   "metadata": {},
   "outputs": [],
   "source": [
    "diabetes = load_diabetes()\n",
    "df_diabetes = pd.DataFrame(\n",
    "    data=np.c_[diabetes[\"data\"], diabetes[\"target\"]],\n",
    "    columns=diabetes[\"feature_names\"] + [\"target\"],\n",
    ")"
   ]
  },
  {
   "cell_type": "code",
   "execution_count": 3,
   "id": "c82c7548-a510-457f-91af-2c0a3e33a122",
   "metadata": {},
   "outputs": [],
   "source": [
    "X = df_diabetes.iloc[:, :-1].to_numpy(dtype=\"float32\")\n",
    "y = df_diabetes.iloc[:, -1:].to_numpy().flatten()"
   ]
  },
  {
   "cell_type": "code",
   "execution_count": 4,
   "id": "f7688b8a-a433-4ad0-b703-0e2c58fc29de",
   "metadata": {},
   "outputs": [],
   "source": [
    "X_train, X_test, y_train, y_test = train_test_split(X, y, test_size=0.2)"
   ]
  },
  {
   "cell_type": "markdown",
   "id": "60e2a2c7-3f36-4897-a2ee-662cb88598a7",
   "metadata": {},
   "source": [
    "### 2. Random Forest"
   ]
  },
  {
   "cell_type": "code",
   "execution_count": 5,
   "id": "8e140f2d-452b-4332-b421-a10ddd809198",
   "metadata": {},
   "outputs": [],
   "source": [
    "bootstrap = True\n",
    "max_sample = 0.7"
   ]
  },
  {
   "cell_type": "code",
   "execution_count": 6,
   "id": "65fe958e-6f1e-4bc1-87fd-ff4cadf25286",
   "metadata": {},
   "outputs": [],
   "source": [
    "rf = RandomForestRegressor(bootstrap=bootstrap, max_samples=max_sample, random_state=42)"
   ]
  },
  {
   "cell_type": "code",
   "execution_count": 7,
   "id": "4c724033",
   "metadata": {},
   "outputs": [],
   "source": [
    "rf_no = RandomForestRegressor(random_state=42, bootstrap= False)"
   ]
  },
  {
   "cell_type": "code",
   "execution_count": 8,
   "id": "f49e4d9b-90a5-4164-8c3e-2fa9cb3f5953",
   "metadata": {},
   "outputs": [
    {
     "data": {
      "text/plain": [
       "RandomForestRegressor(bootstrap=False, random_state=42)"
      ]
     },
     "execution_count": 8,
     "metadata": {},
     "output_type": "execute_result"
    }
   ],
   "source": [
    "rf.fit(X_train, y_train)\n",
    "rf_no.fit(X_train, y_train)"
   ]
  },
  {
   "cell_type": "markdown",
   "id": "8df49029-f8c6-47bd-bad4-5f9c6c049adc",
   "metadata": {},
   "source": [
    "### 3. Calculate Weights Random Forest"
   ]
  },
  {
   "cell_type": "code",
   "execution_count": 9,
   "id": "1518b4c0-5b7d-40ba-85fd-30e31a06d3a8",
   "metadata": {
    "scrolled": false
   },
   "outputs": [
    {
     "name": "stderr",
     "output_type": "stream",
     "text": [
      "100%|███████████████████████████████████████████████████████████████████████████████████████| 100/100 [00:01<00:00, 58.56it/s]\n"
     ]
    }
   ],
   "source": [
    "rf_weights = calc_weights_rf(rf, X_train, X_test, bootstrap, max_sample)\n"
   ]
  },
  {
   "cell_type": "code",
   "execution_count": 10,
   "id": "b8a9f6c8",
   "metadata": {
    "scrolled": true
   },
   "outputs": [
    {
     "name": "stderr",
     "output_type": "stream",
     "text": [
      "100%|███████████████████████████████████████████████████████████████████████████████████████| 100/100 [00:02<00:00, 34.70it/s]\n"
     ]
    }
   ],
   "source": [
    "rf_no_weights = calc_weights_rf(rf_no, X_train, X_test, False, None)"
   ]
  },
  {
   "cell_type": "markdown",
   "id": "6b979f89-3fc2-4e1e-bdf9-fdd0aa95692d",
   "metadata": {},
   "source": [
    "### 4. Calc Mean with weights and normal:"
   ]
  },
  {
   "cell_type": "code",
   "execution_count": 11,
   "id": "93482f15-a48a-4574-80bd-b90850d6bcc5",
   "metadata": {
    "scrolled": true
   },
   "outputs": [],
   "source": [
    "rf_mean_weights = calc_mean_rf(rf_weights, y_train)\n",
    "rf_mean_normal = rf.predict(X_test)"
   ]
  },
  {
   "cell_type": "code",
   "execution_count": 12,
   "id": "1ada103a",
   "metadata": {},
   "outputs": [],
   "source": [
    "rf_no_mean_weights = calc_mean_rf(rf_no_weights, y_train)\n",
    "rf_no_mean_normal = rf_no.predict(X_test)"
   ]
  },
  {
   "cell_type": "code",
   "execution_count": 13,
   "id": "ac0c7cd1-c13f-464a-8e2f-d80292cb1650",
   "metadata": {
    "tags": []
   },
   "outputs": [
    {
     "data": {
      "text/plain": [
       "89"
      ]
     },
     "execution_count": 13,
     "metadata": {},
     "output_type": "execute_result"
    }
   ],
   "source": [
    "# Are the two the same?\n",
    "sum(np.round(rf_mean_weights, 10) == np.round(rf_mean_normal, 10))"
   ]
  },
  {
   "cell_type": "code",
   "execution_count": 14,
   "id": "717ef683",
   "metadata": {},
   "outputs": [
    {
     "data": {
      "text/plain": [
       "89"
      ]
     },
     "execution_count": 14,
     "metadata": {},
     "output_type": "execute_result"
    }
   ],
   "source": [
    "# Are the two the same?\n",
    "sum(np.round(rf_no_mean_weights, 10) == np.round(rf_no_mean_normal, 10))"
   ]
  },
  {
   "cell_type": "code",
   "execution_count": 15,
   "id": "451a7059",
   "metadata": {},
   "outputs": [
    {
     "data": {
      "text/plain": [
       "array([195.8 , 163.82, 256.03, 211.6 , 134.  , 288.54, 131.35,  58.3 ,\n",
       "       275.14, 201.56,  99.78, 178.87,  50.02,  91.85,  62.42, 143.76,\n",
       "       156.57, 133.1 , 102.51, 136.26, 146.93, 102.2 ,  66.88, 184.08,\n",
       "        66.88,  99.91, 164.6 ,  56.09, 277.15,  62.82,  66.88, 176.79,\n",
       "       135.  , 125.92,  91.36, 101.98, 147.34, 170.2 , 140.26, 167.72,\n",
       "        80.36, 236.24, 135.77,  80.78,  57.2 , 201.73,  96.08, 158.32,\n",
       "        79.22, 185.93,  57.87, 294.89,  93.18,  52.86, 251.3 ,  85.93,\n",
       "       252.2 , 142.22,  89.43, 141.51, 267.66, 112.99,  60.24, 151.24,\n",
       "        93.32,  93.6 , 138.6 , 140.24, 270.6 ,  95.47, 251.19, 141.96,\n",
       "       161.41, 169.04,  83.72, 266.26, 112.83, 148.75, 147.95, 147.2 ,\n",
       "        93.19, 154.29, 273.53,  72.46, 158.16, 179.68, 216.16,  94.4 ,\n",
       "       161.63])"
      ]
     },
     "execution_count": 15,
     "metadata": {},
     "output_type": "execute_result"
    }
   ],
   "source": [
    "rf_no_mean_normal"
   ]
  },
  {
   "cell_type": "code",
   "execution_count": 16,
   "id": "4310561c",
   "metadata": {},
   "outputs": [
    {
     "data": {
      "text/plain": [
       "array([195.8 , 163.82, 256.03, 211.6 , 134.  , 288.54, 131.35,  58.3 ,\n",
       "       275.14, 201.56,  99.78, 178.87,  50.02,  91.85,  62.42, 143.76,\n",
       "       156.57, 133.1 , 102.51, 136.26, 146.93, 102.2 ,  66.88, 184.08,\n",
       "        66.88,  99.91, 164.6 ,  56.09, 277.15,  62.82,  66.88, 176.79,\n",
       "       135.  , 125.92,  91.36, 101.98, 147.34, 170.2 , 140.26, 167.72,\n",
       "        80.36, 236.24, 135.77,  80.78,  57.2 , 201.73,  96.08, 158.32,\n",
       "        79.22, 185.93,  57.87, 294.89,  93.18,  52.86, 251.3 ,  85.93,\n",
       "       252.2 , 142.22,  89.43, 141.51, 267.66, 112.99,  60.24, 151.24,\n",
       "        93.32,  93.6 , 138.6 , 140.24, 270.6 ,  95.47, 251.19, 141.96,\n",
       "       161.41, 169.04,  83.72, 266.26, 112.83, 148.75, 147.95, 147.2 ,\n",
       "        93.19, 154.29, 273.53,  72.46, 158.16, 179.68, 216.16,  94.4 ,\n",
       "       161.63])"
      ]
     },
     "execution_count": 16,
     "metadata": {},
     "output_type": "execute_result"
    }
   ],
   "source": [
    "rf_no_mean_weights"
   ]
  },
  {
   "cell_type": "markdown",
   "id": "d1e1b4e9-835f-4db7-93f7-8ed856865519",
   "metadata": {
    "tags": []
   },
   "source": [
    "### 5. Calc Quantile Random Forest"
   ]
  },
  {
   "cell_type": "code",
   "execution_count": 17,
   "id": "8c764e1a-93d9-4d79-8486-b472f508c104",
   "metadata": {},
   "outputs": [],
   "source": [
    "rf_cdfs = calc_dist_rf(rf_weights, y_train)"
   ]
  },
  {
   "cell_type": "code",
   "execution_count": 18,
   "id": "9a6631a2",
   "metadata": {},
   "outputs": [
    {
     "data": {
      "text/plain": [
       "89"
      ]
     },
     "execution_count": 18,
     "metadata": {},
     "output_type": "execute_result"
    }
   ],
   "source": [
    "len(rf_cdfs)"
   ]
  },
  {
   "cell_type": "code",
   "execution_count": 19,
   "id": "48833934-8f53-48aa-8537-8291578eb971",
   "metadata": {},
   "outputs": [],
   "source": [
    "rf_median = calc_quantile_rf(rf_cdfs, 0.5, y_train)"
   ]
  },
  {
   "cell_type": "code",
   "execution_count": 23,
   "id": "499619cf-69f2-47ea-9128-529744b785e0",
   "metadata": {
    "scrolled": false
   },
   "outputs": [
    {
     "data": {
      "text/plain": [
       "(89,)"
      ]
     },
     "execution_count": 23,
     "metadata": {},
     "output_type": "execute_result"
    }
   ],
   "source": [
    "np.array(rf_median).shape"
   ]
  },
  {
   "cell_type": "code",
   "execution_count": 24,
   "id": "e6d734a8",
   "metadata": {},
   "outputs": [
    {
     "data": {
      "text/plain": [
       "(89, 10)"
      ]
     },
     "execution_count": 24,
     "metadata": {},
     "output_type": "execute_result"
    }
   ],
   "source": [
    "X_test.shape"
   ]
  },
  {
   "cell_type": "code",
   "execution_count": null,
   "id": "3c17ec26",
   "metadata": {},
   "outputs": [],
   "source": []
  }
 ],
 "metadata": {
  "kernelspec": {
   "display_name": "Python 3 (ipykernel)",
   "language": "python",
   "name": "python3"
  },
  "language_info": {
   "codemirror_mode": {
    "name": "ipython",
    "version": 3
   },
   "file_extension": ".py",
   "mimetype": "text/x-python",
   "name": "python",
   "nbconvert_exporter": "python",
   "pygments_lexer": "ipython3",
   "version": "3.9.7"
  }
 },
 "nbformat": 4,
 "nbformat_minor": 5
}
