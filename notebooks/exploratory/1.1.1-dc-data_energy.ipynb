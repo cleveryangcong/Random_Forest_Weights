{
 "cells": [
  {
   "cell_type": "code",
   "execution_count": 3,
   "id": "4fbe45f2-7c25-425f-800d-9b0fe90a2f4e",
   "metadata": {
    "tags": []
   },
   "outputs": [],
   "source": [
    "# Dataset\n",
    "from sklearn.datasets import load_diabetes\n",
    "\n",
    "# Basics\n",
    "import pandas as pd\n",
    "import numpy as np\n",
    "\n",
    "# Plotting\n",
    "import matplotlib.pyplot as plt\n",
    "import seaborn as sns\n",
    "\n",
    "# Model\n",
    "from sklearn.ensemble import RandomForestRegressor\n",
    "\n",
    "# Helpful:\n",
    "from sklearn.model_selection import train_test_split\n",
    "\n",
    "# Path setup\n",
    "import sys\n",
    "import os\n",
    "\n",
    "sys.path.append(\"/home/dchen/Random_Forest_Weights/\")\n",
    "# my functions:\n",
    "from src_rf.methods.calc_mean import *\n",
    "from src_rf.methods.calc_weights import *\n",
    "from src_rf.methods.calc_dist import *"
   ]
  },
  {
   "cell_type": "markdown",
   "id": "81db0244",
   "metadata": {},
   "source": [
    "### 1. Load Data"
   ]
  },
  {
   "cell_type": "code",
   "execution_count": 4,
   "id": "cfef2048-de71-4b69-a190-3a5d4bcd071b",
   "metadata": {},
   "outputs": [],
   "source": [
    "df = pd.read_csv(\"/home/dchen/Random_Forest_Weights/src_rf/data/energy_data_hourly.csv\"\n",
    "                 , index_col = 'datetime', parse_dates=True)\n",
    "df.index = pd.to_datetime(df.index)"
   ]
  },
  {
   "cell_type": "code",
   "execution_count": 5,
   "id": "9acb1e03",
   "metadata": {
    "scrolled": true
   },
   "outputs": [
    {
     "data": {
      "text/html": [
       "<div>\n",
       "<style scoped>\n",
       "    .dataframe tbody tr th:only-of-type {\n",
       "        vertical-align: middle;\n",
       "    }\n",
       "\n",
       "    .dataframe tbody tr th {\n",
       "        vertical-align: top;\n",
       "    }\n",
       "\n",
       "    .dataframe thead th {\n",
       "        text-align: right;\n",
       "    }\n",
       "</style>\n",
       "<table border=\"1\" class=\"dataframe\">\n",
       "  <thead>\n",
       "    <tr style=\"text-align: right;\">\n",
       "      <th></th>\n",
       "      <th>total_energy_usage</th>\n",
       "      <th>residual_energy_usage</th>\n",
       "      <th>pump_storage</th>\n",
       "      <th>hour</th>\n",
       "      <th>month</th>\n",
       "      <th>Friday</th>\n",
       "      <th>Monday</th>\n",
       "      <th>Saturday</th>\n",
       "      <th>Sunday</th>\n",
       "      <th>Thursday</th>\n",
       "      <th>Tuesday</th>\n",
       "      <th>Wednesday</th>\n",
       "    </tr>\n",
       "    <tr>\n",
       "      <th>datetime</th>\n",
       "      <th></th>\n",
       "      <th></th>\n",
       "      <th></th>\n",
       "      <th></th>\n",
       "      <th></th>\n",
       "      <th></th>\n",
       "      <th></th>\n",
       "      <th></th>\n",
       "      <th></th>\n",
       "      <th></th>\n",
       "      <th></th>\n",
       "      <th></th>\n",
       "    </tr>\n",
       "  </thead>\n",
       "  <tbody>\n",
       "    <tr>\n",
       "      <th>2015-01-01 00:00:00</th>\n",
       "      <td>44.601</td>\n",
       "      <td>35.957</td>\n",
       "      <td>602.0</td>\n",
       "      <td>0</td>\n",
       "      <td>1</td>\n",
       "      <td>0</td>\n",
       "      <td>0</td>\n",
       "      <td>0</td>\n",
       "      <td>0</td>\n",
       "      <td>1</td>\n",
       "      <td>0</td>\n",
       "      <td>0</td>\n",
       "    </tr>\n",
       "    <tr>\n",
       "      <th>2015-01-01 01:00:00</th>\n",
       "      <td>43.455</td>\n",
       "      <td>34.642</td>\n",
       "      <td>347.0</td>\n",
       "      <td>1</td>\n",
       "      <td>1</td>\n",
       "      <td>0</td>\n",
       "      <td>0</td>\n",
       "      <td>0</td>\n",
       "      <td>0</td>\n",
       "      <td>1</td>\n",
       "      <td>0</td>\n",
       "      <td>0</td>\n",
       "    </tr>\n",
       "    <tr>\n",
       "      <th>2015-01-01 02:00:00</th>\n",
       "      <td>41.964</td>\n",
       "      <td>32.910</td>\n",
       "      <td>522.0</td>\n",
       "      <td>2</td>\n",
       "      <td>1</td>\n",
       "      <td>0</td>\n",
       "      <td>0</td>\n",
       "      <td>0</td>\n",
       "      <td>0</td>\n",
       "      <td>1</td>\n",
       "      <td>0</td>\n",
       "      <td>0</td>\n",
       "    </tr>\n",
       "    <tr>\n",
       "      <th>2015-01-01 03:00:00</th>\n",
       "      <td>40.618</td>\n",
       "      <td>31.548</td>\n",
       "      <td>1229.0</td>\n",
       "      <td>3</td>\n",
       "      <td>1</td>\n",
       "      <td>0</td>\n",
       "      <td>0</td>\n",
       "      <td>0</td>\n",
       "      <td>0</td>\n",
       "      <td>1</td>\n",
       "      <td>0</td>\n",
       "      <td>0</td>\n",
       "    </tr>\n",
       "    <tr>\n",
       "      <th>2015-01-01 04:00:00</th>\n",
       "      <td>39.936</td>\n",
       "      <td>30.775</td>\n",
       "      <td>1821.0</td>\n",
       "      <td>4</td>\n",
       "      <td>1</td>\n",
       "      <td>0</td>\n",
       "      <td>0</td>\n",
       "      <td>0</td>\n",
       "      <td>0</td>\n",
       "      <td>1</td>\n",
       "      <td>0</td>\n",
       "      <td>0</td>\n",
       "    </tr>\n",
       "  </tbody>\n",
       "</table>\n",
       "</div>"
      ],
      "text/plain": [
       "                     total_energy_usage  residual_energy_usage  pump_storage  \\\n",
       "datetime                                                                       \n",
       "2015-01-01 00:00:00              44.601                 35.957         602.0   \n",
       "2015-01-01 01:00:00              43.455                 34.642         347.0   \n",
       "2015-01-01 02:00:00              41.964                 32.910         522.0   \n",
       "2015-01-01 03:00:00              40.618                 31.548        1229.0   \n",
       "2015-01-01 04:00:00              39.936                 30.775        1821.0   \n",
       "\n",
       "                     hour  month  Friday  Monday  Saturday  Sunday  Thursday  \\\n",
       "datetime                                                                       \n",
       "2015-01-01 00:00:00     0      1       0       0         0       0         1   \n",
       "2015-01-01 01:00:00     1      1       0       0         0       0         1   \n",
       "2015-01-01 02:00:00     2      1       0       0         0       0         1   \n",
       "2015-01-01 03:00:00     3      1       0       0         0       0         1   \n",
       "2015-01-01 04:00:00     4      1       0       0         0       0         1   \n",
       "\n",
       "                     Tuesday  Wednesday  \n",
       "datetime                                 \n",
       "2015-01-01 00:00:00        0          0  \n",
       "2015-01-01 01:00:00        0          0  \n",
       "2015-01-01 02:00:00        0          0  \n",
       "2015-01-01 03:00:00        0          0  \n",
       "2015-01-01 04:00:00        0          0  "
      ]
     },
     "execution_count": 5,
     "metadata": {},
     "output_type": "execute_result"
    }
   ],
   "source": [
    "df.head()"
   ]
  },
  {
   "cell_type": "code",
   "execution_count": 6,
   "id": "f76797ab",
   "metadata": {},
   "outputs": [
    {
     "data": {
      "text/plain": [
       "(68184, 12)"
      ]
     },
     "execution_count": 6,
     "metadata": {},
     "output_type": "execute_result"
    }
   ],
   "source": [
    "df.shape"
   ]
  },
  {
   "cell_type": "markdown",
   "id": "948600d4-fc9c-4b3d-8324-6e4295a987a0",
   "metadata": {},
   "source": [
    "### 2. Train Test Split"
   ]
  },
  {
   "cell_type": "code",
   "execution_count": 7,
   "id": "4baba1ad",
   "metadata": {},
   "outputs": [],
   "source": [
    "X = df.drop('total_energy_usage', axis = 1).values\n",
    "y = df['total_energy_usage'].values"
   ]
  },
  {
   "cell_type": "code",
   "execution_count": 17,
   "id": "99db5674-b7c4-47ea-8138-74e1825e0bcc",
   "metadata": {},
   "outputs": [],
   "source": [
    "X_train, X_test, y_train, y_test = train_test_split(X, y, test_size=0.8, shuffle=False, random_state=42)"
   ]
  },
  {
   "cell_type": "markdown",
   "id": "51c4abbc-65d1-4478-aac5-979eadaa41db",
   "metadata": {
    "tags": []
   },
   "source": [
    "### 3. Random Forest"
   ]
  },
  {
   "cell_type": "code",
   "execution_count": 18,
   "id": "fdac7015-0db4-4c8b-b8f7-7b55b30385a8",
   "metadata": {},
   "outputs": [],
   "source": [
    "bootstrap = False\n",
    "max_samples = 0.8"
   ]
  },
  {
   "cell_type": "code",
   "execution_count": 19,
   "id": "1784660d-19c4-4e21-ae26-45f4a6dd92b1",
   "metadata": {},
   "outputs": [],
   "source": [
    "rf = RandomForestRegressor(\n",
    "    bootstrap=bootstrap, max_samples = max_samples, verbose=0, n_jobs=-1, random_state=42\n",
    ")"
   ]
  },
  {
   "cell_type": "code",
   "execution_count": 20,
   "id": "41117d0a-36e7-46a7-b488-645f99ae6e4e",
   "metadata": {
    "jupyter": {
     "outputs_hidden": true
    },
    "tags": []
   },
   "outputs": [
    {
     "data": {
      "text/plain": [
       "RandomForestRegressor(bootstrap=False, max_samples=0.8, n_jobs=-1,\n",
       "                      random_state=42)"
      ]
     },
     "execution_count": 20,
     "metadata": {},
     "output_type": "execute_result"
    }
   ],
   "source": [
    "rf.fit(X_train, y_train)"
   ]
  },
  {
   "cell_type": "markdown",
   "id": "e50cfd37-1695-4f2b-a8a8-fc5dfcdb2fe8",
   "metadata": {},
   "source": [
    "### 3. Calculate Weights Random Forest"
   ]
  },
  {
   "cell_type": "code",
   "execution_count": 21,
   "id": "5a08a498",
   "metadata": {},
   "outputs": [
    {
     "data": {
      "text/plain": [
       "(100, 11)"
      ]
     },
     "execution_count": 21,
     "metadata": {},
     "output_type": "execute_result"
    }
   ],
   "source": [
    "X_test[0:100,:].shape"
   ]
  },
  {
   "cell_type": "code",
   "execution_count": 22,
   "id": "9d3187a1",
   "metadata": {
    "scrolled": false
   },
   "outputs": [],
   "source": [
    "num_samples = X_test.shape[0]\n",
    "batch_size = 50\n",
    "\n",
    "for start_idx in range(0, num_samples, batch_size):\n",
    "    end_idx = min(start_idx + batch_size, num_samples)\n",
    "    batch = X_test[start_idx:end_idx]"
   ]
  },
  {
   "cell_type": "code",
   "execution_count": 23,
   "id": "fef8ff20",
   "metadata": {},
   "outputs": [
    {
     "data": {
      "text/plain": [
       "array([53.539])"
      ]
     },
     "execution_count": 23,
     "metadata": {},
     "output_type": "execute_result"
    }
   ],
   "source": [
    "X_test[13636: 13637,0]"
   ]
  },
  {
   "cell_type": "code",
   "execution_count": 24,
   "id": "040e3bf4",
   "metadata": {},
   "outputs": [
    {
     "data": {
      "text/plain": [
       "(54548, 11)"
      ]
     },
     "execution_count": 24,
     "metadata": {},
     "output_type": "execute_result"
    }
   ],
   "source": [
    "X_test.shape"
   ]
  },
  {
   "cell_type": "code",
   "execution_count": 25,
   "id": "7cd4ec1c-d4e5-46f5-9634-13beae08252c",
   "metadata": {
    "scrolled": true
   },
   "outputs": [
    {
     "name": "stderr",
     "output_type": "stream",
     "text": [
      "100%|███████████████████████████████████████████████████████████████████████████████████████| 100/100 [07:00<00:00,  4.20s/it]\n"
     ]
    }
   ],
   "source": [
    "rf_weights = calc_weights_rf(rf, X_train, X_test[0:100,:], bootstrap, max_samples)"
   ]
  },
  {
   "cell_type": "markdown",
   "id": "4ee83f2a-ff4e-4e24-aa05-220b2668c7d9",
   "metadata": {},
   "source": [
    "### 4. Calc Mean with weights and normal:"
   ]
  },
  {
   "cell_type": "code",
   "execution_count": 26,
   "id": "5b1d5b8f-5d26-4234-b8a0-cb4208b07f42",
   "metadata": {},
   "outputs": [],
   "source": [
    "rf_mean_weights = calc_mean_rf(rf_weights, y_train)\n",
    "rf_mean_normal = rf.predict(X_test)"
   ]
  },
  {
   "cell_type": "code",
   "execution_count": 27,
   "id": "0da89ba2",
   "metadata": {},
   "outputs": [
    {
     "data": {
      "text/plain": [
       "(54548,)"
      ]
     },
     "execution_count": 27,
     "metadata": {},
     "output_type": "execute_result"
    }
   ],
   "source": [
    "rf_mean_weights.shape\n",
    "rf_mean_normal.shape"
   ]
  },
  {
   "cell_type": "code",
   "execution_count": 28,
   "id": "d95c0077-00bc-4261-a3d2-c36172869e6e",
   "metadata": {
    "tags": []
   },
   "outputs": [
    {
     "data": {
      "text/plain": [
       "100"
      ]
     },
     "execution_count": 28,
     "metadata": {},
     "output_type": "execute_result"
    }
   ],
   "source": [
    "# Are the two the same?\n",
    "sum(np.round(rf_mean_weights, 5) == np.round(rf_mean_normal[0:100], 5))"
   ]
  },
  {
   "cell_type": "markdown",
   "id": "a86aff2a",
   "metadata": {},
   "source": [
    "### 5. Calc Quantile Random Forest"
   ]
  },
  {
   "cell_type": "code",
   "execution_count": 29,
   "id": "f75c3d26",
   "metadata": {},
   "outputs": [],
   "source": [
    "rf_cdfs = calc_dist_rf(rf_weights, y_train)"
   ]
  },
  {
   "cell_type": "code",
   "execution_count": 30,
   "id": "a8060c20",
   "metadata": {},
   "outputs": [],
   "source": [
    "rf_median = calc_quantile_rf(rf_cdfs, 0.5, y_train)"
   ]
  },
  {
   "cell_type": "markdown",
   "id": "6d65ac2d",
   "metadata": {},
   "source": [
    "### 6. Weights Analysis\n"
   ]
  },
  {
   "cell_type": "code",
   "execution_count": 37,
   "id": "15ce4c61",
   "metadata": {},
   "outputs": [
    {
     "data": {
      "text/plain": [
       "(100, 100, 54547)"
      ]
     },
     "execution_count": 37,
     "metadata": {},
     "output_type": "execute_result"
    }
   ],
   "source": [
    "rf_weights.shape"
   ]
  },
  {
   "cell_type": "code",
   "execution_count": 38,
   "id": "2a2a7b16",
   "metadata": {
    "scrolled": true
   },
   "outputs": [
    {
     "data": {
      "text/plain": [
       "<AxesSubplot:>"
      ]
     },
     "execution_count": 38,
     "metadata": {},
     "output_type": "execute_result"
    },
    {
     "data": {
      "image/png": "[encoded data removed]",
      "text/plain": [
       "<Figure size 432x288 with 2 Axes>"
      ]
     },
     "metadata": {
      "needs_background": "light"
     },
     "output_type": "display_data"
    }
   ],
   "source": [
    "sns.heatmap(np.sum(rf_weights, axis = 0))"
   ]
  },
  {
   "cell_type": "code",
   "execution_count": 39,
   "id": "4e406e70",
   "metadata": {
    "scrolled": false
   },
   "outputs": [
    {
     "data": {
      "image/png": "[encoded data removed]",
      "text/plain": [
       "<Figure size 432x288 with 1 Axes>"
      ]
     },
     "metadata": {
      "needs_background": "light"
     },
     "output_type": "display_data"
    }
   ],
   "source": [
    "plt.hist(np.sum(rf_weights, axis = 0).flatten(), bins = 10)\n",
    "plt.show()"
   ]
  },
  {
   "cell_type": "code",
   "execution_count": 40,
   "id": "ae2a34ca",
   "metadata": {},
   "outputs": [
    {
     "data": {
      "text/plain": [
       "(100, 54547)"
      ]
     },
     "execution_count": 40,
     "metadata": {},
     "output_type": "execute_result"
    }
   ],
   "source": [
    "np.mean(rf_weights, axis = 0).shape"
   ]
  },
  {
   "cell_type": "code",
   "execution_count": 41,
   "id": "881843ab",
   "metadata": {},
   "outputs": [
    {
     "data": {
      "text/plain": [
       "100.0"
      ]
     },
     "execution_count": 41,
     "metadata": {},
     "output_type": "execute_result"
    }
   ],
   "source": [
    "np.max(np.sum(rf_weights, axis = 0))"
   ]
  },
  {
   "cell_type": "code",
   "execution_count": 42,
   "id": "cf3826af",
   "metadata": {},
   "outputs": [
    {
     "data": {
      "text/plain": [
       "100"
      ]
     },
     "execution_count": 42,
     "metadata": {},
     "output_type": "execute_result"
    }
   ],
   "source": [
    "np.sum(rf_weights[0].flatten() == 1)"
   ]
  },
  {
   "cell_type": "code",
   "execution_count": 43,
   "id": "4dab62be",
   "metadata": {},
   "outputs": [
    {
     "data": {
      "text/plain": [
       "(54547, 10)"
      ]
     },
     "execution_count": 43,
     "metadata": {},
     "output_type": "execute_result"
    }
   ],
   "source": [
    "X_train.shape"
   ]
  },
  {
   "cell_type": "code",
   "execution_count": 44,
   "id": "a904e70a",
   "metadata": {},
   "outputs": [
    {
     "data": {
      "text/plain": [
       "1.0"
      ]
     },
     "execution_count": 44,
     "metadata": {},
     "output_type": "execute_result"
    }
   ],
   "source": [
    "rf_weights[0,0].sum()"
   ]
  },
  {
   "cell_type": "code",
   "execution_count": 45,
   "id": "89495a53",
   "metadata": {},
   "outputs": [
    {
     "data": {
      "text/plain": [
       "DecisionTreeRegressor(max_features='auto', random_state=1302015333)"
      ]
     },
     "execution_count": 45,
     "metadata": {},
     "output_type": "execute_result"
    }
   ],
   "source": [
    "rf.estimators_[0]"
   ]
  },
  {
   "cell_type": "code",
   "execution_count": null,
   "id": "bd505d78",
   "metadata": {},
   "outputs": [],
   "source": []
  }
 ],
 "metadata": {
  "kernelspec": {
   "display_name": "Python 3 (ipykernel)",
   "language": "python",
   "name": "python3"
  },
  "language_info": {
   "codemirror_mode": {
    "name": "ipython",
    "version": 3
   },
   "file_extension": ".py",
   "mimetype": "text/x-python",
   "name": "python",
   "nbconvert_exporter": "python",
   "pygments_lexer": "ipython3",
   "version": "3.9.7"
  }
 },
 "nbformat": 4,
 "nbformat_minor": 5
}
