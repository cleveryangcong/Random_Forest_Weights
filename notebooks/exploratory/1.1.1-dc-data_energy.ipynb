{
 "cells": [
  {
   "cell_type": "code",
   "execution_count": 1,
   "id": "4fbe45f2-7c25-425f-800d-9b0fe90a2f4e",
   "metadata": {
    "tags": []
   },
   "outputs": [],
   "source": [
    "# Dataset\n",
    "from sklearn.datasets import load_diabetes\n",
    "\n",
    "# Basics\n",
    "import pandas as pd\n",
    "import numpy as np\n",
    "\n",
    "# Plotting\n",
    "import matplotlib.pyplot as plt\n",
    "\n",
    "# Model\n",
    "from sklearn.ensemble import RandomForestRegressor\n",
    "\n",
    "# Helpful:\n",
    "from sklearn.model_selection import train_test_split\n",
    "\n",
    "# Path setup\n",
    "import sys\n",
    "import os\n",
    "\n",
    "sys.path.append(\"/home/dchen/Random_Forest_Weights/\")\n",
    "# my functions:\n",
    "from src.methods.calc_mean import *\n",
    "from src.methods.calc_weights import *\n",
    "from src.methods.calc_dist import *"
   ]
  },
  {
   "cell_type": "markdown",
   "id": "81db0244",
   "metadata": {},
   "source": [
    "### 1. Load Data"
   ]
  },
  {
   "cell_type": "code",
   "execution_count": 2,
   "id": "cfef2048-de71-4b69-a190-3a5d4bcd071b",
   "metadata": {},
   "outputs": [],
   "source": [
    "df = pd.read_csv(\"datasets/energy_data_hourly.csv\", index_col=\"datetime\")\n",
    "df.index = pd.to_datetime(df.index)"
   ]
  },
  {
   "cell_type": "code",
   "execution_count": 3,
   "id": "e9f97655-29c6-4f84-bb4a-9fb6285d3869",
   "metadata": {},
   "outputs": [],
   "source": [
    "# Create the 'weekday' column\n",
    "df[\"weekday\"] = df.index.day_name()\n",
    "# Create the 'time' column\n",
    "df[\"time\"] = df.index.time"
   ]
  },
  {
   "cell_type": "code",
   "execution_count": 4,
   "id": "eb98c231-564c-482b-bbf7-a25dc9e75227",
   "metadata": {},
   "outputs": [],
   "source": [
    "df[\"weekday\"] = df[\"weekday\"].astype(\"category\")\n",
    "df = pd.get_dummies(df, columns=[\"weekday\"], prefix=\"\", prefix_sep=\"\")\n",
    "\n",
    "df[\"time\"] = df[\"time\"].apply(lambda t: t.hour * 60 + t.minute)"
   ]
  },
  {
   "cell_type": "markdown",
   "id": "948600d4-fc9c-4b3d-8324-6e4295a987a0",
   "metadata": {},
   "source": [
    "### 2. Train Test Split"
   ]
  },
  {
   "cell_type": "code",
   "execution_count": 5,
   "id": "99db5674-b7c4-47ea-8138-74e1825e0bcc",
   "metadata": {},
   "outputs": [],
   "source": [
    "X_train, X_test, y_train, y_test = train_test_split(\n",
    "    df.iloc[:, 1:].to_numpy(),\n",
    "    df[\"total_energy_usage\"].to_numpy(),\n",
    "    test_size=0.2,\n",
    "    shuffle=False,\n",
    ")"
   ]
  },
  {
   "cell_type": "markdown",
   "id": "51c4abbc-65d1-4478-aac5-979eadaa41db",
   "metadata": {
    "tags": []
   },
   "source": [
    "### 3. Random Forest"
   ]
  },
  {
   "cell_type": "code",
   "execution_count": 6,
   "id": "fdac7015-0db4-4c8b-b8f7-7b55b30385a8",
   "metadata": {},
   "outputs": [],
   "source": [
    "bootstrap = True\n",
    "max_sample = 0.7"
   ]
  },
  {
   "cell_type": "code",
   "execution_count": 7,
   "id": "1784660d-19c4-4e21-ae26-45f4a6dd92b1",
   "metadata": {},
   "outputs": [],
   "source": [
    "rf = RandomForestRegressor(\n",
    "    bootstrap=bootstrap, max_samples=max_sample, verbose=0, n_jobs=-1\n",
    ")"
   ]
  },
  {
   "cell_type": "code",
   "execution_count": 8,
   "id": "41117d0a-36e7-46a7-b488-645f99ae6e4e",
   "metadata": {
    "jupyter": {
     "outputs_hidden": true
    },
    "tags": []
   },
   "outputs": [
    {
     "data": {
      "text/plain": [
       "RandomForestRegressor(max_samples=0.7, n_jobs=-1)"
      ]
     },
     "execution_count": 8,
     "metadata": {},
     "output_type": "execute_result"
    }
   ],
   "source": [
    "rf.fit(X_train, y_train)"
   ]
  },
  {
   "cell_type": "markdown",
   "id": "e50cfd37-1695-4f2b-a8a8-fc5dfcdb2fe8",
   "metadata": {},
   "source": [
    "### 3. Calculate Weights Random Forest"
   ]
  },
  {
   "cell_type": "code",
   "execution_count": null,
   "id": "7cd4ec1c-d4e5-46f5-9634-13beae08252c",
   "metadata": {},
   "outputs": [
    {
     "name": "stderr",
     "output_type": "stream",
     "text": [
      " 18%|█████████████▋                                                              | 18/100 [02:12<17:16, 12.64s/it]"
     ]
    }
   ],
   "source": [
    "rf_weights = calc_weights_rf(rf, X_train, X_test, bootstrap, max_sample)"
   ]
  },
  {
   "cell_type": "code",
   "execution_count": null,
   "id": "2f15b8ad",
   "metadata": {},
   "outputs": [],
   "source": [
    "np.save(\"/home/dchen/Random_Forest_Weights/data/rf_weights/energy_data/rf_weights_True_0_7.npy\", rf_weights)"
   ]
  },
  {
   "cell_type": "markdown",
   "id": "4ee83f2a-ff4e-4e24-aa05-220b2668c7d9",
   "metadata": {},
   "source": [
    "### 4. Calc Mean with weights and normal:"
   ]
  },
  {
   "cell_type": "code",
   "execution_count": null,
   "id": "ee0e805f",
   "metadata": {},
   "outputs": [],
   "source": [
    "rf_weights = np.load(\"/home/dchen/Random_Forest_Weights/data/rf_weights/energy_data/rf_weights_True_0_7.npy\")"
   ]
  },
  {
   "cell_type": "code",
   "execution_count": null,
   "id": "5b1d5b8f-5d26-4234-b8a0-cb4208b07f42",
   "metadata": {},
   "outputs": [],
   "source": [
    "rf_mean_weights = calc_mean_rf(rf_weights, y_train)\n",
    "rf_mean_normal = rf.predict(X_test)"
   ]
  },
  {
   "cell_type": "code",
   "execution_count": null,
   "id": "d95c0077-00bc-4261-a3d2-c36172869e6e",
   "metadata": {
    "tags": []
   },
   "outputs": [],
   "source": [
    "# Are the two the same?\n",
    "sum(np.round(rf_mean_weights, 5) == np.round(rf_mean_normal, 5))"
   ]
  },
  {
   "cell_type": "markdown",
   "id": "a86aff2a",
   "metadata": {},
   "source": [
    "### 5. Calc Quantile Random Forest"
   ]
  },
  {
   "cell_type": "code",
   "execution_count": null,
   "id": "f75c3d26",
   "metadata": {},
   "outputs": [],
   "source": [
    "rf_cdfs = calc_dist_rf(rf_weights, y_train)"
   ]
  },
  {
   "cell_type": "code",
   "execution_count": null,
   "id": "a8060c20",
   "metadata": {},
   "outputs": [],
   "source": [
    "rf_median = calc_quantile_rf(rf_cdfs, 0.5, y_train)"
   ]
  },
  {
   "cell_type": "code",
   "execution_count": null,
   "id": "42d1c7ca",
   "metadata": {},
   "outputs": [],
   "source": [
    "rf_median[:10]"
   ]
  }
 ],
 "metadata": {
  "kernelspec": {
   "display_name": "Python 3 (ipykernel)",
   "language": "python",
   "name": "python3"
  },
  "language_info": {
   "codemirror_mode": {
    "name": "ipython",
    "version": 3
   },
   "file_extension": ".py",
   "mimetype": "text/x-python",
   "name": "python",
   "nbconvert_exporter": "python",
   "pygments_lexer": "ipython3",
   "version": "3.9.7"
  }
 },
 "nbformat": 4,
 "nbformat_minor": 5
}
