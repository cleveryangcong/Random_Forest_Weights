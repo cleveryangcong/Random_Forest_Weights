{
 "cells": [
  {
   "cell_type": "code",
   "execution_count": 1,
   "id": "d0725663-55be-4f3c-a705-339fd7c1a511",
   "metadata": {},
   "outputs": [],
   "source": [
    "%load_ext lab_black"
   ]
  },
  {
   "cell_type": "code",
   "execution_count": 2,
   "id": "57784f5e-ede6-4f6d-9e44-a299e2f7b177",
   "metadata": {},
   "outputs": [],
   "source": [
    "import pandas as pd\n",
    "import numpy as np\n",
    "import matplotlib.pyplot as plt\n",
    "\n",
    "from sklearn.tree import DecisionTreeRegressor\n",
    "from sklearn.ensemble import RandomForestRegressor\n",
    "from sklearn import tree\n",
    "from sklearn.datasets import load_diabetes\n",
    "from sklearn.model_selection import train_test_split\n",
    "\n",
    "from DecisionTreeFunctions import *"
   ]
  },
  {
   "cell_type": "code",
   "execution_count": 3,
   "id": "bfa69521-316d-4dbd-a0ce-3135bb0e57fb",
   "metadata": {},
   "outputs": [],
   "source": [
    "diabetes = load_diabetes()\n",
    "df = pd.DataFrame(\n",
    "    data=np.c_[diabetes[\"data\"], diabetes[\"target\"]],\n",
    "    columns=diabetes[\"feature_names\"] + [\"target\"],\n",
    ")"
   ]
  },
  {
   "cell_type": "code",
   "execution_count": 4,
   "id": "ce3f5931-bcdb-4f3f-bbdf-71fef74e7288",
   "metadata": {},
   "outputs": [],
   "source": [
    "X = df.iloc[:, :-1].to_numpy(dtype=\"float32\")\n",
    "y = df.iloc[:, -1:].to_numpy().flatten()"
   ]
  },
  {
   "cell_type": "code",
   "execution_count": 5,
   "id": "f11b0c76-5eab-4a45-b9f5-8ca36749edda",
   "metadata": {},
   "outputs": [],
   "source": [
    "X_train, X_test, y_train, y_test = train_test_split(X, y, test_size=0.2)"
   ]
  },
  {
   "cell_type": "markdown",
   "id": "1b7ed648-7b95-4f18-810d-1c8cc2eddd84",
   "metadata": {},
   "source": [
    "### Model Training: Random Forest"
   ]
  },
  {
   "cell_type": "code",
   "execution_count": 6,
   "id": "930cbf39-023d-4cd4-ab3a-2df88c11568f",
   "metadata": {},
   "outputs": [],
   "source": [
    "rf = RandomForestRegressor(n_estimators=3, bootstrap=False)"
   ]
  },
  {
   "cell_type": "code",
   "execution_count": 7,
   "id": "e96194e0-0464-45ff-b6fe-be56480d4027",
   "metadata": {},
   "outputs": [
    {
     "data": {
      "text/html": [
       "<style>#sk-container-id-1 {color: black;background-color: white;}#sk-container-id-1 pre{padding: 0;}#sk-container-id-1 div.sk-toggleable {background-color: white;}#sk-container-id-1 label.sk-toggleable__label {cursor: pointer;display: block;width: 100%;margin-bottom: 0;padding: 0.3em;box-sizing: border-box;text-align: center;}#sk-container-id-1 label.sk-toggleable__label-arrow:before {content: \"▸\";float: left;margin-right: 0.25em;color: #696969;}#sk-container-id-1 label.sk-toggleable__label-arrow:hover:before {color: black;}#sk-container-id-1 div.sk-estimator:hover label.sk-toggleable__label-arrow:before {color: black;}#sk-container-id-1 div.sk-toggleable__content {max-height: 0;max-width: 0;overflow: hidden;text-align: left;background-color: #f0f8ff;}#sk-container-id-1 div.sk-toggleable__content pre {margin: 0.2em;color: black;border-radius: 0.25em;background-color: #f0f8ff;}#sk-container-id-1 input.sk-toggleable__control:checked~div.sk-toggleable__content {max-height: 200px;max-width: 100%;overflow: auto;}#sk-container-id-1 input.sk-toggleable__control:checked~label.sk-toggleable__label-arrow:before {content: \"▾\";}#sk-container-id-1 div.sk-estimator input.sk-toggleable__control:checked~label.sk-toggleable__label {background-color: #d4ebff;}#sk-container-id-1 div.sk-label input.sk-toggleable__control:checked~label.sk-toggleable__label {background-color: #d4ebff;}#sk-container-id-1 input.sk-hidden--visually {border: 0;clip: rect(1px 1px 1px 1px);clip: rect(1px, 1px, 1px, 1px);height: 1px;margin: -1px;overflow: hidden;padding: 0;position: absolute;width: 1px;}#sk-container-id-1 div.sk-estimator {font-family: monospace;background-color: #f0f8ff;border: 1px dotted black;border-radius: 0.25em;box-sizing: border-box;margin-bottom: 0.5em;}#sk-container-id-1 div.sk-estimator:hover {background-color: #d4ebff;}#sk-container-id-1 div.sk-parallel-item::after {content: \"\";width: 100%;border-bottom: 1px solid gray;flex-grow: 1;}#sk-container-id-1 div.sk-label:hover label.sk-toggleable__label {background-color: #d4ebff;}#sk-container-id-1 div.sk-serial::before {content: \"\";position: absolute;border-left: 1px solid gray;box-sizing: border-box;top: 0;bottom: 0;left: 50%;z-index: 0;}#sk-container-id-1 div.sk-serial {display: flex;flex-direction: column;align-items: center;background-color: white;padding-right: 0.2em;padding-left: 0.2em;position: relative;}#sk-container-id-1 div.sk-item {position: relative;z-index: 1;}#sk-container-id-1 div.sk-parallel {display: flex;align-items: stretch;justify-content: center;background-color: white;position: relative;}#sk-container-id-1 div.sk-item::before, #sk-container-id-1 div.sk-parallel-item::before {content: \"\";position: absolute;border-left: 1px solid gray;box-sizing: border-box;top: 0;bottom: 0;left: 50%;z-index: -1;}#sk-container-id-1 div.sk-parallel-item {display: flex;flex-direction: column;z-index: 1;position: relative;background-color: white;}#sk-container-id-1 div.sk-parallel-item:first-child::after {align-self: flex-end;width: 50%;}#sk-container-id-1 div.sk-parallel-item:last-child::after {align-self: flex-start;width: 50%;}#sk-container-id-1 div.sk-parallel-item:only-child::after {width: 0;}#sk-container-id-1 div.sk-dashed-wrapped {border: 1px dashed gray;margin: 0 0.4em 0.5em 0.4em;box-sizing: border-box;padding-bottom: 0.4em;background-color: white;}#sk-container-id-1 div.sk-label label {font-family: monospace;font-weight: bold;display: inline-block;line-height: 1.2em;}#sk-container-id-1 div.sk-label-container {text-align: center;}#sk-container-id-1 div.sk-container {/* jupyter's `normalize.less` sets `[hidden] { display: none; }` but bootstrap.min.css set `[hidden] { display: none !important; }` so we also need the `!important` here to be able to override the default hidden behavior on the sphinx rendered scikit-learn.org. See: https://github.com/scikit-learn/scikit-learn/issues/21755 */display: inline-block !important;position: relative;}#sk-container-id-1 div.sk-text-repr-fallback {display: none;}</style><div id=\"sk-container-id-1\" class=\"sk-top-container\"><div class=\"sk-text-repr-fallback\"><pre>RandomForestRegressor(bootstrap=False, n_estimators=3)</pre><b>In a Jupyter environment, please rerun this cell to show the HTML representation or trust the notebook. <br />On GitHub, the HTML representation is unable to render, please try loading this page with nbviewer.org.</b></div><div class=\"sk-container\" hidden><div class=\"sk-item\"><div class=\"sk-estimator sk-toggleable\"><input class=\"sk-toggleable__control sk-hidden--visually\" id=\"sk-estimator-id-1\" type=\"checkbox\" checked><label for=\"sk-estimator-id-1\" class=\"sk-toggleable__label sk-toggleable__label-arrow\">RandomForestRegressor</label><div class=\"sk-toggleable__content\"><pre>RandomForestRegressor(bootstrap=False, n_estimators=3)</pre></div></div></div></div></div>"
      ],
      "text/plain": [
       "RandomForestRegressor(bootstrap=False, n_estimators=3)"
      ]
     },
     "execution_count": 7,
     "metadata": {},
     "output_type": "execute_result"
    }
   ],
   "source": [
    "rf.fit(X_train, y_train)"
   ]
  },
  {
   "cell_type": "code",
   "execution_count": 8,
   "id": "98438cec-d4c1-422f-9e93-fd014660b5d7",
   "metadata": {},
   "outputs": [],
   "source": [
    "rf_estimators = rf.estimators_"
   ]
  },
  {
   "cell_type": "code",
   "execution_count": 9,
   "id": "6d1dafea-eb7d-40c5-9d22-53e7c60bde7d",
   "metadata": {},
   "outputs": [],
   "source": [
    "leaf_nodes_trees = []\n",
    "y_values_leaves_trees = []\n",
    "X_values_leaves_trees = []\n",
    "X_ids_leaves_trees = []\n",
    "weights_leaves_trees = (\n",
    "    []\n",
    ")  # 3-Dimensional with 1. Number of tree, 2. Number of leafs per tree, 3. Length of y_train\n",
    "for tree in rf_estimators:\n",
    "    a, b, c, d, e = calc_obs_distribution(tree, X_train, y_train)\n",
    "    leaf_nodes_trees.append(a)\n",
    "    y_values_leaves_trees.append(b)\n",
    "    X_values_leaves_trees.append(c)\n",
    "    X_ids_leaves_trees.append(d)\n",
    "    weights_leaves_trees.append(e)"
   ]
  },
  {
   "cell_type": "code",
   "execution_count": 10,
   "id": "22277dd8-74f5-490a-bbf7-ede842070bd8",
   "metadata": {},
   "outputs": [],
   "source": [
    "weights, mean_preds = calc_weights_rf(\n",
    "    rf, X_test, y_train, leaf_nodes_trees, weights_leaves_trees\n",
    ")"
   ]
  },
  {
   "cell_type": "code",
   "execution_count": 11,
   "id": "c37da705-8c27-4a5a-978e-d6f09bdbc70a",
   "metadata": {},
   "outputs": [],
   "source": [
    "true_preds = rf.predict(X_test)"
   ]
  },
  {
   "cell_type": "code",
   "execution_count": 12,
   "id": "d94014cc-5046-4908-a843-6e4022bcad37",
   "metadata": {},
   "outputs": [
    {
     "data": {
      "text/plain": [
       "array([ True,  True,  True,  True,  True,  True,  True,  True,  True,\n",
       "        True,  True,  True,  True,  True,  True,  True,  True,  True,\n",
       "        True,  True,  True,  True,  True,  True,  True,  True,  True,\n",
       "        True,  True,  True,  True,  True,  True,  True,  True,  True,\n",
       "        True,  True,  True,  True,  True,  True,  True,  True,  True,\n",
       "        True,  True,  True,  True,  True,  True,  True,  True,  True,\n",
       "        True,  True,  True,  True,  True,  True,  True,  True,  True,\n",
       "        True,  True,  True,  True,  True,  True,  True,  True,  True,\n",
       "        True,  True,  True,  True,  True,  True,  True,  True,  True,\n",
       "        True,  True,  True,  True,  True,  True,  True,  True])"
      ]
     },
     "execution_count": 12,
     "metadata": {},
     "output_type": "execute_result"
    }
   ],
   "source": [
    "np.round(mean_preds, 7) == np.round(true_preds, 7)"
   ]
  },
  {
   "cell_type": "code",
   "execution_count": 13,
   "id": "00081518-60e5-4f9b-9ead-78f6efed7996",
   "metadata": {},
   "outputs": [],
   "source": [
    "def calc_weights_rf(rf, X_test, y_train, leaf_nodes_trees, weights_leaves_trees):\n",
    "    \"\"\"\n",
    "    Method to calculate the mean prediction and weights of a random forest\n",
    "\n",
    "    Input:\n",
    "        param rf: Fully fitted random Forest\n",
    "        param X_test: OOS test data\n",
    "        param y_train: Data used to train the RF\n",
    "        param leaf_nodes_trees: 3-Dimensional: 1. number_trees, 2. number_leaf_nodes,\n",
    "                                3. array with leaf node indexes\n",
    "        param weights_leaves_trees: 3-Dimensional: 1. number_trees, 2. number_leaf_nodes\n",
    "                                    3. array with weights of individual leaf_nodes\n",
    "\n",
    "    Output:\n",
    "        weights_all: list of length X_test with weights used to calculate mean prediction\n",
    "        mean_preds: List of mean predictions\n",
    "    \"\"\"\n",
    "    # Calculate index of the leaf that each sample is predicted as in all trees\n",
    "    X_test_id_leaves = []  # dim: num_trees x len_X_test\n",
    "    for tree in rf.estimators_:  # iterate number of tree times\n",
    "        X_test_id_leaves.append(tree.apply(X_test))\n",
    "\n",
    "    weights_all = []\n",
    "    mean_preds = []\n",
    "    for i in range(len(X_test)):  # iterate number of X_test times\n",
    "        weight_k = np.zeros(y_train.shape)\n",
    "        for j in range(len(X_test_id_leaves)):  # iterate number of trees times\n",
    "            X_id = X_test_id_leaves[j][i]\n",
    "            index = np.where(leaf_nodes_trees[j] == X_id)[0][\n",
    "                0\n",
    "            ]  # Calculate index of test\n",
    "            weight_k = weight_k + weights_leaves_trees[j][index]\n",
    "        weight = weight_k / len(X_test_id_leaves)\n",
    "        weights_all.append(weight)\n",
    "        mean_preds.append(np.dot(weight, y_train))\n",
    "\n",
    "    return weights_all, mean_preds"
   ]
  },
  {
   "cell_type": "code",
   "execution_count": null,
   "id": "0974b828-7768-450b-b13b-cb80008a85d5",
   "metadata": {},
   "outputs": [],
   "source": []
  },
  {
   "cell_type": "code",
   "execution_count": 14,
   "id": "ae2b3f5d-d903-4d08-92c8-9293f241fdc5",
   "metadata": {},
   "outputs": [],
   "source": [
    "rf = RandomForestRegressor(n_estimators=3, bootstrap=True)"
   ]
  },
  {
   "cell_type": "code",
   "execution_count": 15,
   "id": "e94a27a6-6d83-471f-b921-5f0907c937d9",
   "metadata": {},
   "outputs": [
    {
     "data": {
      "text/html": [
       "<style>#sk-container-id-2 {color: black;background-color: white;}#sk-container-id-2 pre{padding: 0;}#sk-container-id-2 div.sk-toggleable {background-color: white;}#sk-container-id-2 label.sk-toggleable__label {cursor: pointer;display: block;width: 100%;margin-bottom: 0;padding: 0.3em;box-sizing: border-box;text-align: center;}#sk-container-id-2 label.sk-toggleable__label-arrow:before {content: \"▸\";float: left;margin-right: 0.25em;color: #696969;}#sk-container-id-2 label.sk-toggleable__label-arrow:hover:before {color: black;}#sk-container-id-2 div.sk-estimator:hover label.sk-toggleable__label-arrow:before {color: black;}#sk-container-id-2 div.sk-toggleable__content {max-height: 0;max-width: 0;overflow: hidden;text-align: left;background-color: #f0f8ff;}#sk-container-id-2 div.sk-toggleable__content pre {margin: 0.2em;color: black;border-radius: 0.25em;background-color: #f0f8ff;}#sk-container-id-2 input.sk-toggleable__control:checked~div.sk-toggleable__content {max-height: 200px;max-width: 100%;overflow: auto;}#sk-container-id-2 input.sk-toggleable__control:checked~label.sk-toggleable__label-arrow:before {content: \"▾\";}#sk-container-id-2 div.sk-estimator input.sk-toggleable__control:checked~label.sk-toggleable__label {background-color: #d4ebff;}#sk-container-id-2 div.sk-label input.sk-toggleable__control:checked~label.sk-toggleable__label {background-color: #d4ebff;}#sk-container-id-2 input.sk-hidden--visually {border: 0;clip: rect(1px 1px 1px 1px);clip: rect(1px, 1px, 1px, 1px);height: 1px;margin: -1px;overflow: hidden;padding: 0;position: absolute;width: 1px;}#sk-container-id-2 div.sk-estimator {font-family: monospace;background-color: #f0f8ff;border: 1px dotted black;border-radius: 0.25em;box-sizing: border-box;margin-bottom: 0.5em;}#sk-container-id-2 div.sk-estimator:hover {background-color: #d4ebff;}#sk-container-id-2 div.sk-parallel-item::after {content: \"\";width: 100%;border-bottom: 1px solid gray;flex-grow: 1;}#sk-container-id-2 div.sk-label:hover label.sk-toggleable__label {background-color: #d4ebff;}#sk-container-id-2 div.sk-serial::before {content: \"\";position: absolute;border-left: 1px solid gray;box-sizing: border-box;top: 0;bottom: 0;left: 50%;z-index: 0;}#sk-container-id-2 div.sk-serial {display: flex;flex-direction: column;align-items: center;background-color: white;padding-right: 0.2em;padding-left: 0.2em;position: relative;}#sk-container-id-2 div.sk-item {position: relative;z-index: 1;}#sk-container-id-2 div.sk-parallel {display: flex;align-items: stretch;justify-content: center;background-color: white;position: relative;}#sk-container-id-2 div.sk-item::before, #sk-container-id-2 div.sk-parallel-item::before {content: \"\";position: absolute;border-left: 1px solid gray;box-sizing: border-box;top: 0;bottom: 0;left: 50%;z-index: -1;}#sk-container-id-2 div.sk-parallel-item {display: flex;flex-direction: column;z-index: 1;position: relative;background-color: white;}#sk-container-id-2 div.sk-parallel-item:first-child::after {align-self: flex-end;width: 50%;}#sk-container-id-2 div.sk-parallel-item:last-child::after {align-self: flex-start;width: 50%;}#sk-container-id-2 div.sk-parallel-item:only-child::after {width: 0;}#sk-container-id-2 div.sk-dashed-wrapped {border: 1px dashed gray;margin: 0 0.4em 0.5em 0.4em;box-sizing: border-box;padding-bottom: 0.4em;background-color: white;}#sk-container-id-2 div.sk-label label {font-family: monospace;font-weight: bold;display: inline-block;line-height: 1.2em;}#sk-container-id-2 div.sk-label-container {text-align: center;}#sk-container-id-2 div.sk-container {/* jupyter's `normalize.less` sets `[hidden] { display: none; }` but bootstrap.min.css set `[hidden] { display: none !important; }` so we also need the `!important` here to be able to override the default hidden behavior on the sphinx rendered scikit-learn.org. See: https://github.com/scikit-learn/scikit-learn/issues/21755 */display: inline-block !important;position: relative;}#sk-container-id-2 div.sk-text-repr-fallback {display: none;}</style><div id=\"sk-container-id-2\" class=\"sk-top-container\"><div class=\"sk-text-repr-fallback\"><pre>RandomForestRegressor(n_estimators=3)</pre><b>In a Jupyter environment, please rerun this cell to show the HTML representation or trust the notebook. <br />On GitHub, the HTML representation is unable to render, please try loading this page with nbviewer.org.</b></div><div class=\"sk-container\" hidden><div class=\"sk-item\"><div class=\"sk-estimator sk-toggleable\"><input class=\"sk-toggleable__control sk-hidden--visually\" id=\"sk-estimator-id-2\" type=\"checkbox\" checked><label for=\"sk-estimator-id-2\" class=\"sk-toggleable__label sk-toggleable__label-arrow\">RandomForestRegressor</label><div class=\"sk-toggleable__content\"><pre>RandomForestRegressor(n_estimators=3)</pre></div></div></div></div></div>"
      ],
      "text/plain": [
       "RandomForestRegressor(n_estimators=3)"
      ]
     },
     "execution_count": 15,
     "metadata": {},
     "output_type": "execute_result"
    }
   ],
   "source": [
    "rf.fit(X_train, y_train)"
   ]
  },
  {
   "cell_type": "code",
   "execution_count": 16,
   "id": "d56bfc24-1948-4294-9a01-3b3105e37ba8",
   "metadata": {},
   "outputs": [],
   "source": [
    "import sklearn.ensemble._forest as forest_utils"
   ]
  },
  {
   "cell_type": "code",
   "execution_count": 17,
   "id": "4a99be45-2866-4cd7-9d4a-e30cced971cb",
   "metadata": {},
   "outputs": [],
   "source": [
    "n_samples = len(y_train)  # number of training samples\n",
    "\n",
    "n_samples_bootstrap = forest_utils._get_n_samples_bootstrap(n_samples, rf.max_samples)\n",
    "\n",
    "unsampled_indices_trees = []\n",
    "sampled_indices_trees = []\n",
    "\n",
    "for estimator in rf.estimators_:\n",
    "    unsampled_indices = forest_utils._generate_unsampled_indices(\n",
    "        estimator.random_state, n_samples, n_samples_bootstrap\n",
    "    )\n",
    "    unsampled_indices_trees.append(unsampled_indices)\n",
    "\n",
    "    sampled_indices = forest_utils._generate_sample_indices(\n",
    "        estimator.random_state, n_samples, n_samples_bootstrap\n",
    "    )\n",
    "    sampled_indices_trees.append(sampled_indices)"
   ]
  },
  {
   "cell_type": "code",
   "execution_count": 18,
   "id": "87ec9d54-a769-4ee9-9cc7-1d92bff34379",
   "metadata": {},
   "outputs": [
    {
     "data": {
      "text/plain": [
       "array([  2,   3,   3,   6,   8,   8,  10,  11,  12,  13,  14,  14,  15,\n",
       "        17,  17,  19,  20,  21,  21,  23,  23,  23,  24,  25,  26,  27,\n",
       "        28,  29,  32,  34,  35,  35,  36,  38,  38,  41,  42,  43,  43,\n",
       "        44,  47,  49,  49,  50,  52,  55,  55,  58,  58,  62,  67,  67,\n",
       "        68,  68,  68,  68,  68,  70,  70,  70,  71,  72,  73,  74,  74,\n",
       "        74,  75,  75,  75,  76,  76,  76,  77,  78,  78,  78,  78,  79,\n",
       "        79,  80,  83,  84,  84,  85,  85,  88,  89,  89,  89,  90,  91,\n",
       "        91,  92,  93,  93,  97,  99, 102, 102, 102, 103, 104, 105, 106,\n",
       "       109, 110, 112, 112, 113, 113, 114, 116, 116, 116, 117, 118, 119,\n",
       "       119, 120, 121, 123, 124, 125, 125, 125, 126, 129, 129, 129, 129,\n",
       "       130, 131, 132, 132, 133, 133, 134, 136, 136, 136, 136, 137, 138,\n",
       "       139, 139, 142, 142, 142, 143, 145, 145, 148, 149, 151, 154, 154,\n",
       "       155, 156, 157, 158, 158, 159, 162, 162, 163, 165, 166, 167, 169,\n",
       "       170, 170, 170, 172, 172, 175, 175, 176, 177, 178, 179, 179, 180,\n",
       "       181, 181, 182, 183, 183, 184, 185, 186, 187, 187, 187, 187, 188,\n",
       "       188, 189, 190, 190, 194, 195, 196, 198, 198, 198, 199, 199, 199,\n",
       "       201, 201, 203, 203, 204, 206, 207, 207, 208, 208, 209, 211, 212,\n",
       "       213, 215, 215, 215, 219, 221, 221, 222, 223, 225, 225, 226, 227,\n",
       "       227, 227, 231, 232, 234, 235, 238, 238, 239, 241, 243, 244, 245,\n",
       "       246, 247, 247, 249, 249, 250, 251, 253, 256, 256, 256, 258, 258,\n",
       "       258, 258, 259, 260, 261, 261, 263, 265, 265, 266, 267, 267, 268,\n",
       "       269, 273, 273, 274, 275, 276, 278, 279, 279, 280, 282, 285, 287,\n",
       "       287, 287, 287, 288, 288, 290, 290, 291, 292, 293, 293, 295, 296,\n",
       "       297, 297, 298, 299, 300, 300, 300, 301, 303, 303, 304, 304, 305,\n",
       "       306, 306, 307, 309, 310, 310, 311, 312, 318, 320, 321, 321, 322,\n",
       "       322, 322, 324, 324, 326, 327, 328, 332, 332, 336, 336, 337, 338,\n",
       "       338, 339, 339, 340, 341, 341, 341, 344, 345, 347, 349, 349, 350,\n",
       "       351, 352])"
      ]
     },
     "execution_count": 18,
     "metadata": {},
     "output_type": "execute_result"
    }
   ],
   "source": [
    "np.sort(sampled_indices_trees[0])"
   ]
  },
  {
   "cell_type": "code",
   "execution_count": 78,
   "id": "eda3de70-4a3f-4e6f-99c2-0e1d64f61878",
   "metadata": {},
   "outputs": [
    {
     "data": {
      "text/plain": [
       "array([[ 0.01628068, -0.04464164, -0.046085  , ..., -0.03949338,\n",
       "        -0.05140387,  0.01963284],\n",
       "       [ 0.00538306,  0.05068012,  0.0347509 , ...,  0.18523444,\n",
       "         0.01556846,  0.07348023],\n",
       "       [ 0.03081083, -0.04464164,  0.00564998, ...,  0.1081111 ,\n",
       "         0.06605066,  0.01963284],\n",
       "       ...,\n",
       "       [-0.04183994, -0.04464164,  0.04768465, ...,  0.1081111 ,\n",
       "         0.06389027,  0.04034337],\n",
       "       [-0.09632801, -0.04464164, -0.08380842, ..., -0.07639451,\n",
       "        -0.06291688, -0.03421455],\n",
       "       [-0.02730979,  0.05068012,  0.06061839, ..., -0.00259226,\n",
       "         0.07020738,  0.13561183]], dtype=float32)"
      ]
     },
     "execution_count": 78,
     "metadata": {},
     "output_type": "execute_result"
    }
   ],
   "source": [
    "X_train[sampled_indices_trees[0]]"
   ]
  },
  {
   "cell_type": "code",
   "execution_count": 57,
   "id": "56f370b7-0214-4056-95d5-16e26f1f4e7f",
   "metadata": {},
   "outputs": [
    {
     "data": {
      "text/plain": [
       "array([  0,   2,   3,   4,   5,   6,   7,   9,  10,  11,  13,  14,  16,\n",
       "        20,  21,  22,  23,  25,  27,  29,  30,  31,  32,  35,  36,  37,\n",
       "        38,  39,  40,  41,  42,  43,  45,  46,  48,  52,  53,  54,  55,\n",
       "        57,  58,  60,  61,  62,  64,  65,  66,  67,  68,  69,  70,  71,\n",
       "        73,  74,  76,  78,  82,  83,  84,  85,  86,  87,  88,  89,  90,\n",
       "        92,  95, 102, 103, 105, 107, 109, 111, 112, 113, 114, 116, 117,\n",
       "       119, 121, 122, 123, 126, 128, 129, 130, 131, 132, 133, 136, 138,\n",
       "       139, 140, 141, 142, 144, 145, 146, 147, 148, 149, 150, 151, 153,\n",
       "       154, 155, 156, 158, 160, 161, 162, 165, 167, 168, 170, 171, 172,\n",
       "       173, 174, 175, 176, 178, 179, 180, 181, 186, 188, 189, 192, 193,\n",
       "       194, 195, 196, 197, 198, 199, 201, 202, 204, 205, 206, 207, 208,\n",
       "       209, 210, 211, 212, 213, 214, 215, 216, 217, 220, 222, 223, 225,\n",
       "       226, 231, 235, 236, 239, 240, 241, 243, 244, 245, 246, 247, 248,\n",
       "       249, 251, 252, 255, 256, 259, 261, 262, 263, 264, 267, 269, 270,\n",
       "       271, 272, 273, 274, 276, 277, 279, 280, 281, 283, 284, 287, 288,\n",
       "       289, 291, 293, 295, 296, 297, 303, 304, 305, 307, 308, 310, 311,\n",
       "       312, 313, 315, 319, 322, 324, 326, 327, 328, 329, 331, 333, 334,\n",
       "       337, 339, 340, 341, 344, 345, 346, 347, 349, 351, 352])"
      ]
     },
     "execution_count": 57,
     "metadata": {},
     "output_type": "execute_result"
    }
   ],
   "source": [
    "np.unique(sampled_indices_trees[0])"
   ]
  },
  {
   "cell_type": "code",
   "execution_count": 58,
   "id": "e4f5a040-7c4b-4b2e-a0d9-f765e2de3bbc",
   "metadata": {},
   "outputs": [
    {
     "data": {
      "text/plain": [
       "(232,)"
      ]
     },
     "execution_count": 58,
     "metadata": {},
     "output_type": "execute_result"
    }
   ],
   "source": [
    "np.unique(sampled_indices_trees[0]).shape"
   ]
  },
  {
   "cell_type": "code",
   "execution_count": null,
   "id": "c5412411-0da6-41f9-82c8-cdf3b4d8b59c",
   "metadata": {},
   "outputs": [],
   "source": []
  }
 ],
 "metadata": {
  "kernelspec": {
   "display_name": "Python 3 (ipykernel)",
   "language": "python",
   "name": "python3"
  },
  "language_info": {
   "codemirror_mode": {
    "name": "ipython",
    "version": 3
   },
   "file_extension": ".py",
   "mimetype": "text/x-python",
   "name": "python",
   "nbconvert_exporter": "python",
   "pygments_lexer": "ipython3",
   "version": "3.11.3"
  }
 },
 "nbformat": 4,
 "nbformat_minor": 5
}
