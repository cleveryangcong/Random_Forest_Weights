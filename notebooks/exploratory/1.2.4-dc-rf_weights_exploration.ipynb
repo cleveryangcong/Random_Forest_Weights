{
 "cells": [
  {
   "cell_type": "code",
   "execution_count": 1,
   "id": "245b1908",
   "metadata": {},
   "outputs": [],
   "source": [
    "# Path setup\n",
    "import sys\n",
    "import os\n",
    "\n",
    "sys.path.append(\"/home/dchen/Random_Forest_Weights/\")\n",
    "\n",
    "# Basics:\n",
    "import pandas as pd\n",
    "import numpy as np\n",
    "\n",
    "pd.set_option('display.max_columns', None)\n",
    "\n",
    "# Visualizations\n",
    "import matplotlib.pyplot as plt\n",
    "import seaborn as sns\n",
    "\n",
    "# Helpful:\n",
    "from sklearn.model_selection import train_test_split\n",
    "\n",
    "# Pipeline and ColumnsTransformer:\n",
    "from sklearn.pipeline import Pipeline\n",
    "from sklearn.compose import ColumnTransformer\n",
    "from sklearn.impute import SimpleImputer\n",
    "from sklearn.preprocessing import OneHotEncoder, LabelEncoder, StandardScaler\n",
    "from sklearn.model_selection import GridSearchCV, RandomizedSearchCV\n",
    "\n",
    "# models:\n",
    "import statsmodels.api as sm\n",
    "\n",
    "# my functions:\n",
    "from src_rf.methods.calc_mean import *\n",
    "from src_rf.methods.calc_weights import *\n",
    "from src_rf.methods.calc_dist import *\n",
    "from src_rf.datasets.load_weights_energy import * \n",
    "from src_rf.methods.filter_weights_rf import * "
   ]
  },
  {
   "cell_type": "markdown",
   "id": "62ea9f05",
   "metadata": {},
   "source": [
    "### 0. Setup"
   ]
  },
  {
   "cell_type": "code",
   "execution_count": 2,
   "id": "408a2073",
   "metadata": {},
   "outputs": [],
   "source": [
    "def quantile_loss(y_true, y_pred, tau):\n",
    "    return max(tau * (y_true - y_pred), (1 - tau) * (y_pred - y_true))"
   ]
  },
  {
   "cell_type": "code",
   "execution_count": 3,
   "id": "8449dfc7",
   "metadata": {},
   "outputs": [],
   "source": [
    "quantiles = [0.025, 0.25, 0.5, 0.75, 0.975]"
   ]
  },
  {
   "cell_type": "markdown",
   "id": "742b858c",
   "metadata": {},
   "source": [
    "### 1. Load Data and train test split"
   ]
  },
  {
   "cell_type": "code",
   "execution_count": 4,
   "id": "c0496bd1",
   "metadata": {},
   "outputs": [],
   "source": [
    "df = pd.read_csv(\"/home/dchen/Random_Forest_Weights/src_rf/data/energy_data_hourly.csv\"\n",
    "                 , index_col = 'datetime', parse_dates=True)"
   ]
  },
  {
   "cell_type": "code",
   "execution_count": 5,
   "id": "da81bf44",
   "metadata": {},
   "outputs": [],
   "source": [
    "X = df.drop('total_energy_usage', axis = 1)\n",
    "y = df['total_energy_usage']"
   ]
  },
  {
   "cell_type": "code",
   "execution_count": 6,
   "id": "af434450",
   "metadata": {},
   "outputs": [],
   "source": [
    "X_train, X_test, y_train, y_test = train_test_split(X, y, test_size= 0.3 ,shuffle=False, random_state=42)"
   ]
  },
  {
   "cell_type": "code",
   "execution_count": 14,
   "id": "ef36569e",
   "metadata": {
    "scrolled": false
   },
   "outputs": [
    {
     "data": {
      "text/html": [
       "<div>\n",
       "<style scoped>\n",
       "    .dataframe tbody tr th:only-of-type {\n",
       "        vertical-align: middle;\n",
       "    }\n",
       "\n",
       "    .dataframe tbody tr th {\n",
       "        vertical-align: top;\n",
       "    }\n",
       "\n",
       "    .dataframe thead th {\n",
       "        text-align: right;\n",
       "    }\n",
       "</style>\n",
       "<table border=\"1\" class=\"dataframe\">\n",
       "  <thead>\n",
       "    <tr style=\"text-align: right;\">\n",
       "      <th></th>\n",
       "      <th>residual_energy_usage</th>\n",
       "      <th>pump_storage</th>\n",
       "      <th>hour</th>\n",
       "      <th>month</th>\n",
       "      <th>Friday</th>\n",
       "      <th>Monday</th>\n",
       "      <th>Saturday</th>\n",
       "      <th>Sunday</th>\n",
       "      <th>Thursday</th>\n",
       "      <th>Tuesday</th>\n",
       "      <th>Wednesday</th>\n",
       "    </tr>\n",
       "    <tr>\n",
       "      <th>datetime</th>\n",
       "      <th></th>\n",
       "      <th></th>\n",
       "      <th></th>\n",
       "      <th></th>\n",
       "      <th></th>\n",
       "      <th></th>\n",
       "      <th></th>\n",
       "      <th></th>\n",
       "      <th></th>\n",
       "      <th></th>\n",
       "      <th></th>\n",
       "    </tr>\n",
       "  </thead>\n",
       "  <tbody>\n",
       "    <tr>\n",
       "      <th>2015-01-01 00:00:00</th>\n",
       "      <td>35.957</td>\n",
       "      <td>602.0</td>\n",
       "      <td>0</td>\n",
       "      <td>1</td>\n",
       "      <td>0</td>\n",
       "      <td>0</td>\n",
       "      <td>0</td>\n",
       "      <td>0</td>\n",
       "      <td>1</td>\n",
       "      <td>0</td>\n",
       "      <td>0</td>\n",
       "    </tr>\n",
       "    <tr>\n",
       "      <th>2015-01-01 01:00:00</th>\n",
       "      <td>34.642</td>\n",
       "      <td>347.0</td>\n",
       "      <td>1</td>\n",
       "      <td>1</td>\n",
       "      <td>0</td>\n",
       "      <td>0</td>\n",
       "      <td>0</td>\n",
       "      <td>0</td>\n",
       "      <td>1</td>\n",
       "      <td>0</td>\n",
       "      <td>0</td>\n",
       "    </tr>\n",
       "    <tr>\n",
       "      <th>2015-01-01 02:00:00</th>\n",
       "      <td>32.910</td>\n",
       "      <td>522.0</td>\n",
       "      <td>2</td>\n",
       "      <td>1</td>\n",
       "      <td>0</td>\n",
       "      <td>0</td>\n",
       "      <td>0</td>\n",
       "      <td>0</td>\n",
       "      <td>1</td>\n",
       "      <td>0</td>\n",
       "      <td>0</td>\n",
       "    </tr>\n",
       "    <tr>\n",
       "      <th>2015-01-01 03:00:00</th>\n",
       "      <td>31.548</td>\n",
       "      <td>1229.0</td>\n",
       "      <td>3</td>\n",
       "      <td>1</td>\n",
       "      <td>0</td>\n",
       "      <td>0</td>\n",
       "      <td>0</td>\n",
       "      <td>0</td>\n",
       "      <td>1</td>\n",
       "      <td>0</td>\n",
       "      <td>0</td>\n",
       "    </tr>\n",
       "    <tr>\n",
       "      <th>2015-01-01 04:00:00</th>\n",
       "      <td>30.775</td>\n",
       "      <td>1821.0</td>\n",
       "      <td>4</td>\n",
       "      <td>1</td>\n",
       "      <td>0</td>\n",
       "      <td>0</td>\n",
       "      <td>0</td>\n",
       "      <td>0</td>\n",
       "      <td>1</td>\n",
       "      <td>0</td>\n",
       "      <td>0</td>\n",
       "    </tr>\n",
       "    <tr>\n",
       "      <th>...</th>\n",
       "      <td>...</td>\n",
       "      <td>...</td>\n",
       "      <td>...</td>\n",
       "      <td>...</td>\n",
       "      <td>...</td>\n",
       "      <td>...</td>\n",
       "      <td>...</td>\n",
       "      <td>...</td>\n",
       "      <td>...</td>\n",
       "      <td>...</td>\n",
       "      <td>...</td>\n",
       "    </tr>\n",
       "    <tr>\n",
       "      <th>2020-06-11 11:00:00</th>\n",
       "      <td>33.839</td>\n",
       "      <td>16.0</td>\n",
       "      <td>11</td>\n",
       "      <td>6</td>\n",
       "      <td>0</td>\n",
       "      <td>0</td>\n",
       "      <td>0</td>\n",
       "      <td>0</td>\n",
       "      <td>1</td>\n",
       "      <td>0</td>\n",
       "      <td>0</td>\n",
       "    </tr>\n",
       "    <tr>\n",
       "      <th>2020-06-11 12:00:00</th>\n",
       "      <td>32.387</td>\n",
       "      <td>123.0</td>\n",
       "      <td>12</td>\n",
       "      <td>6</td>\n",
       "      <td>0</td>\n",
       "      <td>0</td>\n",
       "      <td>0</td>\n",
       "      <td>0</td>\n",
       "      <td>1</td>\n",
       "      <td>0</td>\n",
       "      <td>0</td>\n",
       "    </tr>\n",
       "    <tr>\n",
       "      <th>2020-06-11 13:00:00</th>\n",
       "      <td>29.454</td>\n",
       "      <td>475.0</td>\n",
       "      <td>13</td>\n",
       "      <td>6</td>\n",
       "      <td>0</td>\n",
       "      <td>0</td>\n",
       "      <td>0</td>\n",
       "      <td>0</td>\n",
       "      <td>1</td>\n",
       "      <td>0</td>\n",
       "      <td>0</td>\n",
       "    </tr>\n",
       "    <tr>\n",
       "      <th>2020-06-11 14:00:00</th>\n",
       "      <td>27.431</td>\n",
       "      <td>925.0</td>\n",
       "      <td>14</td>\n",
       "      <td>6</td>\n",
       "      <td>0</td>\n",
       "      <td>0</td>\n",
       "      <td>0</td>\n",
       "      <td>0</td>\n",
       "      <td>1</td>\n",
       "      <td>0</td>\n",
       "      <td>0</td>\n",
       "    </tr>\n",
       "    <tr>\n",
       "      <th>2020-06-11 15:00:00</th>\n",
       "      <td>26.509</td>\n",
       "      <td>1784.0</td>\n",
       "      <td>15</td>\n",
       "      <td>6</td>\n",
       "      <td>0</td>\n",
       "      <td>0</td>\n",
       "      <td>0</td>\n",
       "      <td>0</td>\n",
       "      <td>1</td>\n",
       "      <td>0</td>\n",
       "      <td>0</td>\n",
       "    </tr>\n",
       "  </tbody>\n",
       "</table>\n",
       "<p>47728 rows × 11 columns</p>\n",
       "</div>"
      ],
      "text/plain": [
       "                     residual_energy_usage  pump_storage  hour  month  Friday  \\\n",
       "datetime                                                                        \n",
       "2015-01-01 00:00:00                 35.957         602.0     0      1       0   \n",
       "2015-01-01 01:00:00                 34.642         347.0     1      1       0   \n",
       "2015-01-01 02:00:00                 32.910         522.0     2      1       0   \n",
       "2015-01-01 03:00:00                 31.548        1229.0     3      1       0   \n",
       "2015-01-01 04:00:00                 30.775        1821.0     4      1       0   \n",
       "...                                    ...           ...   ...    ...     ...   \n",
       "2020-06-11 11:00:00                 33.839          16.0    11      6       0   \n",
       "2020-06-11 12:00:00                 32.387         123.0    12      6       0   \n",
       "2020-06-11 13:00:00                 29.454         475.0    13      6       0   \n",
       "2020-06-11 14:00:00                 27.431         925.0    14      6       0   \n",
       "2020-06-11 15:00:00                 26.509        1784.0    15      6       0   \n",
       "\n",
       "                     Monday  Saturday  Sunday  Thursday  Tuesday  Wednesday  \n",
       "datetime                                                                     \n",
       "2015-01-01 00:00:00       0         0       0         1        0          0  \n",
       "2015-01-01 01:00:00       0         0       0         1        0          0  \n",
       "2015-01-01 02:00:00       0         0       0         1        0          0  \n",
       "2015-01-01 03:00:00       0         0       0         1        0          0  \n",
       "2015-01-01 04:00:00       0         0       0         1        0          0  \n",
       "...                     ...       ...     ...       ...      ...        ...  \n",
       "2020-06-11 11:00:00       0         0       0         1        0          0  \n",
       "2020-06-11 12:00:00       0         0       0         1        0          0  \n",
       "2020-06-11 13:00:00       0         0       0         1        0          0  \n",
       "2020-06-11 14:00:00       0         0       0         1        0          0  \n",
       "2020-06-11 15:00:00       0         0       0         1        0          0  \n",
       "\n",
       "[47728 rows x 11 columns]"
      ]
     },
     "execution_count": 14,
     "metadata": {},
     "output_type": "execute_result"
    }
   ],
   "source": [
    "X_train"
   ]
  },
  {
   "cell_type": "markdown",
   "id": "49c73cd2",
   "metadata": {},
   "source": [
    "### 2. Load Random Forest Weights"
   ]
  },
  {
   "cell_type": "code",
   "execution_count": 7,
   "id": "704de3d7",
   "metadata": {},
   "outputs": [],
   "source": [
    "rf_weights = load_weights_energy()"
   ]
  },
  {
   "cell_type": "markdown",
   "id": "82101ea3",
   "metadata": {},
   "source": [
    "### 3. Explore Weights"
   ]
  },
  {
   "cell_type": "code",
   "execution_count": 76,
   "id": "eeb838d0",
   "metadata": {},
   "outputs": [
    {
     "data": {
      "text/plain": [
       "(20456, 11)"
      ]
     },
     "execution_count": 76,
     "metadata": {},
     "output_type": "execute_result"
    }
   ],
   "source": [
    "X_test.shape"
   ]
  },
  {
   "cell_type": "code",
   "execution_count": 77,
   "id": "713a2dcb",
   "metadata": {},
   "outputs": [],
   "source": [
    "test_date = 20450"
   ]
  },
  {
   "cell_type": "code",
   "execution_count": 78,
   "id": "570181be",
   "metadata": {},
   "outputs": [],
   "source": [
    "rf_weight_0 = filter_weight_rf(rf_weights , test_date)"
   ]
  },
  {
   "cell_type": "code",
   "execution_count": 79,
   "id": "52349407",
   "metadata": {},
   "outputs": [
    {
     "data": {
      "text/plain": [
       "1.0"
      ]
     },
     "execution_count": 79,
     "metadata": {},
     "output_type": "execute_result"
    }
   ],
   "source": [
    "rf_weight_0.sum()"
   ]
  },
  {
   "cell_type": "code",
   "execution_count": 80,
   "id": "100dbf0a",
   "metadata": {
    "scrolled": true
   },
   "outputs": [
    {
     "data": {
      "image/png": "[encoded data removed]",
      "text/plain": [
       "<Figure size 432x288 with 1 Axes>"
      ]
     },
     "metadata": {
      "needs_background": "light"
     },
     "output_type": "display_data"
    }
   ],
   "source": [
    "plt.plot(rf_weight_0)\n",
    "plt.show()"
   ]
  },
  {
   "cell_type": "code",
   "execution_count": 94,
   "id": "7c68696d",
   "metadata": {},
   "outputs": [],
   "source": [
    "non_zeros =  np.where(rf_weight_0 != 0)[0]"
   ]
  },
  {
   "cell_type": "code",
   "execution_count": 95,
   "id": "1add2994",
   "metadata": {},
   "outputs": [
    {
     "data": {
      "text/plain": [
       "(243,)"
      ]
     },
     "execution_count": 95,
     "metadata": {},
     "output_type": "execute_result"
    }
   ],
   "source": [
    "non_zeros.shape"
   ]
  },
  {
   "cell_type": "code",
   "execution_count": null,
   "id": "58a4c669",
   "metadata": {},
   "outputs": [],
   "source": []
  },
  {
   "cell_type": "code",
   "execution_count": 96,
   "id": "f6731818",
   "metadata": {
    "scrolled": true
   },
   "outputs": [
    {
     "data": {
      "text/plain": [
       "residual_energy_usage    57.269\n",
       "pump_storage             10.000\n",
       "hour                     18.000\n",
       "month                    10.000\n",
       "Friday                    0.000\n",
       "Monday                    0.000\n",
       "Saturday                  0.000\n",
       "Sunday                    0.000\n",
       "Thursday                  0.000\n",
       "Tuesday                   1.000\n",
       "Wednesday                 0.000\n",
       "Name: 2022-10-11 18:00:00, dtype: float64"
      ]
     },
     "execution_count": 96,
     "metadata": {},
     "output_type": "execute_result"
    }
   ],
   "source": [
    "X_test.iloc[test_date]"
   ]
  },
  {
   "cell_type": "code",
   "execution_count": 97,
   "id": "bf313915",
   "metadata": {
    "scrolled": true
   },
   "outputs": [
    {
     "name": "stdout",
     "output_type": "stream",
     "text": [
      "month\n"
     ]
    },
    {
     "data": {
      "text/plain": [
       "10    243\n",
       "Name: month, dtype: int64"
      ]
     },
     "execution_count": 97,
     "metadata": {},
     "output_type": "execute_result"
    }
   ],
   "source": [
    "print('month')\n",
    "X_train.iloc[non_zeros, : ]['month'].value_counts()"
   ]
  },
  {
   "cell_type": "code",
   "execution_count": 98,
   "id": "736fbc39",
   "metadata": {
    "scrolled": true
   },
   "outputs": [
    {
     "name": "stdout",
     "output_type": "stream",
     "text": [
      "Week day:\n"
     ]
    },
    {
     "data": {
      "text/plain": [
       "Friday       32\n",
       "Monday       40\n",
       "Saturday      0\n",
       "Sunday        0\n",
       "Thursday     48\n",
       "Tuesday      80\n",
       "Wednesday    43\n",
       "dtype: int64"
      ]
     },
     "execution_count": 98,
     "metadata": {},
     "output_type": "execute_result"
    }
   ],
   "source": [
    "print('Week day:')\n",
    "X_train.iloc[non_zeros, :][['Friday','Monday', 'Saturday', 'Sunday', 'Thursday', 'Tuesday', 'Wednesday']].sum()"
   ]
  },
  {
   "cell_type": "code",
   "execution_count": 99,
   "id": "64b04179",
   "metadata": {},
   "outputs": [
    {
     "name": "stdout",
     "output_type": "stream",
     "text": [
      "hour\n"
     ]
    },
    {
     "data": {
      "text/plain": [
       "18    76\n",
       "19    58\n",
       "17    40\n",
       "20    24\n",
       "16    23\n",
       "15    18\n",
       "14     4\n",
       "Name: hour, dtype: int64"
      ]
     },
     "execution_count": 99,
     "metadata": {},
     "output_type": "execute_result"
    }
   ],
   "source": [
    "print('hour')\n",
    "X_train.iloc[non_zeros, :]['hour'].value_counts()"
   ]
  },
  {
   "cell_type": "code",
   "execution_count": 100,
   "id": "f616c906",
   "metadata": {},
   "outputs": [
    {
     "data": {
      "text/html": [
       "<div>\n",
       "<style scoped>\n",
       "    .dataframe tbody tr th:only-of-type {\n",
       "        vertical-align: middle;\n",
       "    }\n",
       "\n",
       "    .dataframe tbody tr th {\n",
       "        vertical-align: top;\n",
       "    }\n",
       "\n",
       "    .dataframe thead th {\n",
       "        text-align: right;\n",
       "    }\n",
       "</style>\n",
       "<table border=\"1\" class=\"dataframe\">\n",
       "  <thead>\n",
       "    <tr style=\"text-align: right;\">\n",
       "      <th></th>\n",
       "      <th>month</th>\n",
       "      <th>Friday</th>\n",
       "      <th>Monday</th>\n",
       "      <th>Saturday</th>\n",
       "      <th>Sunday</th>\n",
       "      <th>Thursday</th>\n",
       "      <th>Tuesday</th>\n",
       "      <th>Wednesday</th>\n",
       "      <th>hour</th>\n",
       "    </tr>\n",
       "    <tr>\n",
       "      <th>datetime</th>\n",
       "      <th></th>\n",
       "      <th></th>\n",
       "      <th></th>\n",
       "      <th></th>\n",
       "      <th></th>\n",
       "      <th></th>\n",
       "      <th></th>\n",
       "      <th></th>\n",
       "      <th></th>\n",
       "    </tr>\n",
       "  </thead>\n",
       "  <tbody>\n",
       "    <tr>\n",
       "      <th>2015-10-01 18:00:00</th>\n",
       "      <td>10</td>\n",
       "      <td>0</td>\n",
       "      <td>0</td>\n",
       "      <td>0</td>\n",
       "      <td>0</td>\n",
       "      <td>1</td>\n",
       "      <td>0</td>\n",
       "      <td>0</td>\n",
       "      <td>18</td>\n",
       "    </tr>\n",
       "    <tr>\n",
       "      <th>2015-10-01 20:00:00</th>\n",
       "      <td>10</td>\n",
       "      <td>0</td>\n",
       "      <td>0</td>\n",
       "      <td>0</td>\n",
       "      <td>0</td>\n",
       "      <td>1</td>\n",
       "      <td>0</td>\n",
       "      <td>0</td>\n",
       "      <td>20</td>\n",
       "    </tr>\n",
       "    <tr>\n",
       "      <th>2015-10-02 18:00:00</th>\n",
       "      <td>10</td>\n",
       "      <td>1</td>\n",
       "      <td>0</td>\n",
       "      <td>0</td>\n",
       "      <td>0</td>\n",
       "      <td>0</td>\n",
       "      <td>0</td>\n",
       "      <td>0</td>\n",
       "      <td>18</td>\n",
       "    </tr>\n",
       "    <tr>\n",
       "      <th>2015-10-02 19:00:00</th>\n",
       "      <td>10</td>\n",
       "      <td>1</td>\n",
       "      <td>0</td>\n",
       "      <td>0</td>\n",
       "      <td>0</td>\n",
       "      <td>0</td>\n",
       "      <td>0</td>\n",
       "      <td>0</td>\n",
       "      <td>19</td>\n",
       "    </tr>\n",
       "    <tr>\n",
       "      <th>2015-10-02 20:00:00</th>\n",
       "      <td>10</td>\n",
       "      <td>1</td>\n",
       "      <td>0</td>\n",
       "      <td>0</td>\n",
       "      <td>0</td>\n",
       "      <td>0</td>\n",
       "      <td>0</td>\n",
       "      <td>0</td>\n",
       "      <td>20</td>\n",
       "    </tr>\n",
       "    <tr>\n",
       "      <th>...</th>\n",
       "      <td>...</td>\n",
       "      <td>...</td>\n",
       "      <td>...</td>\n",
       "      <td>...</td>\n",
       "      <td>...</td>\n",
       "      <td>...</td>\n",
       "      <td>...</td>\n",
       "      <td>...</td>\n",
       "      <td>...</td>\n",
       "    </tr>\n",
       "    <tr>\n",
       "      <th>2019-10-29 18:00:00</th>\n",
       "      <td>10</td>\n",
       "      <td>0</td>\n",
       "      <td>0</td>\n",
       "      <td>0</td>\n",
       "      <td>0</td>\n",
       "      <td>0</td>\n",
       "      <td>1</td>\n",
       "      <td>0</td>\n",
       "      <td>18</td>\n",
       "    </tr>\n",
       "    <tr>\n",
       "      <th>2019-10-29 19:00:00</th>\n",
       "      <td>10</td>\n",
       "      <td>0</td>\n",
       "      <td>0</td>\n",
       "      <td>0</td>\n",
       "      <td>0</td>\n",
       "      <td>0</td>\n",
       "      <td>1</td>\n",
       "      <td>0</td>\n",
       "      <td>19</td>\n",
       "    </tr>\n",
       "    <tr>\n",
       "      <th>2019-10-29 20:00:00</th>\n",
       "      <td>10</td>\n",
       "      <td>0</td>\n",
       "      <td>0</td>\n",
       "      <td>0</td>\n",
       "      <td>0</td>\n",
       "      <td>0</td>\n",
       "      <td>1</td>\n",
       "      <td>0</td>\n",
       "      <td>20</td>\n",
       "    </tr>\n",
       "    <tr>\n",
       "      <th>2019-10-30 19:00:00</th>\n",
       "      <td>10</td>\n",
       "      <td>0</td>\n",
       "      <td>0</td>\n",
       "      <td>0</td>\n",
       "      <td>0</td>\n",
       "      <td>0</td>\n",
       "      <td>0</td>\n",
       "      <td>1</td>\n",
       "      <td>19</td>\n",
       "    </tr>\n",
       "    <tr>\n",
       "      <th>2019-10-31 18:00:00</th>\n",
       "      <td>10</td>\n",
       "      <td>0</td>\n",
       "      <td>0</td>\n",
       "      <td>0</td>\n",
       "      <td>0</td>\n",
       "      <td>1</td>\n",
       "      <td>0</td>\n",
       "      <td>0</td>\n",
       "      <td>18</td>\n",
       "    </tr>\n",
       "  </tbody>\n",
       "</table>\n",
       "<p>243 rows × 9 columns</p>\n",
       "</div>"
      ],
      "text/plain": [
       "                     month  Friday  Monday  Saturday  Sunday  Thursday  \\\n",
       "datetime                                                                 \n",
       "2015-10-01 18:00:00     10       0       0         0       0         1   \n",
       "2015-10-01 20:00:00     10       0       0         0       0         1   \n",
       "2015-10-02 18:00:00     10       1       0         0       0         0   \n",
       "2015-10-02 19:00:00     10       1       0         0       0         0   \n",
       "2015-10-02 20:00:00     10       1       0         0       0         0   \n",
       "...                    ...     ...     ...       ...     ...       ...   \n",
       "2019-10-29 18:00:00     10       0       0         0       0         0   \n",
       "2019-10-29 19:00:00     10       0       0         0       0         0   \n",
       "2019-10-29 20:00:00     10       0       0         0       0         0   \n",
       "2019-10-30 19:00:00     10       0       0         0       0         0   \n",
       "2019-10-31 18:00:00     10       0       0         0       0         1   \n",
       "\n",
       "                     Tuesday  Wednesday  hour  \n",
       "datetime                                       \n",
       "2015-10-01 18:00:00        0          0    18  \n",
       "2015-10-01 20:00:00        0          0    20  \n",
       "2015-10-02 18:00:00        0          0    18  \n",
       "2015-10-02 19:00:00        0          0    19  \n",
       "2015-10-02 20:00:00        0          0    20  \n",
       "...                      ...        ...   ...  \n",
       "2019-10-29 18:00:00        1          0    18  \n",
       "2019-10-29 19:00:00        1          0    19  \n",
       "2019-10-29 20:00:00        1          0    20  \n",
       "2019-10-30 19:00:00        0          1    19  \n",
       "2019-10-31 18:00:00        0          0    18  \n",
       "\n",
       "[243 rows x 9 columns]"
      ]
     },
     "execution_count": 100,
     "metadata": {},
     "output_type": "execute_result"
    }
   ],
   "source": [
    "X_train.iloc[non_zeros, :][['month', 'Friday','Monday', 'Saturday', 'Sunday', 'Thursday', 'Tuesday', 'Wednesday', 'hour']]"
   ]
  },
  {
   "cell_type": "code",
   "execution_count": 91,
   "id": "0d67f253",
   "metadata": {
    "scrolled": false
   },
   "outputs": [
    {
     "data": {
      "text/plain": [
       "DatetimeIndex(['2015-05-09 20:00:00', '2015-05-16 20:00:00',\n",
       "               '2015-05-23 20:00:00', '2015-05-30 20:00:00',\n",
       "               '2015-06-06 20:00:00', '2015-06-13 20:00:00',\n",
       "               '2015-06-20 20:00:00', '2015-06-27 20:00:00',\n",
       "               '2015-07-04 20:00:00', '2015-07-11 20:00:00',\n",
       "               ...\n",
       "               '2020-04-11 20:00:00', '2020-04-18 20:00:00',\n",
       "               '2020-04-25 20:00:00', '2020-05-02 20:00:00',\n",
       "               '2020-05-09 20:00:00', '2020-05-16 20:00:00',\n",
       "               '2020-05-16 21:00:00', '2020-05-23 20:00:00',\n",
       "               '2020-05-30 20:00:00', '2020-06-06 20:00:00'],\n",
       "              dtype='datetime64[ns]', name='datetime', length=103, freq=None)"
      ]
     },
     "execution_count": 91,
     "metadata": {},
     "output_type": "execute_result"
    }
   ],
   "source": [
    "X_train.iloc[non_zeros,:].index"
   ]
  },
  {
   "cell_type": "code",
   "execution_count": 101,
   "id": "0ddcd2dd",
   "metadata": {},
   "outputs": [
    {
     "ename": "NameError",
     "evalue": "name 'rf' is not defined",
     "output_type": "error",
     "traceback": [
      "\u001b[0;31m---------------------------------------------------------------------------\u001b[0m",
      "\u001b[0;31mNameError\u001b[0m                                 Traceback (most recent call last)",
      "\u001b[0;32m/tmp/ipykernel_3180182/1197485764.py\u001b[0m in \u001b[0;36m<module>\u001b[0;34m\u001b[0m\n\u001b[0;32m----> 1\u001b[0;31m \u001b[0mrf\u001b[0m\u001b[0;34m\u001b[0m\u001b[0;34m\u001b[0m\u001b[0m\n\u001b[0m",
      "\u001b[0;31mNameError\u001b[0m: name 'rf' is not defined"
     ]
    }
   ],
   "source": [
    "rf"
   ]
  },
  {
   "cell_type": "code",
   "execution_count": null,
   "id": "81a7e3cf",
   "metadata": {},
   "outputs": [],
   "source": []
  }
 ],
 "metadata": {
  "kernelspec": {
   "display_name": "Python 3 (ipykernel)",
   "language": "python",
   "name": "python3"
  },
  "language_info": {
   "codemirror_mode": {
    "name": "ipython",
    "version": 3
   },
   "file_extension": ".py",
   "mimetype": "text/x-python",
   "name": "python",
   "nbconvert_exporter": "python",
   "pygments_lexer": "ipython3",
   "version": "3.9.7"
  }
 },
 "nbformat": 4,
 "nbformat_minor": 5
}
