{
 "cells": [
  {
   "cell_type": "code",
   "execution_count": 1,
   "id": "dc2da14a-b012-4f96-9cba-360fd39ca084",
   "metadata": {},
   "outputs": [],
   "source": [
    "%load_ext lab_black"
   ]
  },
  {
   "cell_type": "code",
   "execution_count": 2,
   "id": "13c9d536-7c47-403f-aba8-127564023bbf",
   "metadata": {},
   "outputs": [],
   "source": [
    "import pandas as pd\n",
    "import numpy as np\n",
    "import matplotlib.pyplot as plt\n",
    "from sklearn.tree import DecisionTreeRegressor\n",
    "from sklearn import tree\n",
    "from sklearn.datasets import load_diabetes\n",
    "from sklearn.model_selection import train_test_split\n",
    "\n",
    "from DecisionTreeFunctions import *"
   ]
  },
  {
   "cell_type": "code",
   "execution_count": 3,
   "id": "d861c767-d77f-4d55-9cbb-f814737142ce",
   "metadata": {},
   "outputs": [],
   "source": [
    "diabetes = load_diabetes()\n",
    "df = pd.DataFrame(\n",
    "    data=np.c_[diabetes[\"data\"], diabetes[\"target\"]],\n",
    "    columns=diabetes[\"feature_names\"] + [\"target\"],\n",
    ")"
   ]
  },
  {
   "cell_type": "code",
   "execution_count": 4,
   "id": "6a8f8f39-5c1f-4a09-a734-0e6978f9d8ce",
   "metadata": {},
   "outputs": [],
   "source": [
    "X = df.iloc[:, :-1].to_numpy(dtype=\"float32\")\n",
    "y = df.iloc[:, -1:].to_numpy()"
   ]
  },
  {
   "cell_type": "code",
   "execution_count": 5,
   "id": "96922446-6bbd-4b45-9808-732b1040e6ed",
   "metadata": {},
   "outputs": [],
   "source": [
    "X_train, X_test, y_train, y_test = train_test_split(X, y, test_size=0.2)"
   ]
  },
  {
   "cell_type": "markdown",
   "id": "b44a7c06-8f92-4b85-b631-9cd83d8870cc",
   "metadata": {},
   "source": [
    "#### 1. Building tree"
   ]
  },
  {
   "cell_type": "code",
   "execution_count": 6,
   "id": "658760db-adb4-4bb0-9975-8020f30bbf64",
   "metadata": {},
   "outputs": [],
   "source": [
    "tree1 = DecisionTreeRegressor()"
   ]
  },
  {
   "cell_type": "code",
   "execution_count": 7,
   "id": "d6e37f45-98aa-414b-8475-0cc1074d9da8",
   "metadata": {},
   "outputs": [
    {
     "data": {
      "text/html": [
       "<style>#sk-container-id-1 {color: black;background-color: white;}#sk-container-id-1 pre{padding: 0;}#sk-container-id-1 div.sk-toggleable {background-color: white;}#sk-container-id-1 label.sk-toggleable__label {cursor: pointer;display: block;width: 100%;margin-bottom: 0;padding: 0.3em;box-sizing: border-box;text-align: center;}#sk-container-id-1 label.sk-toggleable__label-arrow:before {content: \"▸\";float: left;margin-right: 0.25em;color: #696969;}#sk-container-id-1 label.sk-toggleable__label-arrow:hover:before {color: black;}#sk-container-id-1 div.sk-estimator:hover label.sk-toggleable__label-arrow:before {color: black;}#sk-container-id-1 div.sk-toggleable__content {max-height: 0;max-width: 0;overflow: hidden;text-align: left;background-color: #f0f8ff;}#sk-container-id-1 div.sk-toggleable__content pre {margin: 0.2em;color: black;border-radius: 0.25em;background-color: #f0f8ff;}#sk-container-id-1 input.sk-toggleable__control:checked~div.sk-toggleable__content {max-height: 200px;max-width: 100%;overflow: auto;}#sk-container-id-1 input.sk-toggleable__control:checked~label.sk-toggleable__label-arrow:before {content: \"▾\";}#sk-container-id-1 div.sk-estimator input.sk-toggleable__control:checked~label.sk-toggleable__label {background-color: #d4ebff;}#sk-container-id-1 div.sk-label input.sk-toggleable__control:checked~label.sk-toggleable__label {background-color: #d4ebff;}#sk-container-id-1 input.sk-hidden--visually {border: 0;clip: rect(1px 1px 1px 1px);clip: rect(1px, 1px, 1px, 1px);height: 1px;margin: -1px;overflow: hidden;padding: 0;position: absolute;width: 1px;}#sk-container-id-1 div.sk-estimator {font-family: monospace;background-color: #f0f8ff;border: 1px dotted black;border-radius: 0.25em;box-sizing: border-box;margin-bottom: 0.5em;}#sk-container-id-1 div.sk-estimator:hover {background-color: #d4ebff;}#sk-container-id-1 div.sk-parallel-item::after {content: \"\";width: 100%;border-bottom: 1px solid gray;flex-grow: 1;}#sk-container-id-1 div.sk-label:hover label.sk-toggleable__label {background-color: #d4ebff;}#sk-container-id-1 div.sk-serial::before {content: \"\";position: absolute;border-left: 1px solid gray;box-sizing: border-box;top: 0;bottom: 0;left: 50%;z-index: 0;}#sk-container-id-1 div.sk-serial {display: flex;flex-direction: column;align-items: center;background-color: white;padding-right: 0.2em;padding-left: 0.2em;position: relative;}#sk-container-id-1 div.sk-item {position: relative;z-index: 1;}#sk-container-id-1 div.sk-parallel {display: flex;align-items: stretch;justify-content: center;background-color: white;position: relative;}#sk-container-id-1 div.sk-item::before, #sk-container-id-1 div.sk-parallel-item::before {content: \"\";position: absolute;border-left: 1px solid gray;box-sizing: border-box;top: 0;bottom: 0;left: 50%;z-index: -1;}#sk-container-id-1 div.sk-parallel-item {display: flex;flex-direction: column;z-index: 1;position: relative;background-color: white;}#sk-container-id-1 div.sk-parallel-item:first-child::after {align-self: flex-end;width: 50%;}#sk-container-id-1 div.sk-parallel-item:last-child::after {align-self: flex-start;width: 50%;}#sk-container-id-1 div.sk-parallel-item:only-child::after {width: 0;}#sk-container-id-1 div.sk-dashed-wrapped {border: 1px dashed gray;margin: 0 0.4em 0.5em 0.4em;box-sizing: border-box;padding-bottom: 0.4em;background-color: white;}#sk-container-id-1 div.sk-label label {font-family: monospace;font-weight: bold;display: inline-block;line-height: 1.2em;}#sk-container-id-1 div.sk-label-container {text-align: center;}#sk-container-id-1 div.sk-container {/* jupyter's `normalize.less` sets `[hidden] { display: none; }` but bootstrap.min.css set `[hidden] { display: none !important; }` so we also need the `!important` here to be able to override the default hidden behavior on the sphinx rendered scikit-learn.org. See: https://github.com/scikit-learn/scikit-learn/issues/21755 */display: inline-block !important;position: relative;}#sk-container-id-1 div.sk-text-repr-fallback {display: none;}</style><div id=\"sk-container-id-1\" class=\"sk-top-container\"><div class=\"sk-text-repr-fallback\"><pre>DecisionTreeRegressor()</pre><b>In a Jupyter environment, please rerun this cell to show the HTML representation or trust the notebook. <br />On GitHub, the HTML representation is unable to render, please try loading this page with nbviewer.org.</b></div><div class=\"sk-container\" hidden><div class=\"sk-item\"><div class=\"sk-estimator sk-toggleable\"><input class=\"sk-toggleable__control sk-hidden--visually\" id=\"sk-estimator-id-1\" type=\"checkbox\" checked><label for=\"sk-estimator-id-1\" class=\"sk-toggleable__label sk-toggleable__label-arrow\">DecisionTreeRegressor</label><div class=\"sk-toggleable__content\"><pre>DecisionTreeRegressor()</pre></div></div></div></div></div>"
      ],
      "text/plain": [
       "DecisionTreeRegressor()"
      ]
     },
     "execution_count": 7,
     "metadata": {},
     "output_type": "execute_result"
    }
   ],
   "source": [
    "tree1.fit(X_train, y_train)"
   ]
  },
  {
   "cell_type": "markdown",
   "id": "5a520ae9-b597-407f-851b-7ad646ad62d4",
   "metadata": {},
   "source": [
    "#### 2. Calculate Observation Distribution"
   ]
  },
  {
   "cell_type": "code",
   "execution_count": 8,
   "id": "a24b07ee-f0e1-4054-b247-3adf01933316",
   "metadata": {},
   "outputs": [],
   "source": [
    "(\n",
    "    leaf_nodes,\n",
    "    y_values_leaves,\n",
    "    X_values_leaves,\n",
    "    X_ids_leaves,\n",
    "    weights_leaves,\n",
    ") = calc_obs_distribution(tree1, X_train, y_train)"
   ]
  },
  {
   "cell_type": "code",
   "execution_count": 9,
   "id": "d66f3a97-0566-4940-9b76-086ca74abed5",
   "metadata": {},
   "outputs": [],
   "source": [
    "means, weights = calc_mean_observation_tree(\n",
    "    tree1, X_test, y_train, leaf_nodes, weights_leaves\n",
    ")"
   ]
  },
  {
   "cell_type": "code",
   "execution_count": 16,
   "id": "2e1002cd-797c-46d6-9953-08014a94e1a7",
   "metadata": {},
   "outputs": [
    {
     "data": {
      "text/plain": [
       "345"
      ]
     },
     "execution_count": 16,
     "metadata": {},
     "output_type": "execute_result"
    }
   ],
   "source": [
    "len(weights_leaves)"
   ]
  },
  {
   "cell_type": "code",
   "execution_count": 18,
   "id": "7d1fb4ab-3e0b-4300-a068-d8ed667497dc",
   "metadata": {},
   "outputs": [
    {
     "data": {
      "text/plain": [
       "array([  8,  12,  14,  15,  16,  18,  19,  21,  26,  27,  29,  30,  33,\n",
       "        34,  36,  37,  38,  43,  47,  48,  49,  51,  53,  54,  56,  58,\n",
       "        59,  61,  62,  64,  65,  70,  71,  72,  78,  79,  80,  81,  84,\n",
       "        85,  86,  88,  91,  92,  94,  96,  97, 103, 104, 106, 110, 112,\n",
       "       113, 115, 116, 119, 120, 122, 124, 125, 128, 129, 131, 132, 133,\n",
       "       135, 137, 138, 143, 147, 148, 149, 151, 152, 154, 157, 158, 160,\n",
       "       161, 164, 167, 168, 169, 171, 172, 181, 182, 184, 186, 187, 190,\n",
       "       191, 192, 194, 195, 198, 199, 203, 205, 206, 207, 209, 210, 211,\n",
       "       215, 216, 220, 221, 225, 226, 228, 229, 231, 235, 236, 237, 238,\n",
       "       240, 241, 244, 245, 246, 249, 251, 252, 256, 260, 261, 262, 264,\n",
       "       266, 267, 268, 271, 273, 274, 275, 276, 279, 280, 290, 291, 292,\n",
       "       296, 297, 299, 301, 302, 306, 308, 309, 310, 311, 313, 315, 317,\n",
       "       318, 319, 320, 323, 324, 327, 330, 332, 333, 335, 337, 338, 339,\n",
       "       340, 342, 343, 352, 353, 355, 356, 357, 362, 363, 365, 366, 368,\n",
       "       370, 371, 373, 375, 378, 379, 380, 383, 385, 386, 389, 391, 392,\n",
       "       398, 399, 400, 401, 403, 404, 407, 409, 410, 412, 414, 415, 421,\n",
       "       422, 426, 428, 429, 430, 431, 437, 438, 439, 440, 442, 443, 446,\n",
       "       447, 448, 450, 452, 453, 460, 462, 463, 465, 466, 467, 472, 473,\n",
       "       474, 475, 477, 478, 479, 482, 483, 484, 489, 490, 492, 493, 494,\n",
       "       497, 499, 500, 503, 506, 507, 508, 512, 513, 514, 516, 517, 524,\n",
       "       526, 527, 530, 532, 533, 535, 537, 538, 540, 542, 545, 546, 548,\n",
       "       550, 551, 552, 555, 557, 559, 560, 565, 566, 569, 570, 572, 573,\n",
       "       576, 577, 579, 581, 583, 584, 586, 588, 589, 596, 597, 599, 601,\n",
       "       602, 603, 608, 609, 610, 612, 613, 616, 618, 619, 620, 626, 627,\n",
       "       628, 630, 631, 634, 635, 637, 639, 640, 642, 643, 647, 648, 652,\n",
       "       653, 654, 656, 658, 659, 661, 664, 665, 669, 671, 673, 674, 675,\n",
       "       678, 680, 681, 683, 686, 687, 688], dtype=int64)"
      ]
     },
     "execution_count": 18,
     "metadata": {},
     "output_type": "execute_result"
    }
   ],
   "source": [
    "leaf_nodes"
   ]
  },
  {
   "cell_type": "code",
   "execution_count": 17,
   "id": "e7f2f1e2-f47c-4523-be11-28590e8da818",
   "metadata": {},
   "outputs": [
    {
     "data": {
      "text/plain": [
       "array([0., 0., 0., 0., 0., 0., 0., 0., 0., 0., 0., 0., 0., 0., 0., 0., 0.,\n",
       "       0., 0., 0., 0., 0., 0., 0., 0., 0., 0., 0., 0., 0., 0., 0., 0., 0.,\n",
       "       0., 0., 0., 0., 0., 0., 0., 0., 0., 0., 0., 0., 0., 0., 0., 0., 0.,\n",
       "       0., 0., 0., 0., 0., 0., 0., 0., 0., 0., 0., 0., 0., 0., 0., 0., 0.,\n",
       "       0., 0., 0., 0., 0., 0., 0., 0., 0., 0., 0., 0., 0., 0., 0., 0., 0.,\n",
       "       0., 0., 0., 0., 0., 0., 0., 0., 0., 0., 0., 0., 0., 0., 0., 0., 0.,\n",
       "       0., 0., 1., 0., 0., 0., 0., 0., 0., 0., 0., 0., 0., 0., 0., 0., 0.,\n",
       "       0., 0., 0., 0., 0., 0., 0., 0., 0., 0., 0., 0., 0., 0., 0., 0., 0.,\n",
       "       0., 0., 0., 0., 0., 0., 0., 0., 0., 0., 0., 0., 0., 0., 0., 0., 0.,\n",
       "       0., 0., 0., 0., 0., 0., 0., 0., 0., 0., 0., 0., 0., 0., 0., 0., 0.,\n",
       "       0., 0., 0., 0., 0., 0., 0., 0., 0., 0., 0., 0., 0., 0., 0., 0., 0.,\n",
       "       0., 0., 0., 0., 0., 0., 0., 0., 0., 0., 0., 0., 0., 0., 0., 0., 0.,\n",
       "       0., 0., 0., 0., 0., 0., 0., 0., 0., 0., 0., 0., 0., 0., 0., 0., 0.,\n",
       "       0., 0., 0., 0., 0., 0., 0., 0., 0., 0., 0., 0., 0., 0., 0., 0., 0.,\n",
       "       0., 0., 0., 0., 0., 0., 0., 0., 0., 0., 0., 0., 0., 0., 0., 0., 0.,\n",
       "       0., 0., 0., 0., 0., 0., 0., 0., 0., 0., 0., 0., 0., 0., 0., 0., 0.,\n",
       "       0., 0., 0., 0., 0., 0., 0., 0., 0., 0., 0., 0., 0., 0., 0., 0., 0.,\n",
       "       0., 0., 0., 0., 0., 0., 0., 0., 0., 0., 0., 0., 0., 0., 0., 0., 0.,\n",
       "       0., 0., 0., 0., 0., 0., 0., 0., 0., 0., 0., 0., 0., 0., 0., 0., 0.,\n",
       "       0., 0., 0., 0., 0., 0., 0., 0., 0., 0., 0., 0., 0., 0., 0., 0., 0.,\n",
       "       0., 0., 0., 0., 0., 0., 0., 0., 0., 0., 0., 0., 0.])"
      ]
     },
     "execution_count": 17,
     "metadata": {},
     "output_type": "execute_result"
    }
   ],
   "source": [
    "weights_leaves[0]"
   ]
  },
  {
   "cell_type": "code",
   "execution_count": null,
   "id": "3bad1789-e1ff-4c1d-a651-5bdaca22ce04",
   "metadata": {},
   "outputs": [],
   "source": []
  },
  {
   "cell_type": "code",
   "execution_count": null,
   "id": "a6791079-7ea0-46fe-b465-dc7032b16c2c",
   "metadata": {},
   "outputs": [],
   "source": []
  },
  {
   "cell_type": "code",
   "execution_count": null,
   "id": "941399cb-3f69-44df-9c44-c672476cc103",
   "metadata": {},
   "outputs": [],
   "source": []
  },
  {
   "cell_type": "code",
   "execution_count": null,
   "id": "55d8cb22-b78e-4939-b69c-992b65ef8c45",
   "metadata": {},
   "outputs": [],
   "source": []
  },
  {
   "cell_type": "code",
   "execution_count": 10,
   "id": "21b2fed3-8db4-4cdf-9d80-db9d8fe0d46d",
   "metadata": {},
   "outputs": [
    {
     "data": {
      "text/plain": [
       "(353, 1)"
      ]
     },
     "execution_count": 10,
     "metadata": {},
     "output_type": "execute_result"
    }
   ],
   "source": [
    "y_train.shape"
   ]
  },
  {
   "cell_type": "code",
   "execution_count": 11,
   "id": "6109c8dc-360f-483b-8dc9-a2c1120f40f9",
   "metadata": {},
   "outputs": [],
   "source": [
    "test = tree1.predict(X_test)"
   ]
  },
  {
   "cell_type": "code",
   "execution_count": 12,
   "id": "e184f54d-d437-48bf-957d-d2f9d07dd246",
   "metadata": {},
   "outputs": [
    {
     "data": {
      "text/plain": [
       "(89,)"
      ]
     },
     "execution_count": 12,
     "metadata": {},
     "output_type": "execute_result"
    }
   ],
   "source": [
    "test.shape"
   ]
  },
  {
   "cell_type": "code",
   "execution_count": 13,
   "id": "0cba8e59-f296-488c-a789-a8b4714e7d5f",
   "metadata": {},
   "outputs": [
    {
     "data": {
      "text/plain": [
       "array([ True,  True,  True,  True,  True,  True,  True,  True,  True,\n",
       "        True,  True,  True,  True,  True,  True,  True,  True,  True,\n",
       "        True,  True,  True,  True,  True,  True,  True,  True,  True,\n",
       "        True,  True,  True,  True,  True,  True,  True,  True,  True,\n",
       "        True,  True,  True,  True,  True,  True,  True,  True,  True,\n",
       "        True,  True,  True,  True,  True,  True,  True,  True,  True,\n",
       "        True,  True,  True,  True,  True,  True,  True,  True,  True,\n",
       "        True,  True,  True,  True,  True,  True,  True,  True,  True,\n",
       "        True,  True,  True,  True,  True,  True,  True,  True,  True,\n",
       "        True,  True,  True,  True,  True,  True,  True,  True])"
      ]
     },
     "execution_count": 13,
     "metadata": {},
     "output_type": "execute_result"
    }
   ],
   "source": [
    "means == test"
   ]
  },
  {
   "cell_type": "code",
   "execution_count": null,
   "id": "e0c4ab65-3574-499b-924f-c3106accb927",
   "metadata": {},
   "outputs": [],
   "source": []
  },
  {
   "cell_type": "code",
   "execution_count": 350,
   "id": "553d7cd1-80ac-416b-a6a6-f5555275b6d2",
   "metadata": {},
   "outputs": [],
   "source": [
    "def calc_empirical_dist_tree(tree, X_test, y_train, leaf_nodes, weights_leaves):\n",
    "    #  Calculate index of the leaf that each sample is predicted as\n",
    "    X_test_id_leaves = tree.apply(X_test)\n",
    "    \n",
    "    empirical_dist = []\n",
    "    for i in range(len(X_test_id_leaves)):\n",
    "        X_id = X_test_id_leaves[i]\n",
    "        index = np.where(leaf_nodes == X_id)[0][0]  # Calculate index of test\n",
    "        \n",
    "        for j in range(len(y_train)):\n",
    "            dist = \n",
    "            "
   ]
  },
  {
   "cell_type": "code",
   "execution_count": 351,
   "id": "11129f1f-dd61-4db4-ba99-fb5b2656c715",
   "metadata": {},
   "outputs": [],
   "source": [
    "def calc_obs_weight(X_test, tree, leaf_nodes, X_ids_leaves):\n",
    "    \"\"\"\n",
    "    Calculates the weights w_i(x,θ) for each test value\n",
    "    Input:\n",
    "        param X_test: Array of test values\n",
    "        param tree: Fitted DecisionTreeRegressor\n",
    "        param leaf_nodes: Ordered numerical array with index of leaf nodes\n",
    "        param X_ids_leaves: List of arrays that determine whether a training input is in a leaf or not\n",
    "\n",
    "    Output:\n",
    "        weights: List of arrays with the weights of the training observations\n",
    "    \"\"\"\n",
    "\n",
    "    #  Calculate index of the leaf that each sample is predicted as\n",
    "    X_test_id_leaves = tree.apply(X_test)\n",
    "\n",
    "    weights = []\n",
    "    for i in range(len(X_test_id_leaves)):\n",
    "        X_id = X_test_id_leaves[i]\n",
    "        index = np.where(leaf_nodes == X_id)[0][0]\n",
    "        weights_true = 1 / np.sum(X_ids_leaves[index])\n",
    "        help_matrix = X_ids_leaves[index].astype(int)\n",
    "        help_matrix = help_matrix.astype(float)\n",
    "        help_matrix[help_matrix == 1] = weights_true\n",
    "        weights.append(help_matrix)\n",
    "\n",
    "    return weights"
   ]
  },
  {
   "cell_type": "code",
   "execution_count": 352,
   "id": "ce15e120-d02e-4c97-8b9c-3590edf5e032",
   "metadata": {},
   "outputs": [],
   "source": [
    "weights = calc_obs_weight(X_test[0:3], tree1, leaf_nodes, X_ids_leaves)"
   ]
  },
  {
   "cell_type": "code",
   "execution_count": null,
   "id": "865a61b0-19df-4f73-8a48-e9eebe9ebf7e",
   "metadata": {},
   "outputs": [],
   "source": []
  },
  {
   "cell_type": "code",
   "execution_count": null,
   "id": "781316cb-ff28-48cf-8da3-00f28f0ff4ad",
   "metadata": {},
   "outputs": [],
   "source": []
  },
  {
   "cell_type": "code",
   "execution_count": null,
   "id": "03abde8a-2bc9-42be-9b4f-d39d49498e7c",
   "metadata": {},
   "outputs": [],
   "source": []
  },
  {
   "cell_type": "code",
   "execution_count": null,
   "id": "bf4c842c-3bc2-47a9-89bb-498688b988ab",
   "metadata": {},
   "outputs": [],
   "source": []
  },
  {
   "cell_type": "code",
   "execution_count": null,
   "id": "be6c42fe-2904-4fb4-b772-d415748d055b",
   "metadata": {},
   "outputs": [],
   "source": []
  },
  {
   "cell_type": "code",
   "execution_count": null,
   "id": "65693352-c4ee-4713-8ac4-b0c8fc2d914e",
   "metadata": {},
   "outputs": [],
   "source": []
  },
  {
   "cell_type": "code",
   "execution_count": null,
   "id": "46bf5467-be0e-409a-9908-27b7500bb0f6",
   "metadata": {},
   "outputs": [],
   "source": []
  },
  {
   "cell_type": "code",
   "execution_count": null,
   "id": "50645b0b-efb7-4a25-a47f-48d0b5bbe355",
   "metadata": {},
   "outputs": [],
   "source": []
  }
 ],
 "metadata": {
  "kernelspec": {
   "display_name": "Python 3 (ipykernel)",
   "language": "python",
   "name": "python3"
  },
  "language_info": {
   "codemirror_mode": {
    "name": "ipython",
    "version": 3
   },
   "file_extension": ".py",
   "mimetype": "text/x-python",
   "name": "python",
   "nbconvert_exporter": "python",
   "pygments_lexer": "ipython3",
   "version": "3.11.3"
  }
 },
 "nbformat": 4,
 "nbformat_minor": 5
}
