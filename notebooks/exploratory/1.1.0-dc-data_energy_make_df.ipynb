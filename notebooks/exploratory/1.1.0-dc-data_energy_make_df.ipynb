{
 "cells": [
  {
   "cell_type": "code",
   "execution_count": 1,
   "id": "02894f43-dd29-4afe-9fe6-0285bc54df78",
   "metadata": {
    "tags": []
   },
   "outputs": [],
   "source": [
    "# Dataset\n",
    "from sklearn.datasets import load_diabetes\n",
    "\n",
    "# Basics\n",
    "import pandas as pd\n",
    "import numpy as np\n",
    "\n",
    "# Plotting\n",
    "import matplotlib.pyplot as plt\n",
    "\n",
    "# Model\n",
    "from sklearn.ensemble import RandomForestRegressor\n",
    "\n",
    "# Helpful:\n",
    "from sklearn.model_selection import train_test_split\n",
    "\n",
    "# Path setup\n",
    "import sys\n",
    "import os\n",
    "\n",
    "sys.path.append(\"/home/dchen/Random_Forest_Weights/\")\n",
    "# my functions:\n",
    "from src_rf.methods.calc_mean import *\n",
    "from src_rf.methods.calc_weights import *\n",
    "from src_rf.methods.calc_dist import *"
   ]
  },
  {
   "cell_type": "code",
   "execution_count": 16,
   "id": "48d2be46-3e29-4829-b16e-091dc4fbebd4",
   "metadata": {},
   "outputs": [],
   "source": [
    "df_energy = pd.read_csv(\"datasets/energy_data.csv\")"
   ]
  },
  {
   "cell_type": "code",
   "execution_count": 17,
   "id": "7c14cde1-cd16-4383-83e2-2d8f614256b4",
   "metadata": {},
   "outputs": [],
   "source": [
    "df_energy = df_energy.rename(\n",
    "    columns={\n",
    "        \"Datum\": \"Date\",\n",
    "        \"Uhrzeit\": \"Time\",\n",
    "        \"Gesamt (Netzlast)[MWh]\": \"total_energy_usage\",\n",
    "        \"Residuallast[MWh]\": \"residual_energy_usage\",\n",
    "        \"Pumpspeicher[MWh]\": \"pump_storage\",\n",
    "    }\n",
    ")"
   ]
  },
  {
   "cell_type": "code",
   "execution_count": 18,
   "id": "284c0b3e-456a-4b3b-b9c2-d22cd8b7ff6c",
   "metadata": {},
   "outputs": [],
   "source": [
    "df_energy[\"datetime\"] = pd.to_datetime(df_energy[\"Date\"] + \" \" + df_energy[\"Time\"])"
   ]
  },
  {
   "cell_type": "code",
   "execution_count": 20,
   "id": "a164bac9-8c20-4e2d-a94a-9e06f71862eb",
   "metadata": {
    "scrolled": false
   },
   "outputs": [],
   "source": [
    "df_energy = df_energy.set_index(\"datetime\")\n",
    "df_energy_hourly = df_energy.resample(\"H\").sum()"
   ]
  },
  {
   "cell_type": "code",
   "execution_count": 24,
   "id": "a31c31bc",
   "metadata": {},
   "outputs": [
    {
     "data": {
      "text/html": [
       "<div>\n",
       "<style scoped>\n",
       "    .dataframe tbody tr th:only-of-type {\n",
       "        vertical-align: middle;\n",
       "    }\n",
       "\n",
       "    .dataframe tbody tr th {\n",
       "        vertical-align: top;\n",
       "    }\n",
       "\n",
       "    .dataframe thead th {\n",
       "        text-align: right;\n",
       "    }\n",
       "</style>\n",
       "<table border=\"1\" class=\"dataframe\">\n",
       "  <thead>\n",
       "    <tr style=\"text-align: right;\">\n",
       "      <th></th>\n",
       "      <th>total_energy_usage</th>\n",
       "      <th>residual_energy_usage</th>\n",
       "      <th>pump_storage</th>\n",
       "    </tr>\n",
       "    <tr>\n",
       "      <th>datetime</th>\n",
       "      <th></th>\n",
       "      <th></th>\n",
       "      <th></th>\n",
       "    </tr>\n",
       "  </thead>\n",
       "  <tbody>\n",
       "    <tr>\n",
       "      <th>2015-01-01 00:00:00</th>\n",
       "      <td>44.601</td>\n",
       "      <td>35.957</td>\n",
       "      <td>602.0</td>\n",
       "    </tr>\n",
       "    <tr>\n",
       "      <th>2015-01-01 01:00:00</th>\n",
       "      <td>43.455</td>\n",
       "      <td>34.642</td>\n",
       "      <td>347.0</td>\n",
       "    </tr>\n",
       "    <tr>\n",
       "      <th>2015-01-01 02:00:00</th>\n",
       "      <td>41.964</td>\n",
       "      <td>32.910</td>\n",
       "      <td>522.0</td>\n",
       "    </tr>\n",
       "    <tr>\n",
       "      <th>2015-01-01 03:00:00</th>\n",
       "      <td>40.618</td>\n",
       "      <td>31.548</td>\n",
       "      <td>1229.0</td>\n",
       "    </tr>\n",
       "    <tr>\n",
       "      <th>2015-01-01 04:00:00</th>\n",
       "      <td>39.936</td>\n",
       "      <td>30.775</td>\n",
       "      <td>1821.0</td>\n",
       "    </tr>\n",
       "  </tbody>\n",
       "</table>\n",
       "</div>"
      ],
      "text/plain": [
       "                     total_energy_usage  residual_energy_usage  pump_storage\n",
       "datetime                                                                    \n",
       "2015-01-01 00:00:00              44.601                 35.957         602.0\n",
       "2015-01-01 01:00:00              43.455                 34.642         347.0\n",
       "2015-01-01 02:00:00              41.964                 32.910         522.0\n",
       "2015-01-01 03:00:00              40.618                 31.548        1229.0\n",
       "2015-01-01 04:00:00              39.936                 30.775        1821.0"
      ]
     },
     "execution_count": 24,
     "metadata": {},
     "output_type": "execute_result"
    }
   ],
   "source": [
    "df_energy_hourly.head()"
   ]
  },
  {
   "cell_type": "code",
   "execution_count": 25,
   "id": "72d56829",
   "metadata": {},
   "outputs": [],
   "source": [
    "# Further modifications\n",
    "# Create the 'weekday' column\n",
    "df_energy_hourly[\"weekday\"] = df_energy_hourly.index.day_name()\n",
    "# Create the 'hour' column\n",
    "df_energy_hourly[\"hour\"] = df_energy_hourly.index.hour\n",
    "# Extracting the month from the DatetimeIndex\n",
    "df_energy_hourly['month'] = df_energy_hourly.index.month"
   ]
  },
  {
   "cell_type": "code",
   "execution_count": 26,
   "id": "efe9a6c0",
   "metadata": {},
   "outputs": [],
   "source": [
    "df_energy_hourly[\"weekday\"] = df_energy_hourly[\"weekday\"].astype(\"category\")\n",
    "df_energy_hourly = pd.get_dummies(df_energy_hourly, columns=[\"weekday\"], prefix=\"\", prefix_sep=\"\")"
   ]
  },
  {
   "cell_type": "code",
   "execution_count": 29,
   "id": "4327924e-7a3c-41dd-8880-e1917cd31c3a",
   "metadata": {},
   "outputs": [],
   "source": [
    "df_energy_hourly.to_csv(r\"datasets/energy_data_hourly.csv\")"
   ]
  }
 ],
 "metadata": {
  "kernelspec": {
   "display_name": "Python 3 (ipykernel)",
   "language": "python",
   "name": "python3"
  },
  "language_info": {
   "codemirror_mode": {
    "name": "ipython",
    "version": 3
   },
   "file_extension": ".py",
   "mimetype": "text/x-python",
   "name": "python",
   "nbconvert_exporter": "python",
   "pygments_lexer": "ipython3",
   "version": "3.9.7"
  }
 },
 "nbformat": 4,
 "nbformat_minor": 5
}
