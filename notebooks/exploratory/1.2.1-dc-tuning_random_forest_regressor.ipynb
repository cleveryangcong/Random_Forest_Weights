{
 "cells": [
  {
   "cell_type": "code",
   "execution_count": 15,
   "id": "717235f1",
   "metadata": {},
   "outputs": [],
   "source": [
    "# Path setup\n",
    "import sys\n",
    "import os\n",
    "\n",
    "sys.path.append(\"/home/dchen/Random_Forest_Weights/\")\n",
    "\n",
    "# Basics:\n",
    "import pandas as pd\n",
    "import numpy as np\n",
    "\n",
    "pd.set_option('display.max_columns', None)\n",
    "\n",
    "# Visualizations\n",
    "import matplotlib.pyplot as plt\n",
    "import seaborn as sns\n",
    "\n",
    "# Helpful:\n",
    "from sklearn.model_selection import train_test_split\n",
    "\n",
    "# Pipeline and ColumnsTransformer:\n",
    "from sklearn.pipeline import Pipeline\n",
    "from sklearn.compose import ColumnTransformer\n",
    "from sklearn.impute import SimpleImputer\n",
    "from sklearn.preprocessing import OneHotEncoder, LabelEncoder, StandardScaler\n",
    "from sklearn.model_selection import GridSearchCV, RandomizedSearchCV\n",
    "from sklearn.model_selection import TimeSeriesSplit\n",
    "# models:\n",
    "import statsmodels.api as sm\n",
    "from sklearn.ensemble import RandomForestRegressor\n",
    "\n",
    "# my functions:\n",
    "from src_rf.methods.calc_mean import *\n",
    "from src_rf.methods.calc_weights import *\n",
    "from src_rf.methods.calc_dist import *"
   ]
  },
  {
   "cell_type": "markdown",
   "id": "f32c8741",
   "metadata": {},
   "source": [
    "### 1. Load Data"
   ]
  },
  {
   "cell_type": "code",
   "execution_count": 3,
   "id": "dd60281c",
   "metadata": {},
   "outputs": [],
   "source": [
    "df = pd.read_csv(\"/home/dchen/Random_Forest_Weights/src_rf/data/energy_data_hourly.csv\"\n",
    "                 , index_col = 'datetime', parse_dates=True)"
   ]
  },
  {
   "cell_type": "markdown",
   "id": "963488b9",
   "metadata": {},
   "source": [
    "### 2. Train Test Split"
   ]
  },
  {
   "cell_type": "code",
   "execution_count": 8,
   "id": "f2fc4a3d",
   "metadata": {},
   "outputs": [],
   "source": [
    "X = df.drop('total_energy_usage', axis = 1)\n",
    "y = df['total_energy_usage']"
   ]
  },
  {
   "cell_type": "code",
   "execution_count": 9,
   "id": "012b8c2b",
   "metadata": {},
   "outputs": [],
   "source": [
    "X_train, X_test, y_train, y_test = train_test_split(X, y, test_size= 0.2 ,shuffle=False, random_state=42)"
   ]
  },
  {
   "cell_type": "markdown",
   "id": "93233add",
   "metadata": {},
   "source": [
    "### 3. Hyperparameter tuning"
   ]
  },
  {
   "cell_type": "code",
   "execution_count": 17,
   "id": "a131ccac",
   "metadata": {},
   "outputs": [],
   "source": [
    "# Define the hyperparameters and their possible values\n",
    "param_dist = {\n",
    "    'n_estimators': np.arange(10, 200, 10),\n",
    "    'max_depth': [None] + list(np.arange(2, 20)),\n",
    "    'min_samples_split': np.arange(2, 20, 2),\n",
    "    'min_samples_leaf': np.arange(1, 20, 2),\n",
    "    'bootstrap': [True, False],\n",
    "    'criterion': ['mse', 'mae']\n",
    "}\n"
   ]
  },
  {
   "cell_type": "code",
   "execution_count": 18,
   "id": "eb916e7c",
   "metadata": {},
   "outputs": [],
   "source": [
    "rf = RandomForestRegressor()\n",
    "tscv = TimeSeriesSplit(n_splits=5)"
   ]
  },
  {
   "cell_type": "code",
   "execution_count": 20,
   "id": "afbfc4ab",
   "metadata": {},
   "outputs": [],
   "source": [
    "random_search = RandomizedSearchCV(\n",
    "    rf, \n",
    "    param_distributions=param_dist, \n",
    "    n_iter=3, \n",
    "    cv=tscv, \n",
    "    verbose=1, \n",
    "    n_jobs=-1,\n",
    "    scoring='neg_mean_squared_error', # or any other appropriate scoring metric\n",
    "    random_state=42\n",
    ")"
   ]
  },
  {
   "cell_type": "code",
   "execution_count": null,
   "id": "586ad940",
   "metadata": {},
   "outputs": [
    {
     "name": "stdout",
     "output_type": "stream",
     "text": [
      "Fitting 5 folds for each of 3 candidates, totalling 15 fits\n"
     ]
    }
   ],
   "source": [
    "random_search.fit(X_train, y_train)"
   ]
  },
  {
   "cell_type": "code",
   "execution_count": null,
   "id": "0d87d35e",
   "metadata": {},
   "outputs": [],
   "source": [
    "print(random_search.best_params_)\n",
    "print(random_search.best_score_)"
   ]
  }
 ],
 "metadata": {
  "kernelspec": {
   "display_name": "Python 3 (ipykernel)",
   "language": "python",
   "name": "python3"
  },
  "language_info": {
   "codemirror_mode": {
    "name": "ipython",
    "version": 3
   },
   "file_extension": ".py",
   "mimetype": "text/x-python",
   "name": "python",
   "nbconvert_exporter": "python",
   "pygments_lexer": "ipython3",
   "version": "3.9.7"
  }
 },
 "nbformat": 4,
 "nbformat_minor": 5
}
