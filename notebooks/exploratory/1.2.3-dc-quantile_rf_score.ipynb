{
 "cells": [
  {
   "cell_type": "code",
   "execution_count": 1,
   "id": "c47e5aa3",
   "metadata": {},
   "outputs": [],
   "source": [
    "# Path setup\n",
    "import sys\n",
    "import os\n",
    "\n",
    "sys.path.append(\"/home/dchen/Random_Forest_Weights/\")\n",
    "\n",
    "# Basics:\n",
    "import pandas as pd\n",
    "import numpy as np\n",
    "\n",
    "pd.set_option('display.max_columns', None)\n",
    "\n",
    "# Visualizations\n",
    "import matplotlib.pyplot as plt\n",
    "import seaborn as sns\n",
    "\n",
    "# Helpful:\n",
    "from sklearn.model_selection import train_test_split\n",
    "\n",
    "# Pipeline and ColumnsTransformer:\n",
    "from sklearn.pipeline import Pipeline\n",
    "from sklearn.compose import ColumnTransformer\n",
    "from sklearn.impute import SimpleImputer\n",
    "from sklearn.preprocessing import OneHotEncoder, LabelEncoder, StandardScaler\n",
    "from sklearn.model_selection import GridSearchCV, RandomizedSearchCV\n",
    "\n",
    "# models:\n",
    "import statsmodels.api as sm\n",
    "\n",
    "# my functions:\n",
    "from src_rf.methods.calc_mean import *\n",
    "from src_rf.methods.calc_weights import *\n",
    "from src_rf.methods.calc_dist import *\n",
    "from src_rf.datasets.load_weights_energy import * "
   ]
  },
  {
   "cell_type": "markdown",
   "id": "56e116cf",
   "metadata": {},
   "source": [
    "### 0. Setup"
   ]
  },
  {
   "cell_type": "code",
   "execution_count": 2,
   "id": "ddaa074d",
   "metadata": {},
   "outputs": [],
   "source": [
    "def quantile_loss(y_true, y_pred, tau):\n",
    "    return max(tau * (y_true - y_pred), (1 - tau) * (y_pred - y_true))"
   ]
  },
  {
   "cell_type": "code",
   "execution_count": 3,
   "id": "1c7a0419",
   "metadata": {},
   "outputs": [],
   "source": [
    "quantiles = [0.025, 0.25, 0.5, 0.75, 0.975]"
   ]
  },
  {
   "cell_type": "markdown",
   "id": "6ceb727c",
   "metadata": {},
   "source": [
    "### 1. Load Data and train test split"
   ]
  },
  {
   "cell_type": "code",
   "execution_count": 4,
   "id": "dccca556",
   "metadata": {},
   "outputs": [],
   "source": [
    "df = pd.read_csv(\"/home/dchen/Random_Forest_Weights/src_rf/data/energy_data_hourly.csv\"\n",
    "                 , index_col = 'datetime', parse_dates=True)"
   ]
  },
  {
   "cell_type": "code",
   "execution_count": 5,
   "id": "e92350b0",
   "metadata": {},
   "outputs": [],
   "source": [
    "X = df.drop('total_energy_usage', axis = 1)\n",
    "y = df['total_energy_usage']"
   ]
  },
  {
   "cell_type": "code",
   "execution_count": 6,
   "id": "3c99a65b",
   "metadata": {},
   "outputs": [],
   "source": [
    "X_train, X_test, y_train, y_test = train_test_split(X, y, test_size= 0.3 ,shuffle=False, random_state=42)"
   ]
  },
  {
   "cell_type": "markdown",
   "id": "be1fa7e2",
   "metadata": {},
   "source": [
    "### 2. Load Random Forest Weights"
   ]
  },
  {
   "cell_type": "code",
   "execution_count": 7,
   "id": "6c63f9d3",
   "metadata": {},
   "outputs": [],
   "source": [
    "rf_weights = load_weights_energy()"
   ]
  },
  {
   "cell_type": "markdown",
   "id": "c65fc3fc",
   "metadata": {},
   "source": [
    "### 3. Calculate Quantiles:"
   ]
  },
  {
   "cell_type": "code",
   "execution_count": 8,
   "id": "fa712c65",
   "metadata": {},
   "outputs": [],
   "source": [
    "rf_dist = calc_dist_rf(rf_weights, y_train)"
   ]
  },
  {
   "cell_type": "code",
   "execution_count": 10,
   "id": "77b5e34f",
   "metadata": {
    "scrolled": true
   },
   "outputs": [],
   "source": [
    "quantile_preds = np.zeros((len(y_test), 5))\n",
    "for count, q in enumerate(quantiles):\n",
    "    quantile_preds[:,count] = np.array(calc_quantile_rf(rf_dist,0.5, y_train))"
   ]
  },
  {
   "cell_type": "code",
   "execution_count": null,
   "id": "d7bd4383",
   "metadata": {},
   "outputs": [],
   "source": []
  }
 ],
 "metadata": {
  "kernelspec": {
   "display_name": "Python 3 (ipykernel)",
   "language": "python",
   "name": "python3"
  },
  "language_info": {
   "codemirror_mode": {
    "name": "ipython",
    "version": 3
   },
   "file_extension": ".py",
   "mimetype": "text/x-python",
   "name": "python",
   "nbconvert_exporter": "python",
   "pygments_lexer": "ipython3",
   "version": "3.9.7"
  }
 },
 "nbformat": 4,
 "nbformat_minor": 5
}
