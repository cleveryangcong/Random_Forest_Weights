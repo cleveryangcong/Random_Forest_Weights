{
 "cells": [
  {
   "cell_type": "code",
   "execution_count": 2,
   "id": "245b1908",
   "metadata": {},
   "outputs": [],
   "source": [
    "# Path setup\n",
    "import sys\n",
    "import os\n",
    "\n",
    "sys.path.append(\"/home/dchen/Random_Forest_Weights/\")\n",
    "\n",
    "# Basics:\n",
    "import pandas as pd\n",
    "import numpy as np\n",
    "\n",
    "pd.set_option('display.max_columns', None)\n",
    "\n",
    "# Visualizations\n",
    "import matplotlib.pyplot as plt\n",
    "import seaborn as sns\n",
    "\n",
    "# Helpful:\n",
    "from sklearn.model_selection import train_test_split\n",
    "\n",
    "# Pipeline and ColumnsTransformer:\n",
    "from sklearn.pipeline import Pipeline\n",
    "from sklearn.compose import ColumnTransformer\n",
    "from sklearn.impute import SimpleImputer\n",
    "from sklearn.preprocessing import OneHotEncoder, LabelEncoder, StandardScaler\n",
    "from sklearn.model_selection import GridSearchCV, RandomizedSearchCV\n",
    "\n",
    "# models:\n",
    "import statsmodels.api as sm\n",
    "\n",
    "# my functions:\n",
    "from src_rf.methods.calc_mean import *\n",
    "from src_rf.methods.calc_weights import *\n",
    "from src_rf.methods.calc_dist import *\n",
    "from src_rf.datasets.load_weights_energy import * "
   ]
  },
  {
   "cell_type": "markdown",
   "id": "62ea9f05",
   "metadata": {},
   "source": [
    "### 0. Setup"
   ]
  },
  {
   "cell_type": "code",
   "execution_count": 3,
   "id": "408a2073",
   "metadata": {},
   "outputs": [],
   "source": [
    "def quantile_loss(y_true, y_pred, tau):\n",
    "    return max(tau * (y_true - y_pred), (1 - tau) * (y_pred - y_true))"
   ]
  },
  {
   "cell_type": "code",
   "execution_count": 4,
   "id": "8449dfc7",
   "metadata": {},
   "outputs": [],
   "source": [
    "quantiles = [0.025, 0.25, 0.5, 0.75, 0.975]"
   ]
  },
  {
   "cell_type": "markdown",
   "id": "742b858c",
   "metadata": {},
   "source": [
    "### 1. Load Data and train test split"
   ]
  },
  {
   "cell_type": "code",
   "execution_count": 5,
   "id": "c0496bd1",
   "metadata": {},
   "outputs": [],
   "source": [
    "df = pd.read_csv(\"/home/dchen/Random_Forest_Weights/src_rf/data/energy_data_hourly.csv\"\n",
    "                 , index_col = 'datetime', parse_dates=True)"
   ]
  },
  {
   "cell_type": "code",
   "execution_count": 6,
   "id": "da81bf44",
   "metadata": {},
   "outputs": [],
   "source": [
    "X = df.drop('total_energy_usage', axis = 1)\n",
    "y = df['total_energy_usage']"
   ]
  },
  {
   "cell_type": "code",
   "execution_count": 7,
   "id": "af434450",
   "metadata": {},
   "outputs": [],
   "source": [
    "X_train, X_test, y_train, y_test = train_test_split(X, y, test_size= 0.3 ,shuffle=False, random_state=42)"
   ]
  },
  {
   "cell_type": "code",
   "execution_count": 41,
   "id": "b3d85eb0",
   "metadata": {},
   "outputs": [
    {
     "data": {
      "text/plain": [
       "(20456, 11)"
      ]
     },
     "execution_count": 41,
     "metadata": {},
     "output_type": "execute_result"
    }
   ],
   "source": [
    "X_test.shape"
   ]
  },
  {
   "cell_type": "markdown",
   "id": "49c73cd2",
   "metadata": {},
   "source": [
    "### 2. Load Random Forest Weights"
   ]
  },
  {
   "cell_type": "code",
   "execution_count": 8,
   "id": "704de3d7",
   "metadata": {},
   "outputs": [],
   "source": [
    "rf_weights = load_weights_energy()"
   ]
  },
  {
   "cell_type": "code",
   "execution_count": 38,
   "id": "c49dffd3",
   "metadata": {},
   "outputs": [],
   "source": [
    "cdfs = calc_dist_rf(rf_weights, y_train)"
   ]
  },
  {
   "cell_type": "code",
   "execution_count": 61,
   "id": "154cd1bc",
   "metadata": {},
   "outputs": [
    {
     "data": {
      "text/plain": [
       "0.0386"
      ]
     },
     "execution_count": 61,
     "metadata": {},
     "output_type": "execute_result"
    }
   ],
   "source": [
    "cdfs[2578](min(y_train))"
   ]
  },
  {
   "cell_type": "code",
   "execution_count": 66,
   "id": "d429817c",
   "metadata": {},
   "outputs": [
    {
     "data": {
      "text/plain": [
       "0.0"
      ]
     },
     "execution_count": 66,
     "metadata": {},
     "output_type": "execute_result"
    }
   ],
   "source": [
    "min(y_train)"
   ]
  },
  {
   "cell_type": "code",
   "execution_count": 70,
   "id": "1b267584",
   "metadata": {},
   "outputs": [
    {
     "data": {
      "text/plain": [
       "(47728,)"
      ]
     },
     "execution_count": 70,
     "metadata": {},
     "output_type": "execute_result"
    }
   ],
   "source": [
    "y_train.shape"
   ]
  },
  {
   "cell_type": "code",
   "execution_count": 69,
   "id": "e3db2307",
   "metadata": {},
   "outputs": [
    {
     "data": {
      "text/plain": [
       "47722"
      ]
     },
     "execution_count": 69,
     "metadata": {},
     "output_type": "execute_result"
    }
   ],
   "source": [
    "np.count_nonzero(y_train)"
   ]
  },
  {
   "cell_type": "code",
   "execution_count": 72,
   "id": "e694576a",
   "metadata": {},
   "outputs": [
    {
     "data": {
      "text/plain": [
       "0.03858730158730159"
      ]
     },
     "execution_count": 72,
     "metadata": {},
     "output_type": "execute_result"
    }
   ],
   "source": [
    "y = min(y_train)\n",
    "sum(w for point, w in zip(y_train, test) if point <= y)"
   ]
  },
  {
   "cell_type": "code",
   "execution_count": 77,
   "id": "70cd52cc",
   "metadata": {
    "scrolled": false
   },
   "outputs": [
    {
     "name": "stderr",
     "output_type": "stream",
     "text": [
      " 13%|██████████▌                                                                     | 2706/20456 [00:25<02:45, 107.42it/s]\n"
     ]
    },
    {
     "ename": "KeyboardInterrupt",
     "evalue": "",
     "output_type": "error",
     "traceback": [
      "\u001b[0;31m---------------------------------------------------------------------------\u001b[0m",
      "\u001b[0;31mKeyboardInterrupt\u001b[0m                         Traceback (most recent call last)",
      "\u001b[0;32m/tmp/ipykernel_3537508/1127457360.py\u001b[0m in \u001b[0;36m<module>\u001b[0;34m\u001b[0m\n\u001b[1;32m      1\u001b[0m \u001b[0;32mfor\u001b[0m \u001b[0mi\u001b[0m \u001b[0;32min\u001b[0m \u001b[0mtqdm\u001b[0m\u001b[0;34m(\u001b[0m\u001b[0mrange\u001b[0m\u001b[0;34m(\u001b[0m\u001b[0mlen\u001b[0m\u001b[0;34m(\u001b[0m\u001b[0mcdfs\u001b[0m\u001b[0;34m)\u001b[0m\u001b[0;34m)\u001b[0m\u001b[0;34m)\u001b[0m\u001b[0;34m:\u001b[0m\u001b[0;34m\u001b[0m\u001b[0;34m\u001b[0m\u001b[0m\n\u001b[0;32m----> 2\u001b[0;31m     \u001b[0;32mif\u001b[0m \u001b[0mcdfs\u001b[0m\u001b[0;34m[\u001b[0m\u001b[0mi\u001b[0m\u001b[0;34m]\u001b[0m\u001b[0;34m(\u001b[0m\u001b[0mmax\u001b[0m\u001b[0;34m(\u001b[0m\u001b[0my_train\u001b[0m\u001b[0;34m)\u001b[0m\u001b[0;34m)\u001b[0m \u001b[0;34m-\u001b[0m \u001b[0;36m0.025\u001b[0m \u001b[0;34m<\u001b[0m \u001b[0;36m0\u001b[0m\u001b[0;34m:\u001b[0m\u001b[0;34m\u001b[0m\u001b[0;34m\u001b[0m\u001b[0m\n\u001b[0m\u001b[1;32m      3\u001b[0m         \u001b[0mprint\u001b[0m\u001b[0;34m(\u001b[0m\u001b[0mcdfs\u001b[0m\u001b[0;34m[\u001b[0m\u001b[0mi\u001b[0m\u001b[0;34m]\u001b[0m\u001b[0;34m(\u001b[0m\u001b[0mmax\u001b[0m\u001b[0;34m(\u001b[0m\u001b[0my_train\u001b[0m\u001b[0;34m)\u001b[0m\u001b[0;34m)\u001b[0m \u001b[0;34m-\u001b[0m \u001b[0;36m0.025\u001b[0m\u001b[0;34m)\u001b[0m\u001b[0;34m\u001b[0m\u001b[0;34m\u001b[0m\u001b[0m\n",
      "\u001b[0;32m~/Random_Forest_Weights/src_rf/methods/calc_dist.py\u001b[0m in \u001b[0;36mcdf_func\u001b[0;34m(y, i)\u001b[0m\n\u001b[1;32m     22\u001b[0m         \u001b[0;32mdef\u001b[0m \u001b[0mcdf_func\u001b[0m\u001b[0;34m(\u001b[0m\u001b[0my\u001b[0m\u001b[0;34m,\u001b[0m \u001b[0mi\u001b[0m\u001b[0;34m=\u001b[0m\u001b[0mi\u001b[0m\u001b[0;34m)\u001b[0m\u001b[0;34m:\u001b[0m  \u001b[0;31m# Capture the current value of i\u001b[0m\u001b[0;34m\u001b[0m\u001b[0;34m\u001b[0m\u001b[0m\n\u001b[1;32m     23\u001b[0m             \u001b[0mrow\u001b[0m \u001b[0;34m=\u001b[0m \u001b[0mavg_weights\u001b[0m\u001b[0;34m.\u001b[0m\u001b[0mgetrow\u001b[0m\u001b[0;34m(\u001b[0m\u001b[0mi\u001b[0m\u001b[0;34m)\u001b[0m\u001b[0;34m.\u001b[0m\u001b[0mtoarray\u001b[0m\u001b[0;34m(\u001b[0m\u001b[0;34m)\u001b[0m\u001b[0;34m.\u001b[0m\u001b[0msqueeze\u001b[0m\u001b[0;34m(\u001b[0m\u001b[0;34m)\u001b[0m\u001b[0;34m\u001b[0m\u001b[0;34m\u001b[0m\u001b[0m\n\u001b[0;32m---> 24\u001b[0;31m             \u001b[0mcdf_sum\u001b[0m \u001b[0;34m=\u001b[0m \u001b[0msum\u001b[0m\u001b[0;34m(\u001b[0m\u001b[0mw\u001b[0m \u001b[0;32mfor\u001b[0m \u001b[0mpoint\u001b[0m\u001b[0;34m,\u001b[0m \u001b[0mw\u001b[0m \u001b[0;32min\u001b[0m \u001b[0mzip\u001b[0m\u001b[0;34m(\u001b[0m\u001b[0my_train\u001b[0m\u001b[0;34m,\u001b[0m \u001b[0mrow\u001b[0m\u001b[0;34m)\u001b[0m \u001b[0;32mif\u001b[0m \u001b[0mpoint\u001b[0m \u001b[0;34m<=\u001b[0m \u001b[0my\u001b[0m\u001b[0;34m)\u001b[0m\u001b[0;34m\u001b[0m\u001b[0;34m\u001b[0m\u001b[0m\n\u001b[0m\u001b[1;32m     25\u001b[0m             \u001b[0;32mreturn\u001b[0m \u001b[0mnp\u001b[0m\u001b[0;34m.\u001b[0m\u001b[0mround\u001b[0m\u001b[0;34m(\u001b[0m\u001b[0mcdf_sum\u001b[0m\u001b[0;34m,\u001b[0m \u001b[0;36m4\u001b[0m\u001b[0;34m)\u001b[0m\u001b[0;34m\u001b[0m\u001b[0;34m\u001b[0m\u001b[0m\n\u001b[1;32m     26\u001b[0m \u001b[0;34m\u001b[0m\u001b[0m\n",
      "\u001b[0;32m~/Random_Forest_Weights/src_rf/methods/calc_dist.py\u001b[0m in \u001b[0;36m<genexpr>\u001b[0;34m(.0)\u001b[0m\n\u001b[1;32m     22\u001b[0m         \u001b[0;32mdef\u001b[0m \u001b[0mcdf_func\u001b[0m\u001b[0;34m(\u001b[0m\u001b[0my\u001b[0m\u001b[0;34m,\u001b[0m \u001b[0mi\u001b[0m\u001b[0;34m=\u001b[0m\u001b[0mi\u001b[0m\u001b[0;34m)\u001b[0m\u001b[0;34m:\u001b[0m  \u001b[0;31m# Capture the current value of i\u001b[0m\u001b[0;34m\u001b[0m\u001b[0;34m\u001b[0m\u001b[0m\n\u001b[1;32m     23\u001b[0m             \u001b[0mrow\u001b[0m \u001b[0;34m=\u001b[0m \u001b[0mavg_weights\u001b[0m\u001b[0;34m.\u001b[0m\u001b[0mgetrow\u001b[0m\u001b[0;34m(\u001b[0m\u001b[0mi\u001b[0m\u001b[0;34m)\u001b[0m\u001b[0;34m.\u001b[0m\u001b[0mtoarray\u001b[0m\u001b[0;34m(\u001b[0m\u001b[0;34m)\u001b[0m\u001b[0;34m.\u001b[0m\u001b[0msqueeze\u001b[0m\u001b[0;34m(\u001b[0m\u001b[0;34m)\u001b[0m\u001b[0;34m\u001b[0m\u001b[0;34m\u001b[0m\u001b[0m\n\u001b[0;32m---> 24\u001b[0;31m             \u001b[0mcdf_sum\u001b[0m \u001b[0;34m=\u001b[0m \u001b[0msum\u001b[0m\u001b[0;34m(\u001b[0m\u001b[0mw\u001b[0m \u001b[0;32mfor\u001b[0m \u001b[0mpoint\u001b[0m\u001b[0;34m,\u001b[0m \u001b[0mw\u001b[0m \u001b[0;32min\u001b[0m \u001b[0mzip\u001b[0m\u001b[0;34m(\u001b[0m\u001b[0my_train\u001b[0m\u001b[0;34m,\u001b[0m \u001b[0mrow\u001b[0m\u001b[0;34m)\u001b[0m \u001b[0;32mif\u001b[0m \u001b[0mpoint\u001b[0m \u001b[0;34m<=\u001b[0m \u001b[0my\u001b[0m\u001b[0;34m)\u001b[0m\u001b[0;34m\u001b[0m\u001b[0;34m\u001b[0m\u001b[0m\n\u001b[0m\u001b[1;32m     25\u001b[0m             \u001b[0;32mreturn\u001b[0m \u001b[0mnp\u001b[0m\u001b[0;34m.\u001b[0m\u001b[0mround\u001b[0m\u001b[0;34m(\u001b[0m\u001b[0mcdf_sum\u001b[0m\u001b[0;34m,\u001b[0m \u001b[0;36m4\u001b[0m\u001b[0;34m)\u001b[0m\u001b[0;34m\u001b[0m\u001b[0;34m\u001b[0m\u001b[0m\n\u001b[1;32m     26\u001b[0m \u001b[0;34m\u001b[0m\u001b[0m\n",
      "\u001b[0;31mKeyboardInterrupt\u001b[0m: "
     ]
    }
   ],
   "source": [
    "for i in tqdm(range(len(cdfs))):\n",
    "    if cdfs[i](max(y_train)) - 0.025 < 0:\n",
    "        print(cdfs[i](max(y_train)) - 0.025)"
   ]
  },
  {
   "cell_type": "code",
   "execution_count": 14,
   "id": "c9144adb",
   "metadata": {},
   "outputs": [],
   "source": [
    "avg_weights = sum(weights for weights in rf_weights) / len(rf_weights)"
   ]
  },
  {
   "cell_type": "code",
   "execution_count": 58,
   "id": "a2ff5cd3",
   "metadata": {},
   "outputs": [],
   "source": [
    "test = avg_weights.getrow(2578).toarray().squeeze()"
   ]
  },
  {
   "cell_type": "code",
   "execution_count": 60,
   "id": "22319af8",
   "metadata": {},
   "outputs": [
    {
     "data": {
      "text/plain": [
       "array([0.00792063, 0.00307419, 0.00182407, 0.00033333, 0.0007037 ,\n",
       "       0.00066667, 0.00419986, 0.00606044, 0.00141667, 0.00627573,\n",
       "       0.00055556, 0.0187061 , 0.01027421, 0.01667539, 0.01026479,\n",
       "       0.00529853, 0.00589045, 0.00161905, 0.00114286, 0.00064815,\n",
       "       0.004848  , 0.00212537, 0.0436711 , 0.03556148, 0.02789702,\n",
       "       0.01746396, 0.00495374, 0.00178571, 0.0012963 , 0.00677861,\n",
       "       0.00141667, 0.0051746 , 0.00872102, 0.00122619, 0.00134259,\n",
       "       0.00744821, 0.00223545, 0.00074074, 0.00033333, 0.00317989,\n",
       "       0.00252564, 0.00367989, 0.00485618, 0.00188131, 0.00145262,\n",
       "       0.01458349, 0.00454497, 0.00186508, 0.00060606, 0.00083333,\n",
       "       0.00424868, 0.00491306, 0.00111111, 0.00030303, 0.00037037,\n",
       "       0.00586267, 0.00092593, 0.00111111, 0.00030303, 0.00626984,\n",
       "       0.00157916, 0.00222222, 0.00033333, 0.01008689, 0.00624735,\n",
       "       0.0022197 , 0.00183217, 0.00233217, 0.00507724, 0.00677417,\n",
       "       0.00037037, 0.00435012, 0.00149074, 0.00256481, 0.00041667,\n",
       "       0.00547222, 0.00308081, 0.00431064, 0.00460289, 0.00129345,\n",
       "       0.0015873 , 0.00125   , 0.0066419 , 0.0015    , 0.00174074,\n",
       "       0.00122222, 0.00785714, 0.00063636, 0.0007037 , 0.00386111,\n",
       "       0.00083333, 0.00736508, 0.0018771 , 0.00033333, 0.00373966,\n",
       "       0.00145262, 0.0064363 , 0.00037037, 0.00534921, 0.00110297,\n",
       "       0.00067308, 0.0073189 , 0.00618278, 0.01373023, 0.00281349,\n",
       "       0.00157407, 0.00111111, 0.00047619, 0.02914337, 0.01713046,\n",
       "       0.01229786, 0.00958758, 0.00122222, 0.00188889, 0.00066667,\n",
       "       0.00066667, 0.00169841, 0.00047619, 0.00177778, 0.00209524,\n",
       "       0.00169841, 0.00804762, 0.00095238, 0.00303175, 0.00514719,\n",
       "       0.00541005, 0.00107407, 0.00406349, 0.00037037, 0.00380423,\n",
       "       0.00047619, 0.00136905, 0.00089286, 0.00298148, 0.00180952,\n",
       "       0.00047619, 0.0194444 , 0.00189177, 0.00074074, 0.00172643,\n",
       "       0.00174892, 0.00482949, 0.00698252, 0.00027778, 0.01478647,\n",
       "       0.00861812, 0.01162393, 0.01590957, 0.00693915, 0.0040968 ,\n",
       "       0.00041667, 0.00696224, 0.001     , 0.0437064 , 0.02567006,\n",
       "       0.01977553, 0.01558317, 0.01051141, 0.01582968, 0.01275325,\n",
       "       0.00055556, 0.00030303, 0.00041667, 0.02655433, 0.01689434,\n",
       "       0.01728001, 0.01141029, 0.00745911, 0.00047619, 0.00169841,\n",
       "       0.00095238, 0.00331746, 0.00047619, 0.00047619, 0.00089286,\n",
       "       0.00413736, 0.0065279 , 0.00041667, 0.0022619 , 0.00635847,\n",
       "       0.00047619, 0.00041667, 0.00410185, 0.00125   , 0.00083333,\n",
       "       0.00875661, 0.00199074, 0.00083333])"
      ]
     },
     "execution_count": 60,
     "metadata": {},
     "output_type": "execute_result"
    }
   ],
   "source": [
    "test[test != 0]"
   ]
  },
  {
   "cell_type": "code",
   "execution_count": 37,
   "id": "39d415a0",
   "metadata": {
    "scrolled": true
   },
   "outputs": [
    {
     "data": {
      "text/plain": [
       "218"
      ]
     },
     "execution_count": 37,
     "metadata": {},
     "output_type": "execute_result"
    }
   ],
   "source": [
    "np.count_nonzero(test)"
   ]
  },
  {
   "cell_type": "code",
   "execution_count": null,
   "id": "3357deed",
   "metadata": {},
   "outputs": [],
   "source": []
  },
  {
   "cell_type": "code",
   "execution_count": 12,
   "id": "ab040798",
   "metadata": {},
   "outputs": [
    {
     "data": {
      "text/plain": [
       "(20456, 47728)"
      ]
     },
     "execution_count": 12,
     "metadata": {},
     "output_type": "execute_result"
    }
   ],
   "source": [
    "rf_weights[0].shape"
   ]
  },
  {
   "cell_type": "code",
   "execution_count": 13,
   "id": "4dcab4d1",
   "metadata": {},
   "outputs": [
    {
     "data": {
      "text/plain": [
       "(20456, 11)"
      ]
     },
     "execution_count": 13,
     "metadata": {},
     "output_type": "execute_result"
    }
   ],
   "source": [
    "X_test.shape"
   ]
  },
  {
   "cell_type": "markdown",
   "id": "b90c4225",
   "metadata": {},
   "source": [
    "### 3. Calculate Quantiles:"
   ]
  },
  {
   "cell_type": "code",
   "execution_count": 8,
   "id": "66e0b6d7",
   "metadata": {},
   "outputs": [],
   "source": [
    "rf_dist = calc_dist_rf(rf_weights, y_train)"
   ]
  },
  {
   "cell_type": "code",
   "execution_count": 10,
   "id": "01d04cb4",
   "metadata": {
    "scrolled": true
   },
   "outputs": [],
   "source": [
    "quantile_preds = np.zeros((len(y_test), 5))\n",
    "for count, q in enumerate(quantiles):\n",
    "    quantile_preds[:,count] = np.array(calc_quantile_rf(rf_dist,0.5, y_train))"
   ]
  },
  {
   "cell_type": "code",
   "execution_count": null,
   "id": "5c88dcf8",
   "metadata": {},
   "outputs": [],
   "source": []
  }
 ],
 "metadata": {
  "kernelspec": {
   "display_name": "Python 3 (ipykernel)",
   "language": "python",
   "name": "python3"
  },
  "language_info": {
   "codemirror_mode": {
    "name": "ipython",
    "version": 3
   },
   "file_extension": ".py",
   "mimetype": "text/x-python",
   "name": "python",
   "nbconvert_exporter": "python",
   "pygments_lexer": "ipython3",
   "version": "3.9.7"
  }
 },
 "nbformat": 4,
 "nbformat_minor": 5
}
