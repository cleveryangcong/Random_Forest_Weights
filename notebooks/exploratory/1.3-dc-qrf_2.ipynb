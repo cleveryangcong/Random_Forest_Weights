{
 "cells": [
  {
   "cell_type": "markdown",
   "id": "4d848314",
   "metadata": {},
   "source": [
    "##### QRF_2 will be trained on purely time series, with the hour, weekday, month and year as dummy variables"
   ]
  },
  {
   "cell_type": "code",
   "execution_count": 2,
   "id": "6ea5a7d6",
   "metadata": {},
   "outputs": [],
   "source": [
    "# Path setup\n",
    "import sys\n",
    "import os\n",
    "\n",
    "sys.path.append(\"/home/dchen/Random_Forest_Weights/\")\n",
    "\n",
    "# Basics:\n",
    "import pandas as pd\n",
    "import numpy as np\n",
    "\n",
    "pd.set_option('display.max_columns', None)\n",
    "\n",
    "# Visualizations\n",
    "import matplotlib.pyplot as plt\n",
    "import seaborn as sns\n",
    "\n",
    "# Helpful:\n",
    "from sklearn.model_selection import train_test_split\n",
    "\n",
    "# Pipeline and ColumnsTransformer:\n",
    "from sklearn.pipeline import Pipeline\n",
    "from sklearn.compose import ColumnTransformer\n",
    "from sklearn.impute import SimpleImputer\n",
    "from sklearn.preprocessing import OneHotEncoder, LabelEncoder, StandardScaler\n",
    "from sklearn.model_selection import GridSearchCV, RandomizedSearchCV\n",
    "\n",
    "# models:\n",
    "import statsmodels.api as sm\n",
    "\n",
    "# my functions:\n",
    "from src_rf.methods.calc_mean import *\n",
    "from src_rf.methods.calc_weights import *\n",
    "from src_rf.methods.calc_dist import *\n",
    "from src_rf.datasets.load_weights_energy import * "
   ]
  },
  {
   "cell_type": "markdown",
   "id": "981e22d6",
   "metadata": {},
   "source": [
    "### 1. Load Data"
   ]
  },
  {
   "cell_type": "code",
   "execution_count": 3,
   "id": "cc228104",
   "metadata": {},
   "outputs": [],
   "source": [
    "df = pd.read_csv(\"/home/dchen/Random_Forest_Weights/src_rf/data/energy_data_hourly.csv\"\n",
    "                 , index_col = 'datetime', parse_dates=True)"
   ]
  },
  {
   "cell_type": "markdown",
   "id": "f0af5c8b",
   "metadata": {},
   "source": [
    "### 2. Data Manipulation"
   ]
  },
  {
   "cell_type": "code",
   "execution_count": 6,
   "id": "1306b6d5",
   "metadata": {},
   "outputs": [],
   "source": [
    "df.drop(['residual_energy_usage', 'pump_storage'], inplace = True, axis =  1)"
   ]
  },
  {
   "cell_type": "code",
   "execution_count": 9,
   "id": "4b3efc4b",
   "metadata": {},
   "outputs": [],
   "source": [
    "# Extract the year from the index\n",
    "df['Year'] = df.index.year"
   ]
  },
  {
   "cell_type": "code",
   "execution_count": 16,
   "id": "7793f416",
   "metadata": {},
   "outputs": [],
   "source": [
    "year_dummies = pd.get_dummies(df['Year'], prefix='Year')\n",
    "month_dummies = pd.get_dummies(df['month'], prefix='Month')\n",
    "hour_dummies = pd.get_dummies(df['hour'], prefix='Hour')\n",
    "\n",
    "# Drop the original columns and join with dummy variables\n",
    "df = df.drop(['Year', 'month', 'hour'], axis=1)\n",
    "df = df.join([year_dummies, month_dummies, hour_dummies])"
   ]
  },
  {
   "cell_type": "code",
   "execution_count": 21,
   "id": "cb00c3ab",
   "metadata": {},
   "outputs": [],
   "source": [
    "df['Count'] = range(0, df.shape[0])"
   ]
  }
 ],
 "metadata": {
  "kernelspec": {
   "display_name": "Python 3 (ipykernel)",
   "language": "python",
   "name": "python3"
  },
  "language_info": {
   "codemirror_mode": {
    "name": "ipython",
    "version": 3
   },
   "file_extension": ".py",
   "mimetype": "text/x-python",
   "name": "python",
   "nbconvert_exporter": "python",
   "pygments_lexer": "ipython3",
   "version": "3.9.7"
  }
 },
 "nbformat": 4,
 "nbformat_minor": 5
}
