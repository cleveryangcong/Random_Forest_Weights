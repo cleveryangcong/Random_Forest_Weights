{
 "cells": [
  {
   "cell_type": "markdown",
   "id": "65e9e2c2",
   "metadata": {},
   "source": [
    "##### QRF_1 is trained with a dataset that contains non-time series variables, such as residual_energy_usage and pump_storage furthermore the year is not included."
   ]
  },
  {
   "cell_type": "code",
   "execution_count": 1,
   "id": "fcc81301",
   "metadata": {},
   "outputs": [],
   "source": [
    "# Path setup\n",
    "import sys\n",
    "import os\n",
    "\n",
    "sys.path.append(\"/home/dchen/Random_Forest_Weights/\")\n",
    "\n",
    "# Basics:\n",
    "import pandas as pd\n",
    "import numpy as np\n",
    "\n",
    "pd.set_option('display.max_columns', None)\n",
    "\n",
    "# Visualizations\n",
    "import matplotlib.pyplot as plt\n",
    "import seaborn as sns\n",
    "\n",
    "# Helpful:\n",
    "from sklearn.model_selection import train_test_split\n",
    "\n",
    "# Pipeline and ColumnsTransformer:\n",
    "from sklearn.pipeline import Pipeline\n",
    "from sklearn.compose import ColumnTransformer\n",
    "from sklearn.impute import SimpleImputer\n",
    "from sklearn.preprocessing import OneHotEncoder, LabelEncoder, StandardScaler\n",
    "from sklearn.model_selection import GridSearchCV, RandomizedSearchCV\n",
    "\n",
    "# models:\n",
    "import statsmodels.api as sm\n",
    "\n",
    "# my functions:\n",
    "from src_rf.methods.calc_mean import *\n",
    "from src_rf.methods.calc_weights import *\n",
    "from src_rf.methods.calc_dist import *\n",
    "from src_rf.datasets.load_weights_energy import * \n",
    "from src_rf.methods.filter_weights_rf import * "
   ]
  },
  {
   "cell_type": "markdown",
   "id": "2ab5c0d1",
   "metadata": {},
   "source": [
    "### 0. Set up"
   ]
  },
  {
   "cell_type": "code",
   "execution_count": 2,
   "id": "22b2c1ec",
   "metadata": {},
   "outputs": [],
   "source": [
    "dir_path = \"/Data/Delong_BA_Data/rf_weights/\""
   ]
  },
  {
   "cell_type": "markdown",
   "id": "c8eb7eb8",
   "metadata": {},
   "source": [
    "### 1. Load Data and train test split"
   ]
  },
  {
   "cell_type": "code",
   "execution_count": 3,
   "id": "950cea91",
   "metadata": {},
   "outputs": [],
   "source": [
    "df = pd.read_csv(\"/home/dchen/Random_Forest_Weights/src_rf/data/energy_data_hourly.csv\"\n",
    "                 , index_col = 'datetime', parse_dates=True)"
   ]
  },
  {
   "cell_type": "code",
   "execution_count": 4,
   "id": "17a35dc9",
   "metadata": {},
   "outputs": [],
   "source": [
    "X = df.drop('total_energy_usage', axis = 1)\n",
    "y = df['total_energy_usage']\n",
    "X_train, X_test, y_train, y_test = train_test_split(X, y, test_size= 0.3 ,shuffle=False, random_state=42)"
   ]
  },
  {
   "cell_type": "markdown",
   "id": "56d41980",
   "metadata": {},
   "source": [
    "### 2. Load Random Forest Weights"
   ]
  },
  {
   "cell_type": "code",
   "execution_count": 5,
   "id": "eda16b6a",
   "metadata": {},
   "outputs": [],
   "source": [
    "rf_weights = load_weights_energy(dir_path)"
   ]
  },
  {
   "cell_type": "markdown",
   "id": "d75d9b45",
   "metadata": {},
   "source": [
    "### 3. Weight Exploration"
   ]
  },
  {
   "cell_type": "markdown",
   "id": "9508487e",
   "metadata": {},
   "source": [
    "#### 3.1 Test date to look at"
   ]
  },
  {
   "cell_type": "code",
   "execution_count": 7,
   "id": "22f4aa10",
   "metadata": {
    "scrolled": true
   },
   "outputs": [
    {
     "name": "stdout",
     "output_type": "stream",
     "text": [
      "hour         18.0\n",
      "month        10.0\n",
      "Friday        0.0\n",
      "Monday        0.0\n",
      "Saturday      0.0\n",
      "Sunday        0.0\n",
      "Thursday      0.0\n",
      "Tuesday       1.0\n",
      "Wednesday     0.0\n",
      "Name: 2022-10-11 18:00:00, dtype: float64\n"
     ]
    }
   ],
   "source": [
    "test_date = 20450\n",
    "print(X_test.iloc[test_date,2:])"
   ]
  },
  {
   "cell_type": "markdown",
   "id": "853874b1",
   "metadata": {},
   "source": [
    "#### 3.2 Load weights"
   ]
  },
  {
   "cell_type": "code",
   "execution_count": 24,
   "id": "3a56080c",
   "metadata": {},
   "outputs": [
    {
     "data": {
      "text/plain": [
       "1.0"
      ]
     },
     "execution_count": 24,
     "metadata": {},
     "output_type": "execute_result"
    }
   ],
   "source": [
    "rf_weight_0 = filter_weight_rf(rf_weights , test_date)\n",
    "rf_weight_0.sum()"
   ]
  },
  {
   "cell_type": "markdown",
   "id": "19b267ae",
   "metadata": {},
   "source": [
    "#### 3.3 Non-Zero Values"
   ]
  },
  {
   "cell_type": "code",
   "execution_count": 47,
   "id": "e6897790",
   "metadata": {
    "scrolled": false
   },
   "outputs": [
    {
     "data": {
      "image/png": "[encoded data removed]",
      "text/plain": [
       "<Figure size 432x288 with 1 Axes>"
      ]
     },
     "metadata": {
      "needs_background": "light"
     },
     "output_type": "display_data"
    }
   ],
   "source": [
    "plt.plot(X_train.index, rf_weight_0, )\n",
    "plt.show()"
   ]
  },
  {
   "cell_type": "code",
   "execution_count": 27,
   "id": "88ea10ee",
   "metadata": {},
   "outputs": [],
   "source": [
    "non_zeros =  np.where(rf_weight_0 != 0)[0]"
   ]
  },
  {
   "cell_type": "code",
   "execution_count": 55,
   "id": "b0d7e936",
   "metadata": {},
   "outputs": [
    {
     "name": "stdout",
     "output_type": "stream",
     "text": [
      "Year:\n",
      "2015    55\n",
      "2016    52\n",
      "2019    52\n",
      "2018    43\n",
      "2017    41\n",
      "Name: datetime, dtype: int64\n",
      "----------------------------------------------------------------------------------------------------\n",
      "Month:\n",
      "10    243\n",
      "Name: month, dtype: int64\n",
      "----------------------------------------------------------------------------------------------------\n",
      "Week day:\n",
      "Tuesday      80\n",
      "Thursday     48\n",
      "Wednesday    43\n",
      "Monday       40\n",
      "Friday       32\n",
      "Saturday      0\n",
      "Sunday        0\n",
      "dtype: int64\n",
      "----------------------------------------------------------------------------------------------------\n",
      "Hour:\n",
      "18    76\n",
      "19    58\n",
      "17    40\n",
      "20    24\n",
      "16    23\n",
      "15    18\n",
      "14     4\n",
      "Name: hour, dtype: int64\n"
     ]
    }
   ],
   "source": [
    "print('Year:')\n",
    "print(X_train.iloc[non_zeros, : ].index.year.value_counts().sort_values(ascending = False))\n",
    "print(100 * '-')\n",
    "\n",
    "print('Month:')\n",
    "print(X_train.iloc[non_zeros, : ]['month'].value_counts().sort_values(ascending = False))\n",
    "print(100 * '-')\n",
    "\n",
    "print('Week day:')\n",
    "print(X_train.iloc[non_zeros, :][['Friday','Monday', 'Saturday', 'Sunday', 'Thursday', 'Tuesday', 'Wednesday']]\n",
    "      .sum().sort_values(ascending = False))\n",
    "print(100 * '-')\n",
    "\n",
    "print('Hour:')\n",
    "print(X_train.iloc[non_zeros, :]['hour'].value_counts().sort_values(ascending = False))"
   ]
  }
 ],
 "metadata": {
  "kernelspec": {
   "display_name": "Python 3 (ipykernel)",
   "language": "python",
   "name": "python3"
  },
  "language_info": {
   "codemirror_mode": {
    "name": "ipython",
    "version": 3
   },
   "file_extension": ".py",
   "mimetype": "text/x-python",
   "name": "python",
   "nbconvert_exporter": "python",
   "pygments_lexer": "ipython3",
   "version": "3.9.7"
  }
 },
 "nbformat": 4,
 "nbformat_minor": 5
}
