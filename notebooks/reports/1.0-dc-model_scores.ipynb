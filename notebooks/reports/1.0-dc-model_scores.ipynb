{
 "cells": [
  {
   "cell_type": "code",
   "execution_count": 1,
   "id": "c30f7fb2",
   "metadata": {},
   "outputs": [],
   "source": [
    "# Path setup\n",
    "import sys\n",
    "import os\n",
    "\n",
    "sys.path.append(\"/home/dchen/Random_Forest_Weights/\")\n",
    "\n",
    "# Basics:\n",
    "import pandas as pd\n",
    "import numpy as np\n",
    "\n",
    "pd.set_option('display.max_columns', None)\n",
    "\n",
    "# Visualizations\n",
    "import matplotlib.pyplot as plt\n",
    "import seaborn as sns\n",
    "\n",
    "# Helpful:\n",
    "from sklearn.model_selection import train_test_split\n",
    "\n",
    "# Pipeline and ColumnsTransformer:\n",
    "from sklearn.pipeline import Pipeline\n",
    "from sklearn.compose import ColumnTransformer\n",
    "from sklearn.impute import SimpleImputer\n",
    "from sklearn.preprocessing import OneHotEncoder, LabelEncoder, StandardScaler\n",
    "from sklearn.model_selection import GridSearchCV, RandomizedSearchCV\n",
    "\n",
    "# models:\n",
    "import statsmodels.api as sm\n",
    "\n",
    "# my functions:\n",
    "from src_rf.methods.calc_mean import *\n",
    "from src_rf.methods.calc_weights import *\n",
    "from src_rf.methods.calc_dist import *"
   ]
  },
  {
   "cell_type": "markdown",
   "id": "7c5302cd",
   "metadata": {},
   "source": [
    "### 0. Setup"
   ]
  },
  {
   "cell_type": "code",
   "execution_count": 2,
   "id": "e4ef6e78",
   "metadata": {},
   "outputs": [],
   "source": [
    "def quantile_loss(y_true, y_pred, tau):\n",
    "    return max(tau * (y_true - y_pred), (1 - tau) * (y_pred - y_true))\n",
    "\n",
    "quantiles = [0.025, 0.25, 0.5, 0.75, 0.975]"
   ]
  },
  {
   "cell_type": "markdown",
   "id": "2a233bb5",
   "metadata": {},
   "source": [
    "### 1. Load Data"
   ]
  },
  {
   "cell_type": "code",
   "execution_count": 3,
   "id": "f5d48016",
   "metadata": {},
   "outputs": [],
   "source": [
    "df = pd.read_csv(\"/home/dchen/Random_Forest_Weights/src_rf/data/energy_data_hourly.csv\"\n",
    "                 , index_col = 'datetime', parse_dates=True)"
   ]
  },
  {
   "cell_type": "markdown",
   "id": "8e96c7c8",
   "metadata": {},
   "source": [
    "### 2. Train Test Split"
   ]
  },
  {
   "cell_type": "code",
   "execution_count": 4,
   "id": "88655418",
   "metadata": {},
   "outputs": [
    {
     "name": "stderr",
     "output_type": "stream",
     "text": [
      "/home/dchen/.conda/envs/Bach_Del_new/lib/python3.9/site-packages/statsmodels/tsa/tsatools.py:142: FutureWarning: In a future version of pandas all arguments of concat except for the argument 'objs' will be keyword-only\n",
      "  x = pd.concat(x[::order], 1)\n"
     ]
    }
   ],
   "source": [
    "X = df.drop('total_energy_usage', axis = 1)\n",
    "y = df['total_energy_usage']\n",
    "\n",
    "# Predetermined random state -> Same as the one used for training the models and all\n",
    "X_train, X_test, y_train, y_test = train_test_split(X, y, test_size= 0.3 ,shuffle=False, random_state=42)\n",
    "\n",
    "# Add intercept, used in quantile regression\n",
    "X_train_const = sm.add_constant(X_train)\n",
    "X_test_const = sm.add_constant(X_test)\n",
    "X_train_const.drop('Monday', axis = 1, inplace = True)\n",
    "X_test_const.drop('Monday', axis = 1, inplace = True)"
   ]
  },
  {
   "cell_type": "markdown",
   "id": "ac8d30f3",
   "metadata": {},
   "source": [
    "### 3. Benchmark Models"
   ]
  },
  {
   "cell_type": "markdown",
   "id": "3f8bd994",
   "metadata": {},
   "source": [
    "#### 3.1 Last 100 Benchmark"
   ]
  },
  {
   "cell_type": "code",
   "execution_count": 7,
   "id": "950e6923",
   "metadata": {},
   "outputs": [
    {
     "name": "stdout",
     "output_type": "stream",
     "text": [
      "1.1035525468505574\n"
     ]
    }
   ],
   "source": [
    "def baseline_last_100(timestamp, y):\n",
    "    same_weekday_hour = y[y.index.weekday == timestamp.weekday()]\n",
    "    same_weekday_hour = same_weekday_hour[same_weekday_hour.index.hour == timestamp.hour]\n",
    "    latest_100 = same_weekday_hour.iloc[-100:]\n",
    "    quantiles = latest_100.quantile([0.025, 0.25, 0.5, 0.75, 0.975])\n",
    "    return quantiles.values\n",
    "\n",
    "# Making predictions\n",
    "predictions = [baseline_last_100(timestamp, y_train) for timestamp in y_test.index]\n",
    "\n",
    "# Store predictions\n",
    "pred_array = np.array(predictions)\n",
    "\n",
    "# Compute quantile loss\n",
    "quantile_levels = [0.025, 0.25, 0.5, 0.75, 0.975]\n",
    "loss_array = np.zeros((len(y_test), 5))\n",
    "\n",
    "for idx, (true_val, pred_vals) in enumerate(zip(y_test.values, predictions)):\n",
    "    for j, (tau, q_val) in enumerate(zip(quantile_levels, pred_vals)):\n",
    "        loss = quantile_loss(true_val, q_val, tau)\n",
    "        loss_array[idx, j] = loss\n",
    "\n",
    "average_loss = loss_array.mean()\n",
    "print(average_loss)"
   ]
  },
  {
   "cell_type": "markdown",
   "id": "6eebfdc6",
   "metadata": {},
   "source": [
    "#### 3.2 Quantile Regression"
   ]
  },
  {
   "cell_type": "code",
   "execution_count": 8,
   "id": "e4f5fe8c",
   "metadata": {},
   "outputs": [
    {
     "name": "stdout",
     "output_type": "stream",
     "text": [
      "1.7924929111488659\n"
     ]
    }
   ],
   "source": [
    "# Fit models for each quantile using training data with constant term added\n",
    "qr_models = {}\n",
    "for q in quantiles:\n",
    "    qr_model = sm.QuantReg(y_train, X_train_const).fit(q=q)\n",
    "    qr_models[q] = qr_model\n",
    "\n",
    "# Predict using each QR model for all test samples with constant term added\n",
    "qr_predictions = []\n",
    "for xi in X_test_const.values:\n",
    "    qr_pred_i = []\n",
    "    for q in quantiles:\n",
    "        qr_pred = qr_models[q].predict([xi])\n",
    "        qr_pred_i.append(qr_pred[0])\n",
    "    qr_predictions.append(qr_pred_i)\n",
    "\n",
    "# Convert QR predictions to a numpy array\n",
    "qr_pred_array = np.array(qr_predictions)\n",
    "\n",
    "# Compute quantile loss for QR predictions\n",
    "qr_loss_array = np.zeros((len(y_test), 5))\n",
    "for idx, (true_val, qr_pred_vals) in enumerate(zip(y_test.values, qr_predictions)):\n",
    "    for j, (tau, qr_q_val) in enumerate(zip(quantiles, qr_pred_vals)):\n",
    "        qr_loss = quantile_loss(true_val, qr_q_val, tau)\n",
    "        qr_loss_array[idx, j] = qr_loss\n",
    "\n",
    "qr_average_loss = qr_loss_array.mean()\n",
    "print(qr_average_loss)"
   ]
  },
  {
   "cell_type": "markdown",
   "id": "d32b72d3",
   "metadata": {},
   "source": [
    "### 4. Quantile Random Forest"
   ]
  },
  {
   "cell_type": "markdown",
   "id": "e19d287a",
   "metadata": {},
   "source": [
    "#### 4.1 Quantile Random Forest 1:"
   ]
  },
  {
   "cell_type": "code",
   "execution_count": 9,
   "id": "f252bbe5",
   "metadata": {},
   "outputs": [
    {
     "name": "stdout",
     "output_type": "stream",
     "text": [
      "0.7302881297661254\n"
     ]
    }
   ],
   "source": [
    "rf_pred_array = np.load('/Data/Delong_BA_Data/rf_weights/energy_quantile_preds.npy')\n",
    "rf_loss_array = np.zeros((len(y_test), 5))\n",
    "for count, q in enumerate(quantiles):\n",
    "    for i in range(y_test.shape[0]):\n",
    "        rf_loss_array[i,count] = quantile_loss(y_test.values[i], rf_pred_array[i,count], q)\n",
    "        \n",
    "rf_average_loss = rf_loss_array.mean()\n",
    "print(rf_average_loss)"
   ]
  },
  {
   "cell_type": "markdown",
   "id": "03ffef9b",
   "metadata": {},
   "source": [
    "#### 4.2 Quantile Random Forest 2:\n",
    "Purely time series - all dummy variables: year, month, weekday, hour and (not dummy) count"
   ]
  },
  {
   "cell_type": "code",
   "execution_count": 5,
   "id": "9a361990",
   "metadata": {},
   "outputs": [
    {
     "name": "stdout",
     "output_type": "stream",
     "text": [
      "1.7934436234009783\n"
     ]
    }
   ],
   "source": [
    "rf_pred_array_2 = np.load(\"/Data/Delong_BA_Data/rf_weights/qrf_2/energy_quantile_preds_qrf_2.npy\")\n",
    "rf_loss_array_2 = np.zeros((len(y_test), 5))\n",
    "for count, q in enumerate(quantiles):\n",
    "    for i in range(y_test.shape[0]):\n",
    "        rf_loss_array_2[i,count] = quantile_loss(y_test.values[i], rf_pred_array_2[i,count], q)\n",
    "        \n",
    "rf_average_loss = rf_loss_array_2.mean()\n",
    "print(rf_average_loss)"
   ]
  }
 ],
 "metadata": {
  "kernelspec": {
   "display_name": "Python 3 (ipykernel)",
   "language": "python",
   "name": "python3"
  },
  "language_info": {
   "codemirror_mode": {
    "name": "ipython",
    "version": 3
   },
   "file_extension": ".py",
   "mimetype": "text/x-python",
   "name": "python",
   "nbconvert_exporter": "python",
   "pygments_lexer": "ipython3",
   "version": "3.9.7"
  }
 },
 "nbformat": 4,
 "nbformat_minor": 5
}
