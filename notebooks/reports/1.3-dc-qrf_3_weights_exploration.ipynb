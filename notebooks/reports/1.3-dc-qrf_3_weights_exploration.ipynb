{
 "cells": [
  {
   "cell_type": "code",
   "execution_count": 1,
   "id": "051905f0",
   "metadata": {},
   "outputs": [],
   "source": [
    "# Path setup\n",
    "import sys\n",
    "import os\n",
    "\n",
    "sys.path.append(\"/home/dchen/Random_Forest_Weights/\")\n",
    "\n",
    "# Basics:\n",
    "import pandas as pd\n",
    "import numpy as np\n",
    "\n",
    "pd.set_option('display.max_columns', None)\n",
    "\n",
    "# Visualizations\n",
    "import matplotlib.pyplot as plt\n",
    "import seaborn as sns\n",
    "\n",
    "# Helpful:\n",
    "from sklearn.model_selection import train_test_split\n",
    "\n",
    "# Pipeline and ColumnsTransformer:\n",
    "from sklearn.pipeline import Pipeline\n",
    "from sklearn.compose import ColumnTransformer\n",
    "from sklearn.impute import SimpleImputer\n",
    "from sklearn.preprocessing import OneHotEncoder, LabelEncoder, StandardScaler\n",
    "from sklearn.model_selection import GridSearchCV, RandomizedSearchCV\n",
    "\n",
    "# models:\n",
    "import statsmodels.api as sm\n",
    "\n",
    "# my functions:\n",
    "from src_rf.methods.calc_mean import *\n",
    "from src_rf.methods.calc_weights import *\n",
    "from src_rf.methods.calc_dist import *\n",
    "from src_rf.datasets.qrf_3.load_weights_qrf_3 import * \n",
    "from src_rf.methods.filter_weights_rf import * "
   ]
  },
  {
   "cell_type": "markdown",
   "id": "8b891b07",
   "metadata": {},
   "source": [
    "### 0. Setup"
   ]
  },
  {
   "cell_type": "code",
   "execution_count": 2,
   "id": "caf3a8f3",
   "metadata": {},
   "outputs": [],
   "source": [
    "dir_path = \"/Data/Delong_BA_Data/rf_weights/qrf_3/\""
   ]
  },
  {
   "cell_type": "markdown",
   "id": "537987ca",
   "metadata": {},
   "source": [
    "### 1. Load Data, Modify and Split"
   ]
  },
  {
   "cell_type": "code",
   "execution_count": 6,
   "id": "c52574bb",
   "metadata": {},
   "outputs": [],
   "source": [
    "df = pd.read_csv(\"/home/dchen/Random_Forest_Weights/src_rf/data/energy_data_hourly.csv\"\n",
    "                 , index_col = 'datetime', parse_dates=True)\n",
    "\n",
    "df.drop(['residual_energy_usage', 'pump_storage'], inplace = True, axis =  1)\n",
    "# Extract the year from the index\n",
    "df['Year'] = df.index.year\n",
    "# 1. Extract weekday name\n",
    "df['weekday'] = df.index.day_name()\n",
    "\n",
    "# 2. Ordinal encode 'hour', 'weekday', 'month', and 'Year'\n",
    "# (In this case, 'hour', 'month', and 'Year' are already ordinal, so just encoding 'weekday')\n",
    "weekday_ordering = [\"Monday\", \"Tuesday\", \"Wednesday\", \"Thursday\", \"Friday\", \"Saturday\", \"Sunday\"]\n",
    "df['weekday'] = df['weekday'].astype(pd.CategoricalDtype(categories=weekday_ordering, ordered=True))\n",
    "df['weekday'] = df['weekday'].cat.codes\n",
    "\n",
    "# No need to change the 'Year' column as you want it in ordinal form\n",
    "\n",
    "# 3. Add a count variable\n",
    "df['Count'] = range(df.shape[0])\n",
    "\n",
    "# Drop unnecessary columns\n",
    "columns_to_drop = ['Friday', 'Monday', 'Saturday', 'Sunday', 'Thursday', 'Tuesday', 'Wednesday']\n",
    "df.drop(columns=columns_to_drop, inplace=True)\n",
    "    \n",
    "df['Count'] = range(0, df.shape[0])"
   ]
  },
  {
   "cell_type": "code",
   "execution_count": 7,
   "id": "ee4b26ca",
   "metadata": {},
   "outputs": [],
   "source": [
    "X = df.drop('total_energy_usage', axis = 1)\n",
    "y = df['total_energy_usage']\n",
    "X_train, X_test, y_train, y_test = train_test_split(X, y, test_size= 0.3 ,shuffle=False, random_state=42)"
   ]
  },
  {
   "cell_type": "markdown",
   "id": "88520d15",
   "metadata": {},
   "source": [
    "### 2. Load qrf_2 weights"
   ]
  },
  {
   "cell_type": "code",
   "execution_count": 8,
   "id": "9ea1064e",
   "metadata": {},
   "outputs": [
    {
     "ename": "KeyboardInterrupt",
     "evalue": "",
     "output_type": "error",
     "traceback": [
      "\u001b[0;31m---------------------------------------------------------------------------\u001b[0m",
      "\u001b[0;31mKeyboardInterrupt\u001b[0m                         Traceback (most recent call last)",
      "\u001b[0;32m/tmp/ipykernel_3766012/2389667738.py\u001b[0m in \u001b[0;36m<module>\u001b[0;34m\u001b[0m\n\u001b[0;32m----> 1\u001b[0;31m \u001b[0mqrf_3_weights\u001b[0m \u001b[0;34m=\u001b[0m \u001b[0mload_weights_qrf_3\u001b[0m\u001b[0;34m(\u001b[0m\u001b[0mdir_path\u001b[0m\u001b[0;34m)\u001b[0m\u001b[0;34m\u001b[0m\u001b[0;34m\u001b[0m\u001b[0m\n\u001b[0m",
      "\u001b[0;32m~/Random_Forest_Weights/src_rf/datasets/qrf_3/load_weights_qrf_3.py\u001b[0m in \u001b[0;36mload_weights_qrf_3\u001b[0;34m(base_dir)\u001b[0m\n\u001b[1;32m     68\u001b[0m     \u001b[0;31m# num_batches = 2\u001b[0m\u001b[0;34m\u001b[0m\u001b[0;34m\u001b[0m\u001b[0m\n\u001b[1;32m     69\u001b[0m \u001b[0;34m\u001b[0m\u001b[0m\n\u001b[0;32m---> 70\u001b[0;31m     \u001b[0mrf_weights_loaded\u001b[0m \u001b[0;34m=\u001b[0m \u001b[0mload_all_rf_weights\u001b[0m\u001b[0;34m(\u001b[0m\u001b[0mbase_dir\u001b[0m\u001b[0;34m,\u001b[0m \u001b[0mnum_batches\u001b[0m\u001b[0;34m,\u001b[0m \u001b[0mnum_trees\u001b[0m\u001b[0;34m)\u001b[0m\u001b[0;34m\u001b[0m\u001b[0;34m\u001b[0m\u001b[0m\n\u001b[0m\u001b[1;32m     71\u001b[0m     \u001b[0;32mreturn\u001b[0m \u001b[0mrf_weights_loaded\u001b[0m\u001b[0;34m\u001b[0m\u001b[0;34m\u001b[0m\u001b[0m\n",
      "\u001b[0;32m~/Random_Forest_Weights/src_rf/datasets/qrf_3/load_weights_qrf_3.py\u001b[0m in \u001b[0;36mload_all_rf_weights\u001b[0;34m(base_dir, num_batches, num_trees)\u001b[0m\n\u001b[1;32m     24\u001b[0m         \u001b[0;31m# Now concatenate all batches for each tree\u001b[0m\u001b[0;34m\u001b[0m\u001b[0;34m\u001b[0m\u001b[0m\n\u001b[1;32m     25\u001b[0m         \u001b[0;32mfor\u001b[0m \u001b[0mtree_idx\u001b[0m \u001b[0;32min\u001b[0m \u001b[0mrange\u001b[0m\u001b[0;34m(\u001b[0m\u001b[0mnum_trees\u001b[0m\u001b[0;34m)\u001b[0m\u001b[0;34m:\u001b[0m\u001b[0;34m\u001b[0m\u001b[0;34m\u001b[0m\u001b[0m\n\u001b[0;32m---> 26\u001b[0;31m             \u001b[0mall_rf_weights\u001b[0m\u001b[0;34m[\u001b[0m\u001b[0mtree_idx\u001b[0m\u001b[0;34m]\u001b[0m \u001b[0;34m=\u001b[0m \u001b[0mvstack\u001b[0m\u001b[0;34m(\u001b[0m\u001b[0mall_rf_weights\u001b[0m\u001b[0;34m[\u001b[0m\u001b[0mtree_idx\u001b[0m\u001b[0;34m]\u001b[0m\u001b[0;34m)\u001b[0m\u001b[0;34m\u001b[0m\u001b[0;34m\u001b[0m\u001b[0m\n\u001b[0m\u001b[1;32m     27\u001b[0m \u001b[0;34m\u001b[0m\u001b[0m\n\u001b[1;32m     28\u001b[0m         \u001b[0;32mreturn\u001b[0m \u001b[0mall_rf_weights\u001b[0m\u001b[0;34m\u001b[0m\u001b[0;34m\u001b[0m\u001b[0m\n",
      "\u001b[0;32m~/.conda/envs/Bach_Del_new/lib/python3.9/site-packages/scipy/sparse/construct.py\u001b[0m in \u001b[0;36mvstack\u001b[0;34m(blocks, format, dtype)\u001b[0m\n\u001b[1;32m    499\u001b[0m \u001b[0;34m\u001b[0m\u001b[0m\n\u001b[1;32m    500\u001b[0m     \"\"\"\n\u001b[0;32m--> 501\u001b[0;31m     \u001b[0;32mreturn\u001b[0m \u001b[0mbmat\u001b[0m\u001b[0;34m(\u001b[0m\u001b[0;34m[\u001b[0m\u001b[0;34m[\u001b[0m\u001b[0mb\u001b[0m\u001b[0;34m]\u001b[0m \u001b[0;32mfor\u001b[0m \u001b[0mb\u001b[0m \u001b[0;32min\u001b[0m \u001b[0mblocks\u001b[0m\u001b[0;34m]\u001b[0m\u001b[0;34m,\u001b[0m \u001b[0mformat\u001b[0m\u001b[0;34m=\u001b[0m\u001b[0mformat\u001b[0m\u001b[0;34m,\u001b[0m \u001b[0mdtype\u001b[0m\u001b[0;34m=\u001b[0m\u001b[0mdtype\u001b[0m\u001b[0;34m)\u001b[0m\u001b[0;34m\u001b[0m\u001b[0;34m\u001b[0m\u001b[0m\n\u001b[0m\u001b[1;32m    502\u001b[0m \u001b[0;34m\u001b[0m\u001b[0m\n\u001b[1;32m    503\u001b[0m \u001b[0;34m\u001b[0m\u001b[0m\n",
      "\u001b[0;32m~/.conda/envs/Bach_Del_new/lib/python3.9/site-packages/scipy/sparse/construct.py\u001b[0m in \u001b[0;36mbmat\u001b[0;34m(blocks, format, dtype)\u001b[0m\n\u001b[1;32m    555\u001b[0m     if (N == 1 and format in (None, 'csr') and all(isinstance(b, csr_matrix)\n\u001b[1;32m    556\u001b[0m                                                    for b in blocks.flat)):\n\u001b[0;32m--> 557\u001b[0;31m         \u001b[0mA\u001b[0m \u001b[0;34m=\u001b[0m \u001b[0m_compressed_sparse_stack\u001b[0m\u001b[0;34m(\u001b[0m\u001b[0mblocks\u001b[0m\u001b[0;34m[\u001b[0m\u001b[0;34m:\u001b[0m\u001b[0;34m,\u001b[0m\u001b[0;36m0\u001b[0m\u001b[0;34m]\u001b[0m\u001b[0;34m,\u001b[0m \u001b[0;36m0\u001b[0m\u001b[0;34m)\u001b[0m\u001b[0;34m\u001b[0m\u001b[0;34m\u001b[0m\u001b[0m\n\u001b[0m\u001b[1;32m    558\u001b[0m         \u001b[0;32mif\u001b[0m \u001b[0mdtype\u001b[0m \u001b[0;32mis\u001b[0m \u001b[0;32mnot\u001b[0m \u001b[0;32mNone\u001b[0m\u001b[0;34m:\u001b[0m\u001b[0;34m\u001b[0m\u001b[0;34m\u001b[0m\u001b[0m\n\u001b[1;32m    559\u001b[0m             \u001b[0mA\u001b[0m \u001b[0;34m=\u001b[0m \u001b[0mA\u001b[0m\u001b[0;34m.\u001b[0m\u001b[0mastype\u001b[0m\u001b[0;34m(\u001b[0m\u001b[0mdtype\u001b[0m\u001b[0;34m)\u001b[0m\u001b[0;34m\u001b[0m\u001b[0;34m\u001b[0m\u001b[0m\n",
      "\u001b[0;32m~/.conda/envs/Bach_Del_new/lib/python3.9/site-packages/scipy/sparse/construct.py\u001b[0m in \u001b[0;36m_compressed_sparse_stack\u001b[0;34m(blocks, axis)\u001b[0m\n\u001b[1;32m    407\u001b[0m     \"\"\"\n\u001b[1;32m    408\u001b[0m     \u001b[0mother_axis\u001b[0m \u001b[0;34m=\u001b[0m \u001b[0;36m1\u001b[0m \u001b[0;32mif\u001b[0m \u001b[0maxis\u001b[0m \u001b[0;34m==\u001b[0m \u001b[0;36m0\u001b[0m \u001b[0;32melse\u001b[0m \u001b[0;36m0\u001b[0m\u001b[0;34m\u001b[0m\u001b[0;34m\u001b[0m\u001b[0m\n\u001b[0;32m--> 409\u001b[0;31m     \u001b[0mdata\u001b[0m \u001b[0;34m=\u001b[0m \u001b[0mnp\u001b[0m\u001b[0;34m.\u001b[0m\u001b[0mconcatenate\u001b[0m\u001b[0;34m(\u001b[0m\u001b[0;34m[\u001b[0m\u001b[0mb\u001b[0m\u001b[0;34m.\u001b[0m\u001b[0mdata\u001b[0m \u001b[0;32mfor\u001b[0m \u001b[0mb\u001b[0m \u001b[0;32min\u001b[0m \u001b[0mblocks\u001b[0m\u001b[0;34m]\u001b[0m\u001b[0;34m)\u001b[0m\u001b[0;34m\u001b[0m\u001b[0;34m\u001b[0m\u001b[0m\n\u001b[0m\u001b[1;32m    410\u001b[0m     \u001b[0mconstant_dim\u001b[0m \u001b[0;34m=\u001b[0m \u001b[0mblocks\u001b[0m\u001b[0;34m[\u001b[0m\u001b[0;36m0\u001b[0m\u001b[0;34m]\u001b[0m\u001b[0;34m.\u001b[0m\u001b[0mshape\u001b[0m\u001b[0;34m[\u001b[0m\u001b[0mother_axis\u001b[0m\u001b[0;34m]\u001b[0m\u001b[0;34m\u001b[0m\u001b[0;34m\u001b[0m\u001b[0m\n\u001b[1;32m    411\u001b[0m     idx_dtype = get_index_dtype(arrays=[b.indptr for b in blocks],\n",
      "\u001b[0;32m~/.conda/envs/Bach_Del_new/lib/python3.9/site-packages/numpy/core/overrides.py\u001b[0m in \u001b[0;36mconcatenate\u001b[0;34m(*args, **kwargs)\u001b[0m\n",
      "\u001b[0;31mKeyboardInterrupt\u001b[0m: "
     ]
    }
   ],
   "source": [
    "qrf_3_weights = load_weights_qrf_3(dir_path)"
   ]
  },
  {
   "cell_type": "markdown",
   "id": "f5106956",
   "metadata": {},
   "source": [
    "### 3. Weight Exploration"
   ]
  },
  {
   "cell_type": "markdown",
   "id": "c10eced4",
   "metadata": {},
   "source": [
    "#### 3.1 Test Date to look at"
   ]
  },
  {
   "cell_type": "code",
   "execution_count": 35,
   "id": "2b336d6a",
   "metadata": {
    "scrolled": true
   },
   "outputs": [
    {
     "name": "stdout",
     "output_type": "stream",
     "text": [
      "Friday           1\n",
      "Year_2020        1\n",
      "Month_6          1\n",
      "Hour_2           1\n",
      "Count        47738\n",
      "Name: 2020-06-12 02:00:00, dtype: int64\n"
     ]
    }
   ],
   "source": [
    "test_date = 10\n",
    "print(X_test.iloc[test_date, 0:][X_test.iloc[test_date, 0:] != 0])"
   ]
  },
  {
   "cell_type": "markdown",
   "id": "d9062db9",
   "metadata": {},
   "source": [
    "#### 3.2 Load Weights"
   ]
  },
  {
   "cell_type": "code",
   "execution_count": 30,
   "id": "172d7286",
   "metadata": {
    "scrolled": true
   },
   "outputs": [
    {
     "data": {
      "text/plain": [
       "0.9999999999999994"
      ]
     },
     "execution_count": 30,
     "metadata": {},
     "output_type": "execute_result"
    }
   ],
   "source": [
    "qrf_3_weight_0 = filter_weight_rf(qrf_3_weights , test_date)\n",
    "qrf_3_weight_0.sum()"
   ]
  },
  {
   "cell_type": "markdown",
   "id": "246a80cc",
   "metadata": {},
   "source": [
    "#### 3.3 Non-Zero Values"
   ]
  },
  {
   "cell_type": "code",
   "execution_count": 31,
   "id": "1dbac636",
   "metadata": {},
   "outputs": [
    {
     "data": {
      "image/png": "[encoded data removed]",
      "text/plain": [
       "<Figure size 432x288 with 1 Axes>"
      ]
     },
     "metadata": {
      "needs_background": "light"
     },
     "output_type": "display_data"
    }
   ],
   "source": [
    "plt.plot(X_train.index, qrf_2_weight_0)\n",
    "plt.show()"
   ]
  },
  {
   "cell_type": "code",
   "execution_count": 32,
   "id": "770710f1",
   "metadata": {},
   "outputs": [],
   "source": [
    "non_zeros =  np.where(qrf_2_weight_0 != 0)[0]"
   ]
  },
  {
   "cell_type": "code",
   "execution_count": 33,
   "id": "b64b12a1",
   "metadata": {},
   "outputs": [
    {
     "name": "stdout",
     "output_type": "stream",
     "text": [
      "Year:\n",
      "2020    39\n",
      "2019    12\n",
      "Name: datetime, dtype: int64\n",
      "----------------------------------------------------------------------------------------------------\n",
      "Month:\n",
      "5     17\n",
      "4     15\n",
      "9      7\n",
      "6      7\n",
      "12     5\n",
      "Name: datetime, dtype: int64\n",
      "----------------------------------------------------------------------------------------------------\n",
      "Week day:\n",
      "Tuesday      14\n",
      "Wednesday    13\n",
      "Thursday     12\n",
      "Friday       12\n",
      "Name: datetime, dtype: int64\n",
      "----------------------------------------------------------------------------------------------------\n",
      "Hour:\n",
      "2    51\n",
      "Name: datetime, dtype: int64\n"
     ]
    }
   ],
   "source": [
    "print('Year:')\n",
    "print(X_train.iloc[non_zeros, :].index.year.value_counts().sort_values(ascending = False))\n",
    "print(100 * '-')\n",
    "\n",
    "print('Month:')\n",
    "print(X_train.iloc[non_zeros, :].index.month.value_counts().sort_values(ascending = False))\n",
    "print(100 * '-')\n",
    "\n",
    "print('Week day:')\n",
    "# Here, weekday gives a number where 0 is Monday and 6 is Sunday. We then map these numbers to their string names.\n",
    "print(X_train.iloc[non_zeros, :].index.weekday.map({0: 'Monday', 1: 'Tuesday', 2: 'Wednesday', 3: 'Thursday', 4: 'Friday', 5: 'Saturday', 6: 'Sunday'})\n",
    "      .value_counts().sort_values(ascending = False))\n",
    "print(100 * '-')\n",
    "\n",
    "print('Hour:')\n",
    "print(X_train.iloc[non_zeros, :].index.hour.value_counts().sort_values(ascending = False))"
   ]
  },
  {
   "cell_type": "code",
   "execution_count": null,
   "id": "8839f0de",
   "metadata": {},
   "outputs": [],
   "source": []
  }
 ],
 "metadata": {
  "kernelspec": {
   "display_name": "Python 3 (ipykernel)",
   "language": "python",
   "name": "python3"
  },
  "language_info": {
   "codemirror_mode": {
    "name": "ipython",
    "version": 3
   },
   "file_extension": ".py",
   "mimetype": "text/x-python",
   "name": "python",
   "nbconvert_exporter": "python",
   "pygments_lexer": "ipython3",
   "version": "3.9.7"
  }
 },
 "nbformat": 4,
 "nbformat_minor": 5
}
