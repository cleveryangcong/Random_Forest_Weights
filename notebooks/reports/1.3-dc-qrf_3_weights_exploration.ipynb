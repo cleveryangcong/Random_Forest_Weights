{
 "cells": [
  {
   "cell_type": "code",
   "execution_count": 1,
   "id": "051905f0",
   "metadata": {},
   "outputs": [],
   "source": [
    "# Path setup\n",
    "import sys\n",
    "import os\n",
    "\n",
    "sys.path.append(\"/home/dchen/Random_Forest_Weights/\")\n",
    "\n",
    "# Basics:\n",
    "import pandas as pd\n",
    "import numpy as np\n",
    "\n",
    "pd.set_option('display.max_columns', None)\n",
    "\n",
    "# Visualizations\n",
    "import matplotlib.pyplot as plt\n",
    "import seaborn as sns\n",
    "\n",
    "# Helpful:\n",
    "from sklearn.model_selection import train_test_split\n",
    "\n",
    "# Pipeline and ColumnsTransformer:\n",
    "from sklearn.pipeline import Pipeline\n",
    "from sklearn.compose import ColumnTransformer\n",
    "from sklearn.impute import SimpleImputer\n",
    "from sklearn.preprocessing import OneHotEncoder, LabelEncoder, StandardScaler\n",
    "from sklearn.model_selection import GridSearchCV, RandomizedSearchCV\n",
    "\n",
    "# models:\n",
    "import statsmodels.api as sm\n",
    "\n",
    "# my functions:\n",
    "from src_rf.methods.calc_mean import *\n",
    "from src_rf.methods.calc_weights import *\n",
    "from src_rf.methods.calc_dist import *\n",
    "from src_rf.datasets.qrf_3.load_weights_qrf_3 import * \n",
    "from src_rf.datasets.qrf_3.load_specific_weights_qrf_3 import * \n",
    "from src_rf.methods.filter_weights_rf import * \n",
    "from src_rf.methods.filter_specific_weights_rf import * "
   ]
  },
  {
   "cell_type": "markdown",
   "id": "8b891b07",
   "metadata": {},
   "source": [
    "### 0. Setup"
   ]
  },
  {
   "cell_type": "code",
   "execution_count": 2,
   "id": "caf3a8f3",
   "metadata": {},
   "outputs": [],
   "source": [
    "dir_path = \"/Data/Delong_BA_Data/rf_weights/qrf_3/\""
   ]
  },
  {
   "cell_type": "code",
   "execution_count": 3,
   "id": "70ec71eb",
   "metadata": {},
   "outputs": [],
   "source": [
    "batch_size = 500"
   ]
  },
  {
   "cell_type": "markdown",
   "id": "537987ca",
   "metadata": {},
   "source": [
    "### 1. Load Data, Modify and Split"
   ]
  },
  {
   "cell_type": "code",
   "execution_count": 4,
   "id": "c52574bb",
   "metadata": {},
   "outputs": [],
   "source": [
    "df = pd.read_csv(\"/home/dchen/Random_Forest_Weights/src_rf/data/energy_data_hourly.csv\"\n",
    "                 , index_col = 'datetime', parse_dates=True)\n",
    "\n",
    "df.drop(['residual_energy_usage', 'pump_storage'], inplace = True, axis =  1)\n",
    "# Extract the year from the index\n",
    "df['Year'] = df.index.year\n",
    "# 1. Extract weekday name\n",
    "df['weekday'] = df.index.day_name()\n",
    "\n",
    "# 2. Ordinal encode 'hour', 'weekday', 'month', and 'Year'\n",
    "# (In this case, 'hour', 'month', and 'Year' are already ordinal, so just encoding 'weekday')\n",
    "weekday_ordering = [\"Monday\", \"Tuesday\", \"Wednesday\", \"Thursday\", \"Friday\", \"Saturday\", \"Sunday\"]\n",
    "df['weekday'] = df['weekday'].astype(pd.CategoricalDtype(categories=weekday_ordering, ordered=True))\n",
    "df['weekday'] = df['weekday'].cat.codes\n",
    "\n",
    "# No need to change the 'Year' column as you want it in ordinal form\n",
    "\n",
    "# 3. Add a count variable\n",
    "df['Count'] = range(df.shape[0])\n",
    "\n",
    "# Drop unnecessary columns\n",
    "columns_to_drop = ['Friday', 'Monday', 'Saturday', 'Sunday', 'Thursday', 'Tuesday', 'Wednesday']\n",
    "df.drop(columns=columns_to_drop, inplace=True)\n",
    "    \n",
    "df['Count'] = range(0, df.shape[0])"
   ]
  },
  {
   "cell_type": "code",
   "execution_count": 5,
   "id": "ee4b26ca",
   "metadata": {},
   "outputs": [],
   "source": [
    "X = df.drop('total_energy_usage', axis = 1)\n",
    "y = df['total_energy_usage']\n",
    "X_train, X_test, y_train, y_test = train_test_split(X, y, test_size= 0.3 ,shuffle=False, random_state=42)"
   ]
  },
  {
   "cell_type": "markdown",
   "id": "88520d15",
   "metadata": {},
   "source": [
    "### 2. Load qrf_2 weights"
   ]
  },
  {
   "cell_type": "markdown",
   "id": "d8664ed4",
   "metadata": {},
   "source": [
    "#### 2.1 Test Date to look at"
   ]
  },
  {
   "cell_type": "code",
   "execution_count": 6,
   "id": "4b8e9280",
   "metadata": {},
   "outputs": [],
   "source": [
    "test_date = 10"
   ]
  },
  {
   "cell_type": "code",
   "execution_count": 7,
   "id": "9ea1064e",
   "metadata": {},
   "outputs": [],
   "source": [
    "qrf_3_weights = load_specific_weights_qrf_3(dir_path, test_date)"
   ]
  },
  {
   "cell_type": "markdown",
   "id": "f5106956",
   "metadata": {},
   "source": [
    "### 3. Weight Exploration"
   ]
  },
  {
   "cell_type": "code",
   "execution_count": 8,
   "id": "2b336d6a",
   "metadata": {
    "scrolled": true
   },
   "outputs": [
    {
     "name": "stdout",
     "output_type": "stream",
     "text": [
      "hour           2\n",
      "month          6\n",
      "Year        2020\n",
      "weekday        4\n",
      "Count      47738\n",
      "Name: 2020-06-12 02:00:00, dtype: int64\n"
     ]
    }
   ],
   "source": [
    "print(X_test.iloc[test_date, 0:][X_test.iloc[test_date, 0:] != 0])"
   ]
  },
  {
   "cell_type": "markdown",
   "id": "d9062db9",
   "metadata": {},
   "source": [
    "#### 3.2 Load Weights"
   ]
  },
  {
   "cell_type": "code",
   "execution_count": 9,
   "id": "172d7286",
   "metadata": {
    "scrolled": true
   },
   "outputs": [
    {
     "data": {
      "text/plain": [
       "0.9999999999999999"
      ]
     },
     "execution_count": 9,
     "metadata": {},
     "output_type": "execute_result"
    }
   ],
   "source": [
    "qrf_3_weight_0 = filter_specific_weight_rf(qrf_3_weights , test_date, batch_size)\n",
    "qrf_3_weight_0.sum()"
   ]
  },
  {
   "cell_type": "markdown",
   "id": "246a80cc",
   "metadata": {},
   "source": [
    "#### 3.3 Non-Zero Values"
   ]
  },
  {
   "cell_type": "code",
   "execution_count": 11,
   "id": "1dbac636",
   "metadata": {},
   "outputs": [
    {
     "data": {
      "image/png": "[encoded data removed]",
      "text/plain": [
       "<Figure size 432x288 with 1 Axes>"
      ]
     },
     "metadata": {
      "needs_background": "light"
     },
     "output_type": "display_data"
    }
   ],
   "source": [
    "plt.plot(X_train.index, qrf_3_weight_0)\n",
    "plt.show()"
   ]
  },
  {
   "cell_type": "code",
   "execution_count": 12,
   "id": "770710f1",
   "metadata": {},
   "outputs": [],
   "source": [
    "non_zeros =  np.where(qrf_3_weight_0 != 0)[0]"
   ]
  },
  {
   "cell_type": "code",
   "execution_count": 13,
   "id": "b64b12a1",
   "metadata": {},
   "outputs": [
    {
     "name": "stdout",
     "output_type": "stream",
     "text": [
      "Year:\n",
      "2015    1232\n",
      "2016    1230\n",
      "2018    1225\n",
      "2019    1225\n",
      "2017    1218\n",
      "2020     372\n",
      "Name: datetime, dtype: int64\n",
      "----------------------------------------------------------------------------------------------------\n",
      "Month:\n",
      "5     954\n",
      "4     924\n",
      "6     834\n",
      "8     804\n",
      "10    798\n",
      "7     792\n",
      "9     768\n",
      "12    328\n",
      "11    300\n",
      "Name: datetime, dtype: int64\n",
      "----------------------------------------------------------------------------------------------------\n",
      "Week day:\n",
      "Thursday     1143\n",
      "Wednesday    1137\n",
      "Tuesday      1135\n",
      "Friday       1125\n",
      "Monday        984\n",
      "Saturday      978\n",
      "Name: datetime, dtype: int64\n",
      "----------------------------------------------------------------------------------------------------\n",
      "Hour:\n",
      "0    1096\n",
      "1    1086\n",
      "2    1086\n",
      "3    1082\n",
      "4    1078\n",
      "5    1074\n",
      "Name: datetime, dtype: int64\n"
     ]
    }
   ],
   "source": [
    "print('Year:')\n",
    "print(X_train.iloc[non_zeros, :].index.year.value_counts().sort_values(ascending = False))\n",
    "print(100 * '-')\n",
    "\n",
    "print('Month:')\n",
    "print(X_train.iloc[non_zeros, :].index.month.value_counts().sort_values(ascending = False))\n",
    "print(100 * '-')\n",
    "\n",
    "print('Week day:')\n",
    "# Here, weekday gives a number where 0 is Monday and 6 is Sunday. We then map these numbers to their string names.\n",
    "print(X_train.iloc[non_zeros, :].index.weekday.map({0: 'Monday', 1: 'Tuesday', 2: 'Wednesday', 3: 'Thursday', 4: 'Friday', 5: 'Saturday', 6: 'Sunday'})\n",
    "      .value_counts().sort_values(ascending = False))\n",
    "print(100 * '-')\n",
    "\n",
    "print('Hour:')\n",
    "print(X_train.iloc[non_zeros, :].index.hour.value_counts().sort_values(ascending = False))"
   ]
  },
  {
   "cell_type": "code",
   "execution_count": null,
   "id": "8839f0de",
   "metadata": {},
   "outputs": [],
   "source": []
  }
 ],
 "metadata": {
  "kernelspec": {
   "display_name": "Python 3 (ipykernel)",
   "language": "python",
   "name": "python3"
  },
  "language_info": {
   "codemirror_mode": {
    "name": "ipython",
    "version": 3
   },
   "file_extension": ".py",
   "mimetype": "text/x-python",
   "name": "python",
   "nbconvert_exporter": "python",
   "pygments_lexer": "ipython3",
   "version": "3.9.7"
  }
 },
 "nbformat": 4,
 "nbformat_minor": 5
}
