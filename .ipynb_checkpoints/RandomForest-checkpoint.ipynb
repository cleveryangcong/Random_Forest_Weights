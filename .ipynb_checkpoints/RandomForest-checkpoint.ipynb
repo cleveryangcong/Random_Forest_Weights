{
 "cells": [
  {
   "cell_type": "code",
   "execution_count": 11,
   "id": "d0725663-55be-4f3c-a705-339fd7c1a511",
   "metadata": {},
   "outputs": [
    {
     "name": "stdout",
     "output_type": "stream",
     "text": [
      "The lab_black extension is already loaded. To reload it, use:\n",
      "  %reload_ext lab_black\n"
     ]
    }
   ],
   "source": [
    "%load_ext lab_black"
   ]
  },
  {
   "cell_type": "code",
   "execution_count": 12,
   "id": "57784f5e-ede6-4f6d-9e44-a299e2f7b177",
   "metadata": {},
   "outputs": [],
   "source": [
    "import pandas as pd\n",
    "import numpy as np\n",
    "import matplotlib.pyplot as plt\n",
    "\n",
    "from sklearn.tree import DecisionTreeRegressor\n",
    "from sklearn.ensemble import RandomForestRegressor\n",
    "from sklearn import tree\n",
    "from sklearn.datasets import load_diabetes\n",
    "from sklearn.model_selection import train_test_split\n",
    "\n",
    "from DecisionTreeFunctions import *"
   ]
  },
  {
   "cell_type": "code",
   "execution_count": 13,
   "id": "bfa69521-316d-4dbd-a0ce-3135bb0e57fb",
   "metadata": {},
   "outputs": [],
   "source": [
    "diabetes = load_diabetes()\n",
    "df = pd.DataFrame(\n",
    "    data=np.c_[diabetes[\"data\"], diabetes[\"target\"]],\n",
    "    columns=diabetes[\"feature_names\"] + [\"target\"],\n",
    ")"
   ]
  },
  {
   "cell_type": "code",
   "execution_count": 14,
   "id": "ce3f5931-bcdb-4f3f-bbdf-71fef74e7288",
   "metadata": {},
   "outputs": [],
   "source": [
    "X = df.iloc[:, :-1].to_numpy(dtype=\"float32\")\n",
    "y = df.iloc[:, -1:].to_numpy().flatten()"
   ]
  },
  {
   "cell_type": "code",
   "execution_count": 15,
   "id": "f11b0c76-5eab-4a45-b9f5-8ca36749edda",
   "metadata": {},
   "outputs": [],
   "source": [
    "X_train, X_test, y_train, y_test = train_test_split(X, y, test_size=0.2)"
   ]
  },
  {
   "cell_type": "markdown",
   "id": "1b7ed648-7b95-4f18-810d-1c8cc2eddd84",
   "metadata": {},
   "source": [
    "### Model Training: Random Forest"
   ]
  },
  {
   "cell_type": "code",
   "execution_count": 57,
   "id": "930cbf39-023d-4cd4-ab3a-2df88c11568f",
   "metadata": {},
   "outputs": [],
   "source": [
    "rf = RandomForestRegressor(n_estimators=3)"
   ]
  },
  {
   "cell_type": "code",
   "execution_count": 58,
   "id": "e96194e0-0464-45ff-b6fe-be56480d4027",
   "metadata": {},
   "outputs": [
    {
     "data": {
      "text/html": [
       "<style>#sk-container-id-3 {color: black;background-color: white;}#sk-container-id-3 pre{padding: 0;}#sk-container-id-3 div.sk-toggleable {background-color: white;}#sk-container-id-3 label.sk-toggleable__label {cursor: pointer;display: block;width: 100%;margin-bottom: 0;padding: 0.3em;box-sizing: border-box;text-align: center;}#sk-container-id-3 label.sk-toggleable__label-arrow:before {content: \"▸\";float: left;margin-right: 0.25em;color: #696969;}#sk-container-id-3 label.sk-toggleable__label-arrow:hover:before {color: black;}#sk-container-id-3 div.sk-estimator:hover label.sk-toggleable__label-arrow:before {color: black;}#sk-container-id-3 div.sk-toggleable__content {max-height: 0;max-width: 0;overflow: hidden;text-align: left;background-color: #f0f8ff;}#sk-container-id-3 div.sk-toggleable__content pre {margin: 0.2em;color: black;border-radius: 0.25em;background-color: #f0f8ff;}#sk-container-id-3 input.sk-toggleable__control:checked~div.sk-toggleable__content {max-height: 200px;max-width: 100%;overflow: auto;}#sk-container-id-3 input.sk-toggleable__control:checked~label.sk-toggleable__label-arrow:before {content: \"▾\";}#sk-container-id-3 div.sk-estimator input.sk-toggleable__control:checked~label.sk-toggleable__label {background-color: #d4ebff;}#sk-container-id-3 div.sk-label input.sk-toggleable__control:checked~label.sk-toggleable__label {background-color: #d4ebff;}#sk-container-id-3 input.sk-hidden--visually {border: 0;clip: rect(1px 1px 1px 1px);clip: rect(1px, 1px, 1px, 1px);height: 1px;margin: -1px;overflow: hidden;padding: 0;position: absolute;width: 1px;}#sk-container-id-3 div.sk-estimator {font-family: monospace;background-color: #f0f8ff;border: 1px dotted black;border-radius: 0.25em;box-sizing: border-box;margin-bottom: 0.5em;}#sk-container-id-3 div.sk-estimator:hover {background-color: #d4ebff;}#sk-container-id-3 div.sk-parallel-item::after {content: \"\";width: 100%;border-bottom: 1px solid gray;flex-grow: 1;}#sk-container-id-3 div.sk-label:hover label.sk-toggleable__label {background-color: #d4ebff;}#sk-container-id-3 div.sk-serial::before {content: \"\";position: absolute;border-left: 1px solid gray;box-sizing: border-box;top: 0;bottom: 0;left: 50%;z-index: 0;}#sk-container-id-3 div.sk-serial {display: flex;flex-direction: column;align-items: center;background-color: white;padding-right: 0.2em;padding-left: 0.2em;position: relative;}#sk-container-id-3 div.sk-item {position: relative;z-index: 1;}#sk-container-id-3 div.sk-parallel {display: flex;align-items: stretch;justify-content: center;background-color: white;position: relative;}#sk-container-id-3 div.sk-item::before, #sk-container-id-3 div.sk-parallel-item::before {content: \"\";position: absolute;border-left: 1px solid gray;box-sizing: border-box;top: 0;bottom: 0;left: 50%;z-index: -1;}#sk-container-id-3 div.sk-parallel-item {display: flex;flex-direction: column;z-index: 1;position: relative;background-color: white;}#sk-container-id-3 div.sk-parallel-item:first-child::after {align-self: flex-end;width: 50%;}#sk-container-id-3 div.sk-parallel-item:last-child::after {align-self: flex-start;width: 50%;}#sk-container-id-3 div.sk-parallel-item:only-child::after {width: 0;}#sk-container-id-3 div.sk-dashed-wrapped {border: 1px dashed gray;margin: 0 0.4em 0.5em 0.4em;box-sizing: border-box;padding-bottom: 0.4em;background-color: white;}#sk-container-id-3 div.sk-label label {font-family: monospace;font-weight: bold;display: inline-block;line-height: 1.2em;}#sk-container-id-3 div.sk-label-container {text-align: center;}#sk-container-id-3 div.sk-container {/* jupyter's `normalize.less` sets `[hidden] { display: none; }` but bootstrap.min.css set `[hidden] { display: none !important; }` so we also need the `!important` here to be able to override the default hidden behavior on the sphinx rendered scikit-learn.org. See: https://github.com/scikit-learn/scikit-learn/issues/21755 */display: inline-block !important;position: relative;}#sk-container-id-3 div.sk-text-repr-fallback {display: none;}</style><div id=\"sk-container-id-3\" class=\"sk-top-container\"><div class=\"sk-text-repr-fallback\"><pre>RandomForestRegressor(n_estimators=3)</pre><b>In a Jupyter environment, please rerun this cell to show the HTML representation or trust the notebook. <br />On GitHub, the HTML representation is unable to render, please try loading this page with nbviewer.org.</b></div><div class=\"sk-container\" hidden><div class=\"sk-item\"><div class=\"sk-estimator sk-toggleable\"><input class=\"sk-toggleable__control sk-hidden--visually\" id=\"sk-estimator-id-3\" type=\"checkbox\" checked><label for=\"sk-estimator-id-3\" class=\"sk-toggleable__label sk-toggleable__label-arrow\">RandomForestRegressor</label><div class=\"sk-toggleable__content\"><pre>RandomForestRegressor(n_estimators=3)</pre></div></div></div></div></div>"
      ],
      "text/plain": [
       "RandomForestRegressor(n_estimators=3)"
      ]
     },
     "execution_count": 58,
     "metadata": {},
     "output_type": "execute_result"
    }
   ],
   "source": [
    "rf.fit(X_train, y_train)"
   ]
  },
  {
   "cell_type": "code",
   "execution_count": 59,
   "id": "98438cec-d4c1-422f-9e93-fd014660b5d7",
   "metadata": {},
   "outputs": [],
   "source": [
    "rf_estimators = rf.estimators_"
   ]
  },
  {
   "cell_type": "code",
   "execution_count": 188,
   "id": "6d1dafea-eb7d-40c5-9d22-53e7c60bde7d",
   "metadata": {},
   "outputs": [],
   "source": [
    "leaf_nodes = []\n",
    "y_values_leaves = []\n",
    "X_values_leaves = []\n",
    "X_ids_leaves = []\n",
    "weights_leaves = (\n",
    "    []\n",
    ")  # 3-Dimensional with 1. Number of tree, 2. Number of leafs per tree, 3. Length of y_train\n",
    "for tree in rf_estimators:\n",
    "    a, b, c, d, e = calc_obs_distribution(tree, X_train, y_train)\n",
    "    leaf_nodes.append(a)\n",
    "    y_values_leaves.append(b)\n",
    "    X_values_leaves.append(c)\n",
    "    X_ids_leaves.append(d)\n",
    "    weights_leaves.append(e)"
   ]
  },
  {
   "cell_type": "code",
   "execution_count": 195,
   "id": "f9a2ad52-9a5f-4225-b8b3-d3cf2256455d",
   "metadata": {},
   "outputs": [],
   "source": [
    "def calc_weights_rf(rf, X_test, y_train, leaf_nodes_trees, weights_leaves_trees):\n",
    "    '''\n",
    "    Method to calculate the mean prediction and weights of a random forest\n",
    "    \n",
    "    Input: \n",
    "        param rf: Fully fitted random Forest\n",
    "        param X_test: OOS test data\n",
    "        param y_train: Data used to train the RF\n",
    "        param leaf_nodes_trees: 3-Dimensional: 1. number_trees, 2. number_leaf_nodes, \n",
    "                                3. array with leaf node indexes\n",
    "        param weights_leaves_trees: 3-Dimensional: 1. number_trees, 2. number_leaf_nodes\n",
    "                                    3. array with weights of individual leaf_nodes\n",
    "    \n",
    "    Output: \n",
    "        weights_all: list of length X_test with weights used to calculate mean prediction\n",
    "        mean_preds: List of mean predictions\n",
    "    '''\n",
    "    # Calculate index of the leaf that each sample is predicted as in all trees\n",
    "    X_test_id_leaves = []  # dim: num_trees x len_X_test\n",
    "    for tree in rf.estimators_:  # iterate number of tree times\n",
    "        X_test_id_leaves.append(tree.apply(X_test))\n",
    "\n",
    "    weights_all = []\n",
    "    mean_preds = []\n",
    "    for i in range(len(X_test)):  # iterate number of X_test times\n",
    "        weight_k = np.zeros(y_train.shape)\n",
    "        for j in range(len(X_test_id_leaves)):  # iterate number of trees times\n",
    "            X_id = X_test_id_leaves[j][i]\n",
    "            index = np.where(leaf_nodes_trees[j] == X_id)[0][\n",
    "                0\n",
    "            ]  # Calculate index of test\n",
    "            weight_k = weight_k + weights_leaves_trees[j][index]\n",
    "        weight = weight_k / len(X_test_id_leaves)\n",
    "        weights_all.append(weight)\n",
    "        mean_preds.append(np.dot(weight, y_train))\n",
    "\n",
    "    return weights_all, mean_preds"
   ]
  },
  {
   "cell_type": "code",
   "execution_count": 196,
   "id": "22277dd8-74f5-490a-bbf7-ede842070bd8",
   "metadata": {},
   "outputs": [],
   "source": [
    "weights, mean_preds = calc_weights_rf(rf, X_test, y_train, leaf_nodes, weights_leaves)"
   ]
  },
  {
   "cell_type": "code",
   "execution_count": 198,
   "id": "d94014cc-5046-4908-a843-6e4022bcad37",
   "metadata": {},
   "outputs": [
    {
     "data": {
      "text/plain": [
       "[248.3333333333333,\n",
       " 100.66666666666666,\n",
       " 89.0,\n",
       " 121.22222222222221,\n",
       " 232.40476190476187,\n",
       " 194.57142857142856,\n",
       " 240.99999999999997,\n",
       " 126.88888888888889,\n",
       " 87.66666666666666,\n",
       " 262.66666666666663]"
      ]
     },
     "execution_count": 198,
     "metadata": {},
     "output_type": "execute_result"
    }
   ],
   "source": [
    "mean_preds[0:10]"
   ]
  },
  {
   "cell_type": "code",
   "execution_count": 107,
   "id": "c37da705-8c27-4a5a-978e-d6f09bdbc70a",
   "metadata": {},
   "outputs": [
    {
     "data": {
      "text/plain": [
       "array([223.        , 105.66666667,  80.66666667, 110.33333333,\n",
       "       239.        , 156.66666667, 216.66666667, 130.        ,\n",
       "        87.66666667, 257.33333333, 175.66666667, 229.        ,\n",
       "       110.        , 163.33333333,  64.33333333, 192.        ,\n",
       "        81.66666667,  93.33333333, 122.        ,  77.33333333,\n",
       "        81.66666667, 103.33333333, 164.        , 118.33333333,\n",
       "        90.        , 227.33333333, 184.66666667, 107.66666667,\n",
       "       215.33333333, 144.33333333, 236.        , 113.        ,\n",
       "       113.        , 117.33333333, 146.        , 151.66666667,\n",
       "       246.33333333, 117.33333333, 224.66666667, 197.66666667,\n",
       "       134.66666667, 217.66666667, 193.33333333, 264.        ,\n",
       "       211.        , 112.        ,  94.66666667,  88.        ,\n",
       "       127.33333333,  67.66666667, 113.33333333, 174.33333333,\n",
       "       193.66666667,  88.33333333, 222.66666667, 252.66666667,\n",
       "       131.66666667,  94.        , 253.33333333, 188.33333333,\n",
       "        69.66666667, 155.66666667, 116.66666667, 234.33333333,\n",
       "       112.        , 151.33333333,  65.66666667,  65.66666667,\n",
       "       100.66666667, 116.33333333,  67.33333333,  82.        ,\n",
       "       253.        , 247.        ,  60.33333333, 246.33333333,\n",
       "       147.66666667, 241.66666667, 225.33333333, 258.33333333,\n",
       "       110.66666667, 259.66666667,  83.        , 262.66666667,\n",
       "       214.66666667, 184.66666667, 140.        , 166.        ,\n",
       "        61.        ])"
      ]
     },
     "execution_count": 107,
     "metadata": {},
     "output_type": "execute_result"
    }
   ],
   "source": [
    "rf.predict(X_test)"
   ]
  },
  {
   "cell_type": "code",
   "execution_count": null,
   "id": "cb89cdad-48d8-4eca-a8fa-bed50a8be717",
   "metadata": {},
   "outputs": [],
   "source": []
  },
  {
   "cell_type": "code",
   "execution_count": null,
   "id": "194df708-627d-4a6a-8c7d-7eafffd9bafe",
   "metadata": {},
   "outputs": [],
   "source": []
  },
  {
   "cell_type": "code",
   "execution_count": null,
   "id": "b98b9403-6601-4d78-afbb-c2b98b413f9a",
   "metadata": {},
   "outputs": [],
   "source": []
  },
  {
   "cell_type": "code",
   "execution_count": null,
   "id": "fd92a5db-d5d3-4d11-814d-fec990fe4705",
   "metadata": {},
   "outputs": [],
   "source": []
  },
  {
   "cell_type": "code",
   "execution_count": null,
   "id": "3895d904-ae5d-470d-9c5a-c18cba7bfb1e",
   "metadata": {},
   "outputs": [],
   "source": []
  },
  {
   "cell_type": "code",
   "execution_count": null,
   "id": "aba68022-8935-42db-aa6b-5ec85d95d977",
   "metadata": {},
   "outputs": [],
   "source": []
  }
 ],
 "metadata": {
  "kernelspec": {
   "display_name": "Python 3 (ipykernel)",
   "language": "python",
   "name": "python3"
  },
  "language_info": {
   "codemirror_mode": {
    "name": "ipython",
    "version": 3
   },
   "file_extension": ".py",
   "mimetype": "text/x-python",
   "name": "python",
   "nbconvert_exporter": "python",
   "pygments_lexer": "ipython3",
   "version": "3.8.5"
  }
 },
 "nbformat": 4,
 "nbformat_minor": 5
}
